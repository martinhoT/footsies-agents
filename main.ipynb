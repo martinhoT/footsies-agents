{
 "cells": [
  {
   "cell_type": "markdown",
   "metadata": {},
   "source": [
    "# Testing grounds"
   ]
  },
  {
   "cell_type": "markdown",
   "metadata": {},
   "source": [
    "## Setup"
   ]
  },
  {
   "cell_type": "markdown",
   "metadata": {},
   "source": [
    "### Imports"
   ]
  },
  {
   "cell_type": "code",
   "execution_count": 1,
   "metadata": {},
   "outputs": [],
   "source": [
    "import os\n",
    "import numpy as np\n",
    "from main import load_agent_model, train\n",
    "import gymnasium as gym\n",
    "from gymnasium.wrappers.flatten_observation import FlattenObservation\n",
    "from footsies_gym.envs.footsies import FootsiesEnv\n",
    "from footsies_gym.wrappers.normalization import FootsiesNormalized\n",
    "from footsies_gym.wrappers.action_comb_disc import FootsiesActionCombinationsDiscretized\n",
    "from footsies_gym.wrappers.statistics import FootsiesStatistics\n",
    "from footsies_gym.wrappers.frame_skip import FootsiesFrameSkipped\n",
    "from importlib import reload\n",
    "import pprint\n",
    "\n",
    "pp = pprint.PrettyPrinter(indent=4)"
   ]
  },
  {
   "cell_type": "markdown",
   "metadata": {},
   "source": [
    "### Environment"
   ]
  },
  {
   "cell_type": "markdown",
   "metadata": {},
   "source": [
    "#### Footsies"
   ]
  },
  {
   "cell_type": "code",
   "execution_count": 2,
   "metadata": {},
   "outputs": [],
   "source": [
    "human_testing_kwargs = {\n",
    "    \"fast_forward\": False,\n",
    "    \"vs_player\": True,\n",
    "}\n",
    "\n",
    "normal_testing_kwargs = {\n",
    "    \"frame_delay\": 0,\n",
    "    \"dense_reward\": True,\n",
    "}\n",
    "\n",
    "different_addresses_kwargs = {\n",
    "    \"game_port\": 14000,\n",
    "    \"opponent_port\": 14001,\n",
    "}"
   ]
  },
  {
   "cell_type": "code",
   "execution_count": 3,
   "metadata": {},
   "outputs": [],
   "source": [
    "footsies_env = FootsiesEnv(\n",
    "    game_path=\"../Footsies-Gym/Build/FOOTSIES.x86_64\",\n",
    "    **normal_testing_kwargs,\n",
    "    # **human_testing_kwargs,\n",
    "    **different_addresses_kwargs,\n",
    "    render_mode=\"human\",\n",
    "    log_file=os.path.join(os.getcwd(), \"out.log\"),\n",
    "    log_file_overwrite=True,\n",
    ")\n",
    "\n",
    "statistics = FootsiesStatistics(footsies_env)\n",
    "\n",
    "FRAME_SKIP = True\n",
    "\n",
    "env = FootsiesActionCombinationsDiscretized(\n",
    "    FlattenObservation(\n",
    "        FootsiesNormalized(statistics)\n",
    "        if not FRAME_SKIP\n",
    "        else FootsiesFrameSkipped(FootsiesNormalized(statistics))\n",
    "    )\n",
    ")"
   ]
  },
  {
   "cell_type": "markdown",
   "metadata": {},
   "source": [
    "#### CartPole"
   ]
  },
  {
   "cell_type": "code",
   "execution_count": 3,
   "metadata": {},
   "outputs": [],
   "source": [
    "env = gym.make(\"CartPole-v1\")"
   ]
  },
  {
   "cell_type": "markdown",
   "metadata": {},
   "source": [
    "## Environment testing"
   ]
  },
  {
   "cell_type": "code",
   "execution_count": 4,
   "metadata": {},
   "outputs": [],
   "source": [
    "def report_env(obs, info, reward = None, terminated = None, truncated = None):\n",
    "    print(\"Observation:\")\n",
    "    pp.pprint(obs)\n",
    "\n",
    "    if reward is not None or terminated is not None or truncated is not None:\n",
    "        print()\n",
    "    if reward is not None:\n",
    "        print(\"Reward:\", reward)\n",
    "    if terminated is not None:\n",
    "        print(\"Terminated:\", terminated)\n",
    "    if truncated is not None:\n",
    "        print(\"Truncated:\", truncated)\n",
    "\n",
    "    print()\n",
    "    print(\"Info:\")\n",
    "    pp.pprint(info)"
   ]
  },
  {
   "cell_type": "code",
   "execution_count": 66,
   "metadata": {},
   "outputs": [
    {
     "name": "stdout",
     "output_type": "stream",
     "text": [
      "{'guard': [1.0, 1.0], 'move': [0, 0], 'move_frame': [0.0, 0.0], 'position': [-0.45454545454545453, 0.45454545454545453]}\n",
      "Observation:\n",
      "array([ 1.        ,  1.        ,  1.        ,  0.        ,  0.        ,\n",
      "        0.        ,  0.        ,  0.        ,  0.        ,  0.        ,\n",
      "        0.        ,  0.        ,  0.        ,  0.        ,  0.        ,\n",
      "        0.        ,  0.        ,  0.        , -0.45454547,  0.45454547])\n",
      "None\n",
      "\n",
      "Info:\n",
      "{   'frame': 0,\n",
      "    'p1_action': (False, False, False),\n",
      "    'p2_action': (False, False, False)}\n",
      "None\n"
     ]
    }
   ],
   "source": [
    "obs, info = env.reset()\n",
    "report_env(obs, info)"
   ]
  },
  {
   "cell_type": "code",
   "execution_count": 176,
   "metadata": {},
   "outputs": [
    {
     "name": "stdout",
     "output_type": "stream",
     "text": [
      "{'guard': [0.0, 0.0], 'move': [0, 1], 'move_frame': [0.0, 0.0], 'position': [-0.8381816473874178, 0.24909024888818912]}\n",
      "Observation:\n",
      "array([ 0.        ,  0.        ,  0.        ,  1.        ,  0.        ,\n",
      "        0.        ,  0.        ,  0.        ,  0.        ,  0.        ,\n",
      "        0.        ,  0.        ,  0.        ,  0.        ,  0.        ,\n",
      "        0.        ,  0.        ,  0.        , -0.83818167,  0.24909025])\n",
      "None\n",
      "\n",
      "Reward: 0.0\n",
      "Terminated: False\n",
      "Truncated: False\n",
      "\n",
      "Info:\n",
      "{   'frame': 1002,\n",
      "    'p1_action': (False, False, False),\n",
      "    'p2_action': (True, False, False)}\n",
      "None\n"
     ]
    }
   ],
   "source": [
    "obs, reward, terminated, truncated, info = env.step(env.action_space.sample())\n",
    "report_env(obs, info, reward, terminated, truncated)"
   ]
  },
  {
   "cell_type": "code",
   "execution_count": 9,
   "metadata": {},
   "outputs": [
    {
     "name": "stdout",
     "output_type": "stream",
     "text": [
      "Env reset\n",
      "0.3\n",
      "0.7\n",
      "Env reset\n",
      "0.3\n",
      "0.7\n",
      "Env reset\n",
      "0.3\n",
      "0.7\n",
      "Env reset\n",
      "0.3\n",
      "0.7\n",
      "Env reset\n",
      "0.3\n",
      "0.7\n"
     ]
    }
   ],
   "source": [
    "for e in range(5):\n",
    "    print(\"Env reset\")\n",
    "    obs, info = env.reset()\n",
    "    terminated, truncated = False, False\n",
    "\n",
    "    while not (terminated or truncated):\n",
    "        obs, reward, terminated, truncated, info = env.step(env.action_space.sample())\n",
    "        if reward != 0.0:\n",
    "            print(reward)"
   ]
  },
  {
   "cell_type": "markdown",
   "metadata": {},
   "source": [
    "## Brisket testing"
   ]
  },
  {
   "cell_type": "markdown",
   "metadata": {},
   "source": [
    "### Create agent"
   ]
  },
  {
   "cell_type": "code",
   "execution_count": 5,
   "metadata": {},
   "outputs": [],
   "source": [
    "import torch\n",
    "from agents.brisket.agent import FootsiesAgent as BrisketAgent\n",
    "from agents.brisket.loggables import get_loggables as get_brisket_loggables\n",
    "from agents.logger import TrainingLoggerWrapper"
   ]
  },
  {
   "cell_type": "markdown",
   "metadata": {},
   "source": [
    "For reloading in case changes were made"
   ]
  },
  {
   "cell_type": "code",
   "execution_count": 21,
   "metadata": {},
   "outputs": [
    {
     "data": {
      "text/plain": [
       "<module 'agents.base' from '/home/martinho/projects/footsies-agents/agents/base.py'>"
      ]
     },
     "execution_count": 21,
     "metadata": {},
     "output_type": "execute_result"
    }
   ],
   "source": [
    "import agents.brisket.agent\n",
    "import agents.logger\n",
    "import agents.base\n",
    "reload(agents.brisket.agent)\n",
    "reload(agents.logger)\n",
    "reload(agents.base)"
   ]
  },
  {
   "cell_type": "code",
   "execution_count": 6,
   "metadata": {},
   "outputs": [],
   "source": [
    "brisket = {\n",
    "    \"Footsies\": lambda: BrisketAgent(\n",
    "        observation_space=env.observation_space,\n",
    "        action_space=env.action_space,\n",
    "        \n",
    "        # For testing\n",
    "        epsilon=0,\n",
    "        epsilon_decay_rate=0,\n",
    "        min_epsilon=0,\n",
    "    ),\n",
    "    \"CartPole\": lambda: BrisketAgent(\n",
    "        observation_space=env.observation_space,\n",
    "        action_space=env.action_space,\n",
    "\n",
    "        shallow=True,\n",
    "        shallow_size=4,\n",
    "        epsilon_decay_rate=0.001,\n",
    "    )\n",
    "}[\"Footsies\"]()"
   ]
  },
  {
   "cell_type": "code",
   "execution_count": 29,
   "metadata": {},
   "outputs": [],
   "source": [
    "brisket = TrainingLoggerWrapper(\n",
    "    brisket,\n",
    "    float(\"+inf\"),  # never log\n",
    "    cummulative_reward=False,\n",
    "    win_rate=False,\n",
    "    test_states_number=5000,\n",
    "    **get_brisket_loggables(brisket),\n",
    ")"
   ]
  },
  {
   "cell_type": "code",
   "execution_count": 7,
   "metadata": {},
   "outputs": [
    {
     "name": "stdout",
     "output_type": "stream",
     "text": [
      "Agent loaded\n"
     ]
    }
   ],
   "source": [
    "load_agent_model(brisket, \"brisket_frameskipped\")"
   ]
  },
  {
   "cell_type": "markdown",
   "metadata": {},
   "source": [
    "### Test output of a single state"
   ]
  },
  {
   "cell_type": "code",
   "execution_count": 39,
   "metadata": {},
   "outputs": [],
   "source": [
    "experience = np.array([t[0] for t in brisket.test_states])"
   ]
  },
  {
   "cell_type": "code",
   "execution_count": 44,
   "metadata": {},
   "outputs": [
    {
     "data": {
      "text/plain": [
       "1018"
      ]
     },
     "execution_count": 44,
     "metadata": {},
     "output_type": "execute_result"
    }
   ],
   "source": [
    "(experience[:, 0] != 1.0).sum()"
   ]
  },
  {
   "cell_type": "code",
   "execution_count": 74,
   "metadata": {},
   "outputs": [],
   "source": [
    "from footsies_gym.utils import get_dict_obs_from_vector_obs\n",
    "from footsies_gym.wrappers.normalization import FootsiesNormalized"
   ]
  },
  {
   "cell_type": "code",
   "execution_count": 80,
   "metadata": {},
   "outputs": [],
   "source": [
    "import footsies_gym.wrappers.normalization\n",
    "import footsies_gym.utils"
   ]
  },
  {
   "cell_type": "code",
   "execution_count": 79,
   "metadata": {},
   "outputs": [
    {
     "data": {
      "text/plain": [
       "<module 'footsies_gym.wrappers.normalization' from '/home/martinho/projects/Footsies-Gym/footsies-gym/footsies_gym/wrappers/normalization.py'>"
      ]
     },
     "execution_count": 79,
     "metadata": {},
     "output_type": "execute_result"
    }
   ],
   "source": [
    "reload(footsies_gym.utils)\n",
    "reload(footsies_gym.wrappers.normalization)"
   ]
  },
  {
   "cell_type": "code",
   "execution_count": 77,
   "metadata": {},
   "outputs": [],
   "source": [
    "FootsiesNormalized = footsies_gym.wrappers.normalization.FootsiesNormalized"
   ]
  },
  {
   "cell_type": "code",
   "execution_count": 81,
   "metadata": {},
   "outputs": [
    {
     "data": {
      "text/plain": [
       "{'guard': [3.0, 3.0],\n",
       " 'move': [0, 0],\n",
       " 'move_frame': [0.0, 0.0],\n",
       " 'position': [-2.0000000596046448, 2.0000000596046448]}"
      ]
     },
     "execution_count": 81,
     "metadata": {},
     "output_type": "execute_result"
    }
   ],
   "source": [
    "footsies_gym.utils.get_dict_obs_from_vector_obs(e, normalized=True, flattened=True)"
   ]
  },
  {
   "cell_type": "code",
   "execution_count": 47,
   "metadata": {},
   "outputs": [],
   "source": [
    "e = experience[0, :]"
   ]
  },
  {
   "cell_type": "code",
   "execution_count": 60,
   "metadata": {},
   "outputs": [
    {
     "data": {
      "text/plain": [
       "0"
      ]
     },
     "execution_count": 60,
     "metadata": {},
     "output_type": "execute_result"
    }
   ],
   "source": [
    "np.argwhere(e[17:17+15] == 1.0).item()"
   ]
  },
  {
   "cell_type": "code",
   "execution_count": 64,
   "metadata": {},
   "outputs": [
    {
     "data": {
      "text/plain": [
       "-0.4545454680919647"
      ]
     },
     "execution_count": 64,
     "metadata": {},
     "output_type": "execute_result"
    }
   ],
   "source": [
    "e[34]"
   ]
  },
  {
   "cell_type": "code",
   "execution_count": 50,
   "metadata": {},
   "outputs": [
    {
     "data": {
      "text/plain": [
       "[1.0, 1.0]"
      ]
     },
     "execution_count": 50,
     "metadata": {},
     "output_type": "execute_result"
    }
   ],
   "source": [
    "list(e[2:])"
   ]
  },
  {
   "cell_type": "markdown",
   "metadata": {},
   "source": [
    "### Training"
   ]
  },
  {
   "cell_type": "code",
   "execution_count": 8,
   "metadata": {},
   "outputs": [
    {
     "name": "stdout",
     "output_type": "stream",
     "text": [
      "Preprocessing... done!\n"
     ]
    },
    {
     "name": "stderr",
     "output_type": "stream",
     "text": [
      "100%|██████████| 1000/1000 [05:17<00:00,  3.15it/s]\n"
     ]
    }
   ],
   "source": [
    "train(brisket, env, 1000)"
   ]
  },
  {
   "cell_type": "code",
   "execution_count": 9,
   "metadata": {},
   "outputs": [],
   "source": [
    "env.close()"
   ]
  },
  {
   "cell_type": "code",
   "execution_count": 10,
   "metadata": {},
   "outputs": [
    {
     "name": "stdout",
     "output_type": "stream",
     "text": [
      "882\n",
      "0\n"
     ]
    }
   ],
   "source": [
    "print(sum(statistics.metric_special_moves_per_episode))\n",
    "print(sum(statistics.metric_special_moves_from_neutral_per_episode))"
   ]
  },
  {
   "cell_type": "code",
   "execution_count": 44,
   "metadata": {},
   "outputs": [
    {
     "name": "stdout",
     "output_type": "stream",
     "text": [
      "Observation:\n",
      "array([ 0.03174489, -0.02254564, -0.01391198,  0.02921619], dtype=float32)\n",
      "\n",
      "Info:\n",
      "{}\n"
     ]
    }
   ],
   "source": [
    "prev_obs = None\n",
    "obs, info = env.reset()\n",
    "report_env(obs, info)"
   ]
  },
  {
   "cell_type": "code",
   "execution_count": 45,
   "metadata": {},
   "outputs": [
    {
     "data": {
      "text/plain": [
       "'Right'"
      ]
     },
     "execution_count": 45,
     "metadata": {},
     "output_type": "execute_result"
    }
   ],
   "source": [
    "action = brisket.act(obs)\n",
    "\"Left\" if action == 0 else \"Right\""
   ]
  },
  {
   "cell_type": "code",
   "execution_count": 47,
   "metadata": {},
   "outputs": [
    {
     "name": "stdout",
     "output_type": "stream",
     "text": [
      "Observation:\n",
      "array([ 0.03474943,  0.3680826 , -0.01868412, -0.56468004], dtype=float32)\n",
      "\n",
      "Reward: 1.0\n",
      "Terminated: False\n",
      "Truncated: False\n",
      "\n",
      "Info:\n",
      "{}\n"
     ]
    }
   ],
   "source": [
    "prev_obs = obs\n",
    "obs, reward, truncated, terminated, info = env.step(action)\n",
    "report_env(obs, info, reward, truncated, terminated)"
   ]
  },
  {
   "cell_type": "code",
   "execution_count": 50,
   "metadata": {},
   "outputs": [
    {
     "data": {
      "text/plain": [
       "[-0.47500109672546387, -0.2977886199951172]"
      ]
     },
     "execution_count": 50,
     "metadata": {},
     "output_type": "execute_result"
    }
   ],
   "source": [
    "brisket.q_values(brisket._obs_to_torch(obs))"
   ]
  },
  {
   "cell_type": "markdown",
   "metadata": {},
   "source": [
    "### Statistics"
   ]
  },
  {
   "cell_type": "code",
   "execution_count": 15,
   "metadata": {},
   "outputs": [
    {
     "data": {
      "text/plain": [
       "264"
      ]
     },
     "execution_count": 15,
     "metadata": {},
     "output_type": "execute_result"
    }
   ],
   "source": [
    "print(\"Number of special moves:\", sum(statistics.metric_special_moves_per_episode))"
   ]
  },
  {
   "cell_type": "markdown",
   "metadata": {},
   "source": [
    "### Self-play test"
   ]
  },
  {
   "cell_type": "code",
   "execution_count": 8,
   "metadata": {},
   "outputs": [],
   "source": [
    "pi = brisket.extract_policy(env)"
   ]
  },
  {
   "cell_type": "code",
   "execution_count": 11,
   "metadata": {},
   "outputs": [
    {
     "data": {
      "text/plain": [
       "False"
      ]
     },
     "execution_count": 11,
     "metadata": {},
     "output_type": "execute_result"
    }
   ],
   "source": [
    "footsies_env.set_opponent(pi)"
   ]
  },
  {
   "cell_type": "code",
   "execution_count": 12,
   "metadata": {},
   "outputs": [
    {
     "name": "stdout",
     "output_type": "stream",
     "text": [
      "Preprocessing... done!\n"
     ]
    },
    {
     "name": "stderr",
     "output_type": "stream",
     "text": [
      "  0%|          | 0/10 [00:16<?, ?it/s]"
     ]
    },
    {
     "name": "stdout",
     "output_type": "stream",
     "text": [
      "Game closed manually, quitting training\n"
     ]
    },
    {
     "name": "stderr",
     "output_type": "stream",
     "text": [
      "\n"
     ]
    }
   ],
   "source": [
    "train(brisket, env, 10)"
   ]
  },
  {
   "cell_type": "markdown",
   "metadata": {},
   "source": [
    "## ..."
   ]
  }
 ],
 "metadata": {
  "kernelspec": {
   "display_name": "venv",
   "language": "python",
   "name": "python3"
  },
  "language_info": {
   "codemirror_mode": {
    "name": "ipython",
    "version": 3
   },
   "file_extension": ".py",
   "mimetype": "text/x-python",
   "name": "python",
   "nbconvert_exporter": "python",
   "pygments_lexer": "ipython3",
   "version": "3.10.12"
  }
 },
 "nbformat": 4,
 "nbformat_minor": 2
}
