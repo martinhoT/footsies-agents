{
 "cells": [
  {
   "cell_type": "markdown",
   "metadata": {},
   "source": [
    "# Testing grounds"
   ]
  },
  {
   "cell_type": "markdown",
   "metadata": {},
   "source": [
    "## Setup"
   ]
  },
  {
   "cell_type": "markdown",
   "metadata": {},
   "source": [
    "### Imports"
   ]
  },
  {
   "cell_type": "code",
   "execution_count": 6,
   "metadata": {},
   "outputs": [],
   "source": [
    "import os\n",
    "import numpy as np\n",
    "from main import load_agent_model, train\n",
    "import gymnasium as gym\n",
    "from gymnasium.wrappers.flatten_observation import FlattenObservation\n",
    "from footsies_gym.envs.footsies import FootsiesEnv\n",
    "from footsies_gym.wrappers.normalization import FootsiesNormalized\n",
    "from footsies_gym.wrappers.action_comb_disc import FootsiesActionCombinationsDiscretized\n",
    "from footsies_gym.wrappers.statistics import FootsiesStatistics\n",
    "from footsies_gym.wrappers.frame_skip import FootsiesFrameSkipped\n",
    "from importlib import reload\n",
    "import pprint\n",
    "\n",
    "pp = pprint.PrettyPrinter(indent=4)"
   ]
  },
  {
   "cell_type": "markdown",
   "metadata": {},
   "source": [
    "### Environment"
   ]
  },
  {
   "cell_type": "markdown",
   "metadata": {},
   "source": [
    "#### Footsies"
   ]
  },
  {
   "cell_type": "code",
   "execution_count": 2,
   "metadata": {},
   "outputs": [],
   "source": [
    "human_testing_kwargs = {\n",
    "    \"fast_forward\": False,\n",
    "    \"vs_player\": True,\n",
    "}\n",
    "\n",
    "normal_testing_kwargs = {\n",
    "    \"frame_delay\": 0,\n",
    "    \"dense_reward\": True,\n",
    "}\n",
    "\n",
    "different_addresses_kwargs = {\n",
    "    \"game_port\": 15000,\n",
    "    \"opponent_port\": 15001,\n",
    "}"
   ]
  },
  {
   "cell_type": "code",
   "execution_count": 3,
   "metadata": {},
   "outputs": [],
   "source": [
    "footsies_env = FootsiesEnv(\n",
    "    game_path=\"../Footsies-Gym/Build/FOOTSIES.x86_64\",\n",
    "    **normal_testing_kwargs,\n",
    "    # **human_testing_kwargs,\n",
    "    **different_addresses_kwargs,\n",
    "    render_mode=\"human\",\n",
    "    log_file=os.path.join(os.getcwd(), \"out.log\"),\n",
    "    log_file_overwrite=True,\n",
    ")\n",
    "\n",
    "statistics = FootsiesStatistics(footsies_env)\n",
    "\n",
    "FRAME_SKIP = True\n",
    "\n",
    "env = FootsiesActionCombinationsDiscretized(\n",
    "    FlattenObservation(\n",
    "        FootsiesNormalized(statistics)\n",
    "        if not FRAME_SKIP\n",
    "        else FootsiesFrameSkipped(FootsiesNormalized(statistics))\n",
    "    )\n",
    ")"
   ]
  },
  {
   "cell_type": "markdown",
   "metadata": {},
   "source": [
    "#### CartPole"
   ]
  },
  {
   "cell_type": "code",
   "execution_count": 3,
   "metadata": {},
   "outputs": [],
   "source": [
    "env = gym.make(\"CartPole-v1\")"
   ]
  },
  {
   "cell_type": "markdown",
   "metadata": {},
   "source": [
    "## Environment testing"
   ]
  },
  {
   "cell_type": "code",
   "execution_count": 4,
   "metadata": {},
   "outputs": [],
   "source": [
    "def report_env(obs, info, reward = None, terminated = None, truncated = None):\n",
    "    print(\"Observation:\")\n",
    "    pp.pprint(obs)\n",
    "\n",
    "    if reward is not None or terminated is not None or truncated is not None:\n",
    "        print()\n",
    "    if reward is not None:\n",
    "        print(\"Reward:\", reward)\n",
    "    if terminated is not None:\n",
    "        print(\"Terminated:\", terminated)\n",
    "    if truncated is not None:\n",
    "        print(\"Truncated:\", truncated)\n",
    "\n",
    "    print()\n",
    "    print(\"Info:\")\n",
    "    pp.pprint(info)"
   ]
  },
  {
   "cell_type": "code",
   "execution_count": 66,
   "metadata": {},
   "outputs": [
    {
     "name": "stdout",
     "output_type": "stream",
     "text": [
      "{'guard': [1.0, 1.0], 'move': [0, 0], 'move_frame': [0.0, 0.0], 'position': [-0.45454545454545453, 0.45454545454545453]}\n",
      "Observation:\n",
      "array([ 1.        ,  1.        ,  1.        ,  0.        ,  0.        ,\n",
      "        0.        ,  0.        ,  0.        ,  0.        ,  0.        ,\n",
      "        0.        ,  0.        ,  0.        ,  0.        ,  0.        ,\n",
      "        0.        ,  0.        ,  0.        , -0.45454547,  0.45454547])\n",
      "None\n",
      "\n",
      "Info:\n",
      "{   'frame': 0,\n",
      "    'p1_action': (False, False, False),\n",
      "    'p2_action': (False, False, False)}\n",
      "None\n"
     ]
    }
   ],
   "source": [
    "obs, info = env.reset()\n",
    "report_env(obs, info)"
   ]
  },
  {
   "cell_type": "code",
   "execution_count": 176,
   "metadata": {},
   "outputs": [
    {
     "name": "stdout",
     "output_type": "stream",
     "text": [
      "{'guard': [0.0, 0.0], 'move': [0, 1], 'move_frame': [0.0, 0.0], 'position': [-0.8381816473874178, 0.24909024888818912]}\n",
      "Observation:\n",
      "array([ 0.        ,  0.        ,  0.        ,  1.        ,  0.        ,\n",
      "        0.        ,  0.        ,  0.        ,  0.        ,  0.        ,\n",
      "        0.        ,  0.        ,  0.        ,  0.        ,  0.        ,\n",
      "        0.        ,  0.        ,  0.        , -0.83818167,  0.24909025])\n",
      "None\n",
      "\n",
      "Reward: 0.0\n",
      "Terminated: False\n",
      "Truncated: False\n",
      "\n",
      "Info:\n",
      "{   'frame': 1002,\n",
      "    'p1_action': (False, False, False),\n",
      "    'p2_action': (True, False, False)}\n",
      "None\n"
     ]
    }
   ],
   "source": [
    "obs, reward, terminated, truncated, info = env.step(env.action_space.sample())\n",
    "report_env(obs, info, reward, terminated, truncated)"
   ]
  },
  {
   "cell_type": "code",
   "execution_count": 9,
   "metadata": {},
   "outputs": [
    {
     "name": "stdout",
     "output_type": "stream",
     "text": [
      "Env reset\n",
      "0.3\n",
      "0.7\n",
      "Env reset\n",
      "0.3\n",
      "0.7\n",
      "Env reset\n",
      "0.3\n",
      "0.7\n",
      "Env reset\n",
      "0.3\n",
      "0.7\n",
      "Env reset\n",
      "0.3\n",
      "0.7\n"
     ]
    }
   ],
   "source": [
    "for e in range(5):\n",
    "    print(\"Env reset\")\n",
    "    obs, info = env.reset()\n",
    "    terminated, truncated = False, False\n",
    "\n",
    "    while not (terminated or truncated):\n",
    "        obs, reward, terminated, truncated, info = env.step(env.action_space.sample())\n",
    "        if reward != 0.0:\n",
    "            print(reward)"
   ]
  },
  {
   "cell_type": "markdown",
   "metadata": {},
   "source": [
    "## Brisket testing"
   ]
  },
  {
   "cell_type": "markdown",
   "metadata": {},
   "source": [
    "### Create agent"
   ]
  },
  {
   "cell_type": "code",
   "execution_count": 5,
   "metadata": {},
   "outputs": [],
   "source": [
    "import torch\n",
    "from agents.brisket.agent import FootsiesAgent as BrisketAgent\n",
    "from agents.brisket.loggables import get_loggables as get_brisket_loggables\n",
    "from agents.logger import TrainingLoggerWrapper"
   ]
  },
  {
   "cell_type": "markdown",
   "metadata": {},
   "source": [
    "For reloading in case changes were made"
   ]
  },
  {
   "cell_type": "code",
   "execution_count": 21,
   "metadata": {},
   "outputs": [
    {
     "data": {
      "text/plain": [
       "<module 'agents.base' from '/home/martinho/projects/footsies-agents/agents/base.py'>"
      ]
     },
     "execution_count": 21,
     "metadata": {},
     "output_type": "execute_result"
    }
   ],
   "source": [
    "import agents.brisket.agent\n",
    "import agents.logger\n",
    "import agents.base\n",
    "reload(agents.brisket.agent)\n",
    "reload(agents.logger)\n",
    "reload(agents.base)"
   ]
  },
  {
   "cell_type": "code",
   "execution_count": 6,
   "metadata": {},
   "outputs": [],
   "source": [
    "brisket = {\n",
    "    \"Footsies\": lambda: BrisketAgent(\n",
    "        observation_space=env.observation_space,\n",
    "        action_space=env.action_space,\n",
    "        \n",
    "        # For testing\n",
    "        epsilon=0,\n",
    "        epsilon_decay_rate=0,\n",
    "        min_epsilon=0,\n",
    "    ),\n",
    "    \"CartPole\": lambda: BrisketAgent(\n",
    "        observation_space=env.observation_space,\n",
    "        action_space=env.action_space,\n",
    "\n",
    "        shallow=True,\n",
    "        shallow_size=4,\n",
    "        epsilon_decay_rate=0.001,\n",
    "    )\n",
    "}[\"Footsies\"]()"
   ]
  },
  {
   "cell_type": "code",
   "execution_count": 29,
   "metadata": {},
   "outputs": [],
   "source": [
    "brisket = TrainingLoggerWrapper(\n",
    "    brisket,\n",
    "    float(\"+inf\"),  # never log\n",
    "    cummulative_reward=False,\n",
    "    win_rate=False,\n",
    "    test_states_number=5000,\n",
    "    **get_brisket_loggables(brisket),\n",
    ")"
   ]
  },
  {
   "cell_type": "code",
   "execution_count": 7,
   "metadata": {},
   "outputs": [
    {
     "name": "stdout",
     "output_type": "stream",
     "text": [
      "Agent loaded\n"
     ]
    }
   ],
   "source": [
    "load_agent_model(brisket, \"brisket_frameskipped\")"
   ]
  },
  {
   "cell_type": "markdown",
   "metadata": {},
   "source": [
    "### Test output of a single state"
   ]
  },
  {
   "cell_type": "code",
   "execution_count": 39,
   "metadata": {},
   "outputs": [],
   "source": [
    "experience = np.array([t[0] for t in brisket.test_states])"
   ]
  },
  {
   "cell_type": "code",
   "execution_count": 44,
   "metadata": {},
   "outputs": [
    {
     "data": {
      "text/plain": [
       "1018"
      ]
     },
     "execution_count": 44,
     "metadata": {},
     "output_type": "execute_result"
    }
   ],
   "source": [
    "(experience[:, 0] != 1.0).sum()"
   ]
  },
  {
   "cell_type": "code",
   "execution_count": 74,
   "metadata": {},
   "outputs": [],
   "source": [
    "from footsies_gym.utils import get_dict_obs_from_vector_obs\n",
    "from footsies_gym.wrappers.normalization import FootsiesNormalized"
   ]
  },
  {
   "cell_type": "code",
   "execution_count": 80,
   "metadata": {},
   "outputs": [],
   "source": [
    "import footsies_gym.wrappers.normalization\n",
    "import footsies_gym.utils"
   ]
  },
  {
   "cell_type": "code",
   "execution_count": 79,
   "metadata": {},
   "outputs": [
    {
     "data": {
      "text/plain": [
       "<module 'footsies_gym.wrappers.normalization' from '/home/martinho/projects/Footsies-Gym/footsies-gym/footsies_gym/wrappers/normalization.py'>"
      ]
     },
     "execution_count": 79,
     "metadata": {},
     "output_type": "execute_result"
    }
   ],
   "source": [
    "reload(footsies_gym.utils)\n",
    "reload(footsies_gym.wrappers.normalization)"
   ]
  },
  {
   "cell_type": "code",
   "execution_count": 77,
   "metadata": {},
   "outputs": [],
   "source": [
    "FootsiesNormalized = footsies_gym.wrappers.normalization.FootsiesNormalized"
   ]
  },
  {
   "cell_type": "code",
   "execution_count": 81,
   "metadata": {},
   "outputs": [
    {
     "data": {
      "text/plain": [
       "{'guard': [3.0, 3.0],\n",
       " 'move': [0, 0],\n",
       " 'move_frame': [0.0, 0.0],\n",
       " 'position': [-2.0000000596046448, 2.0000000596046448]}"
      ]
     },
     "execution_count": 81,
     "metadata": {},
     "output_type": "execute_result"
    }
   ],
   "source": [
    "footsies_gym.utils.get_dict_obs_from_vector_obs(e, normalized=True, flattened=True)"
   ]
  },
  {
   "cell_type": "code",
   "execution_count": 47,
   "metadata": {},
   "outputs": [],
   "source": [
    "e = experience[0, :]"
   ]
  },
  {
   "cell_type": "code",
   "execution_count": 60,
   "metadata": {},
   "outputs": [
    {
     "data": {
      "text/plain": [
       "0"
      ]
     },
     "execution_count": 60,
     "metadata": {},
     "output_type": "execute_result"
    }
   ],
   "source": [
    "np.argwhere(e[17:17+15] == 1.0).item()"
   ]
  },
  {
   "cell_type": "code",
   "execution_count": 64,
   "metadata": {},
   "outputs": [
    {
     "data": {
      "text/plain": [
       "-0.4545454680919647"
      ]
     },
     "execution_count": 64,
     "metadata": {},
     "output_type": "execute_result"
    }
   ],
   "source": [
    "e[34]"
   ]
  },
  {
   "cell_type": "code",
   "execution_count": 50,
   "metadata": {},
   "outputs": [
    {
     "data": {
      "text/plain": [
       "[1.0, 1.0]"
      ]
     },
     "execution_count": 50,
     "metadata": {},
     "output_type": "execute_result"
    }
   ],
   "source": [
    "list(e[2:])"
   ]
  },
  {
   "cell_type": "markdown",
   "metadata": {},
   "source": [
    "### Training"
   ]
  },
  {
   "cell_type": "code",
   "execution_count": 8,
   "metadata": {},
   "outputs": [
    {
     "name": "stdout",
     "output_type": "stream",
     "text": [
      "Preprocessing... done!\n"
     ]
    },
    {
     "name": "stderr",
     "output_type": "stream",
     "text": [
      "100%|██████████| 1000/1000 [05:17<00:00,  3.15it/s]\n"
     ]
    }
   ],
   "source": [
    "train(brisket, env, 1000)"
   ]
  },
  {
   "cell_type": "code",
   "execution_count": 9,
   "metadata": {},
   "outputs": [],
   "source": [
    "env.close()"
   ]
  },
  {
   "cell_type": "code",
   "execution_count": 10,
   "metadata": {},
   "outputs": [
    {
     "name": "stdout",
     "output_type": "stream",
     "text": [
      "882\n",
      "0\n"
     ]
    }
   ],
   "source": [
    "print(sum(statistics.metric_special_moves_per_episode))\n",
    "print(sum(statistics.metric_special_moves_from_neutral_per_episode))"
   ]
  },
  {
   "cell_type": "code",
   "execution_count": 44,
   "metadata": {},
   "outputs": [
    {
     "name": "stdout",
     "output_type": "stream",
     "text": [
      "Observation:\n",
      "array([ 0.03174489, -0.02254564, -0.01391198,  0.02921619], dtype=float32)\n",
      "\n",
      "Info:\n",
      "{}\n"
     ]
    }
   ],
   "source": [
    "prev_obs = None\n",
    "obs, info = env.reset()\n",
    "report_env(obs, info)"
   ]
  },
  {
   "cell_type": "code",
   "execution_count": 45,
   "metadata": {},
   "outputs": [
    {
     "data": {
      "text/plain": [
       "'Right'"
      ]
     },
     "execution_count": 45,
     "metadata": {},
     "output_type": "execute_result"
    }
   ],
   "source": [
    "action = brisket.act(obs)\n",
    "\"Left\" if action == 0 else \"Right\""
   ]
  },
  {
   "cell_type": "code",
   "execution_count": 47,
   "metadata": {},
   "outputs": [
    {
     "name": "stdout",
     "output_type": "stream",
     "text": [
      "Observation:\n",
      "array([ 0.03474943,  0.3680826 , -0.01868412, -0.56468004], dtype=float32)\n",
      "\n",
      "Reward: 1.0\n",
      "Terminated: False\n",
      "Truncated: False\n",
      "\n",
      "Info:\n",
      "{}\n"
     ]
    }
   ],
   "source": [
    "prev_obs = obs\n",
    "obs, reward, truncated, terminated, info = env.step(action)\n",
    "report_env(obs, info, reward, truncated, terminated)"
   ]
  },
  {
   "cell_type": "code",
   "execution_count": 50,
   "metadata": {},
   "outputs": [
    {
     "data": {
      "text/plain": [
       "[-0.47500109672546387, -0.2977886199951172]"
      ]
     },
     "execution_count": 50,
     "metadata": {},
     "output_type": "execute_result"
    }
   ],
   "source": [
    "brisket.q_values(brisket._obs_to_torch(obs))"
   ]
  },
  {
   "cell_type": "markdown",
   "metadata": {},
   "source": [
    "### Statistics"
   ]
  },
  {
   "cell_type": "code",
   "execution_count": 15,
   "metadata": {},
   "outputs": [
    {
     "data": {
      "text/plain": [
       "264"
      ]
     },
     "execution_count": 15,
     "metadata": {},
     "output_type": "execute_result"
    }
   ],
   "source": [
    "print(\"Number of special moves:\", sum(statistics.metric_special_moves_per_episode))"
   ]
  },
  {
   "cell_type": "markdown",
   "metadata": {},
   "source": [
    "### Self-play test"
   ]
  },
  {
   "cell_type": "code",
   "execution_count": 8,
   "metadata": {},
   "outputs": [],
   "source": [
    "pi = brisket.extract_policy(env)"
   ]
  },
  {
   "cell_type": "code",
   "execution_count": 11,
   "metadata": {},
   "outputs": [
    {
     "data": {
      "text/plain": [
       "False"
      ]
     },
     "execution_count": 11,
     "metadata": {},
     "output_type": "execute_result"
    }
   ],
   "source": [
    "footsies_env.set_opponent(pi)"
   ]
  },
  {
   "cell_type": "code",
   "execution_count": 12,
   "metadata": {},
   "outputs": [
    {
     "name": "stdout",
     "output_type": "stream",
     "text": [
      "Preprocessing... done!\n"
     ]
    },
    {
     "name": "stderr",
     "output_type": "stream",
     "text": [
      "  0%|          | 0/10 [00:16<?, ?it/s]"
     ]
    },
    {
     "name": "stdout",
     "output_type": "stream",
     "text": [
      "Game closed manually, quitting training\n"
     ]
    },
    {
     "name": "stderr",
     "output_type": "stream",
     "text": [
      "\n"
     ]
    }
   ],
   "source": [
    "train(brisket, env, 10)"
   ]
  },
  {
   "cell_type": "markdown",
   "metadata": {},
   "source": [
    "## Importance sampling test"
   ]
  },
  {
   "cell_type": "code",
   "execution_count": 1,
   "metadata": {},
   "outputs": [],
   "source": [
    "import numpy as np\n",
    "import pandas as pd\n",
    "import random"
   ]
  },
  {
   "cell_type": "code",
   "execution_count": 2,
   "metadata": {},
   "outputs": [],
   "source": [
    "np.set_printoptions(precision=2)"
   ]
  },
  {
   "cell_type": "code",
   "execution_count": 3,
   "metadata": {},
   "outputs": [],
   "source": [
    "# rock, paper, scissors\n",
    "def uniform_random_play_vec(r):\n",
    "    r[:] = np.floor(r * 3)\n",
    "\n",
    "def rocky_play_vec(r):\n",
    "    r[r < 0.8] = 0\n",
    "    r[(r < 0.9) & (r >= 0.8)] = 1\n",
    "    r[(r < 1.0) & (r >= 0.9)] = 2\n",
    "\n",
    "def scissors_play_vec(r):\n",
    "    r[r < 0.9] = 2\n",
    "    r[(r < 0.95) & (r >= 0.9)] = 1\n",
    "    r[(r < 1.0) & (r >= 0.95)] = 0"
   ]
  },
  {
   "cell_type": "code",
   "execution_count": 4,
   "metadata": {},
   "outputs": [],
   "source": [
    "# rock, paper, scissors\n",
    "uniform_random_play = lambda: random.randint(0, 2)\n",
    "rocky_play = lambda: 0 if random.random() < 0.8 else random.randint(1, 2)\n",
    "scissors_play = lambda: 2 if random.random() < 0.9 else random.randint(0, 1)"
   ]
  },
  {
   "cell_type": "code",
   "execution_count": 5,
   "metadata": {},
   "outputs": [],
   "source": [
    "# rock, paper, scissors\n",
    "uniform_random_play_table = np.array([1/3, 1/3, 1/3])\n",
    "rocky_play_table = np.array([0.8, 0.1, 0.1])\n",
    "scissors_play_table = np.array([0.05, 0.05, 0.9])"
   ]
  },
  {
   "cell_type": "markdown",
   "metadata": {},
   "source": [
    "The opponent is not part of the state to emulate *unreactablability*.\n",
    "\n",
    "**TODO**: maybe try, at maximum, using the previous state as the state, as it's uncorrelated anyway?"
   ]
  },
  {
   "cell_type": "code",
   "execution_count": 6,
   "metadata": {},
   "outputs": [],
   "source": [
    "def rps(p1, p2):\n",
    "    offset = 1 - p1\n",
    "    reward = ((p1 + offset) % 3) - ((p2 + offset) % 3)\n",
    "    return reward\n",
    "\n",
    "\n",
    "# state is binary: 00 start, 01 p1 won first, 10 p2 won second, 11 match point\n",
    "def rps_episodic(p1, p2, state):\n",
    "    reward = rps(p1, p2)\n",
    "    p1_won = reward > 0\n",
    "    tie = reward == 0\n",
    "\n",
    "    if state == 0:\n",
    "        return 0, (1 if p1_won else 3 if tie else 2)\n",
    "\n",
    "    if state == 1:\n",
    "        if p1_won:\n",
    "            return reward, 4\n",
    "        \n",
    "        return 0, 3\n",
    "    \n",
    "    if state == 2:\n",
    "        if p1_won or tie:\n",
    "            return 0, 3\n",
    "\n",
    "        return reward, 4\n",
    "\n",
    "    if state == 3:\n",
    "        return reward, 4\n",
    "\n",
    "    return None\n",
    "\n",
    "\n",
    "# is_fix -> importance sampling fix\n",
    "def calculate_q_function_td(player, opponent, N: int = int(1e6), lr: float = 0.1, discount: float = 0.0, is_fix: bool = False, is_table = None, episodic: bool = False):\n",
    "    # S x A\n",
    "    q = np.zeros((1, 3)) if not episodic else np.zeros((4, 3))\n",
    "\n",
    "    for _ in range(N):\n",
    "        if episodic:\n",
    "            state = 0\n",
    "            terminated = False\n",
    "            while not terminated:\n",
    "                ours = player()\n",
    "                theirs = opponent()    \n",
    "\n",
    "                reward, next_state = rps_episodic(ours, theirs, state)\n",
    "                terminated = next_state == 4\n",
    "\n",
    "                modifier = 1 / (3 * is_table[theirs]) if is_fix else 1\n",
    "                if not terminated:\n",
    "                    q[state, ours] = q[state, ours] + lr * (modifier * (reward + discount * q[next_state, ours]) - q[state, ours])\n",
    "                else:\n",
    "                    q[state, ours] = q[state, ours] + lr * (modifier * reward - q[state, ours])\n",
    "\n",
    "                state = next_state\n",
    "\n",
    "        else:\n",
    "            ours = player()\n",
    "            theirs = opponent()\n",
    "\n",
    "            reward = rps(ours, theirs)\n",
    "            modifier = 1 / (3 * is_table[theirs]) if is_fix else 1\n",
    "\n",
    "            q[0, ours] = q[0, ours] + lr * (modifier * reward + discount * q[0, ours] - q[0, ours])\n",
    "        \n",
    "    return q\n",
    "\n",
    "\n",
    "# here N is timesteps, not episodes\n",
    "def calculate_q_function_mc(player, opponent, N: int = int(1e6), is_fix: bool = False, is_table = None, episodic: bool = False):\n",
    "    rand = np.random.random((N, 2))\n",
    "    player(rand[:, 0])\n",
    "    opponent(rand[:, 1])\n",
    "\n",
    "    p1 = rand[:, 0].astype(np.int8)\n",
    "    p2 = rand[:, 1].astype(np.int8)\n",
    "\n",
    "    reward = rps(p1, p2)\n",
    "\n",
    "    df = pd.DataFrame(np.array([p1, reward]).T, columns=[\"a\", \"r\"])\n",
    "\n",
    "    if is_fix:\n",
    "        df[\"r\"] = df[\"r\"] / (3 * is_table[p2[:-1]])\n",
    "\n",
    "    return df.groupby(\"a\").mean()"
   ]
  },
  {
   "cell_type": "code",
   "execution_count": 140,
   "metadata": {},
   "outputs": [],
   "source": [
    "def rps_episodic_pandas(df, step: int):\n",
    "    N = df.shape[0]\n",
    "    ixer = np.arange(N // 5) * 5 + step\n",
    "\n",
    "    print(\"a\")\n",
    "\n",
    "    rps_results = rps(df.iloc[ixer][\"p1\"], df.iloc[ixer][\"p2\"])\n",
    "\n",
    "    print(\"b\")\n",
    "\n",
    "    p1_won = rps_results > 0\n",
    "    tie = rps_results == 0\n",
    "    p2_won = rps_results < 0\n",
    "\n",
    "    print(\"c\")\n",
    "\n",
    "    p1_won.index = rps_results.index + 1\n",
    "    tie.index = rps_results.index + 1\n",
    "    p2_won.index = rps_results.index + 1\n",
    "\n",
    "    print(\"d\")\n",
    "\n",
    "    p1_won = p1_won.reindex(index=df.index, fill_value=False)\n",
    "    tie = tie.reindex(index=df.index, fill_value=False)\n",
    "    p2_won = p2_won.reindex(index=df.index, fill_value=False)\n",
    "\n",
    "    print(\"e\")\n",
    "\n",
    "    state = df.iloc[ixer][\"state\"]\n",
    "    state.index = state.index + 1\n",
    "    state.reindex(index=df.index, fill_value=False)\n",
    "\n",
    "    print(\"f\")\n",
    "\n",
    "    # eww\n",
    "    df.loc[p1_won & (state == 0), (\"state\", \"reward\")] = 1, 0\n",
    "    print(\"0\", end=\"\")\n",
    "    df.loc[p1_won & (state == 1), (\"state\", \"reward\")] = 4, 1\n",
    "    print(\"0\", end=\"\")\n",
    "    df.loc[p1_won & (state == 2), (\"state\", \"reward\")] = 3, 0\n",
    "    print(\"0\", end=\"\")\n",
    "    df.loc[p1_won & (state == 3), (\"state\", \"reward\")] = 4, 1\n",
    "    print(\"0\", end=\"\")\n",
    "    df.loc[tie    & (state == 0), (\"state\", \"reward\")] = 3, 0\n",
    "    print(\"0\", end=\"\")\n",
    "    df.loc[tie    & (state == 1), (\"state\", \"reward\")] = 3, 0\n",
    "    print(\"0\", end=\"\")\n",
    "    df.loc[tie    & (state == 2), (\"state\", \"reward\")] = 3, 0\n",
    "    print(\"0\", end=\"\")\n",
    "    df.loc[tie    & (state == 3), (\"state\", \"reward\")] = 4, 0\n",
    "    print(\"0\", end=\"\")\n",
    "    df.loc[p2_won & (state == 0), (\"state\", \"reward\")] = 2, 0\n",
    "    print(\"0\", end=\"\")\n",
    "    df.loc[p2_won & (state == 1), (\"state\", \"reward\")] = 3, 0\n",
    "    print(\"0\", end=\"\")\n",
    "    df.loc[p2_won & (state == 2), (\"state\", \"reward\")] = 4, -1\n",
    "    print(\"0\", end=\"\")\n",
    "    df.loc[p2_won & (state == 3), (\"state\", \"reward\")] = 4, -1\n",
    "    print(\"0\", end=\"\")"
   ]
  },
  {
   "cell_type": "code",
   "execution_count": 21,
   "metadata": {},
   "outputs": [
    {
     "data": {
      "text/plain": [
       "array([[ 0.86, -0.85, -0.01]])"
      ]
     },
     "execution_count": 21,
     "metadata": {},
     "output_type": "execute_result"
    }
   ],
   "source": [
    "calculate_q_function_td(uniform_random_play, scissors_play, N=int(1e5), lr=1e-3, discount=0.0)"
   ]
  },
  {
   "cell_type": "code",
   "execution_count": 9,
   "metadata": {},
   "outputs": [
    {
     "data": {
      "text/html": [
       "<div>\n",
       "<style scoped>\n",
       "    .dataframe tbody tr th:only-of-type {\n",
       "        vertical-align: middle;\n",
       "    }\n",
       "\n",
       "    .dataframe tbody tr th {\n",
       "        vertical-align: top;\n",
       "    }\n",
       "\n",
       "    .dataframe thead th {\n",
       "        text-align: right;\n",
       "    }\n",
       "</style>\n",
       "<table border=\"1\" class=\"dataframe\">\n",
       "  <thead>\n",
       "    <tr style=\"text-align: right;\">\n",
       "      <th></th>\n",
       "      <th>r</th>\n",
       "    </tr>\n",
       "    <tr>\n",
       "      <th>a</th>\n",
       "      <th></th>\n",
       "    </tr>\n",
       "  </thead>\n",
       "  <tbody>\n",
       "    <tr>\n",
       "      <th>0</th>\n",
       "      <td>0.850117</td>\n",
       "    </tr>\n",
       "    <tr>\n",
       "      <th>1</th>\n",
       "      <td>-0.850102</td>\n",
       "    </tr>\n",
       "    <tr>\n",
       "      <th>2</th>\n",
       "      <td>-0.000105</td>\n",
       "    </tr>\n",
       "  </tbody>\n",
       "</table>\n",
       "</div>"
      ],
      "text/plain": [
       "          r\n",
       "a          \n",
       "0  0.850117\n",
       "1 -0.850102\n",
       "2 -0.000105"
      ]
     },
     "execution_count": 9,
     "metadata": {},
     "output_type": "execute_result"
    }
   ],
   "source": [
    "calculate_q_function_mc(uniform_random_play_vec, scissors_play_vec, N=int(1e7))"
   ]
  },
  {
   "cell_type": "code",
   "execution_count": 37,
   "metadata": {},
   "outputs": [
    {
     "data": {
      "text/plain": [
       "array([[-0.04,  0.06,  0.01]])"
      ]
     },
     "execution_count": 37,
     "metadata": {},
     "output_type": "execute_result"
    }
   ],
   "source": [
    "calculate_q_function_td(uniform_random_play, scissors_play, N=int(1e5), lr=1e-3, discount=0.0, is_fix=True, is_table=scissors_play_table)"
   ]
  },
  {
   "cell_type": "code",
   "execution_count": 38,
   "metadata": {},
   "outputs": [
    {
     "data": {
      "text/html": [
       "<div>\n",
       "<style scoped>\n",
       "    .dataframe tbody tr th:only-of-type {\n",
       "        vertical-align: middle;\n",
       "    }\n",
       "\n",
       "    .dataframe tbody tr th {\n",
       "        vertical-align: top;\n",
       "    }\n",
       "\n",
       "    .dataframe thead th {\n",
       "        text-align: right;\n",
       "    }\n",
       "</style>\n",
       "<table border=\"1\" class=\"dataframe\">\n",
       "  <thead>\n",
       "    <tr style=\"text-align: right;\">\n",
       "      <th></th>\n",
       "      <th>r</th>\n",
       "    </tr>\n",
       "    <tr>\n",
       "      <th>a</th>\n",
       "      <th></th>\n",
       "    </tr>\n",
       "  </thead>\n",
       "  <tbody>\n",
       "    <tr>\n",
       "      <th>0</th>\n",
       "      <td>-0.000709</td>\n",
       "    </tr>\n",
       "    <tr>\n",
       "      <th>1</th>\n",
       "      <td>0.000795</td>\n",
       "    </tr>\n",
       "    <tr>\n",
       "      <th>2</th>\n",
       "      <td>-0.000647</td>\n",
       "    </tr>\n",
       "  </tbody>\n",
       "</table>\n",
       "</div>"
      ],
      "text/plain": [
       "          r\n",
       "a          \n",
       "0 -0.000709\n",
       "1  0.000795\n",
       "2 -0.000647"
      ]
     },
     "execution_count": 38,
     "metadata": {},
     "output_type": "execute_result"
    }
   ],
   "source": [
    "calculate_q_function_mc(uniform_random_play_vec, scissors_play_vec, N=int(1e7), is_fix=True, is_table=scissors_play_table)"
   ]
  },
  {
   "cell_type": "code",
   "execution_count": 7,
   "metadata": {},
   "outputs": [
    {
     "data": {
      "text/plain": [
       "array([[ 0.01, -0.01,  0.01],\n",
       "       [ 0.35,  0.31,  0.37],\n",
       "       [-0.32, -0.34, -0.33],\n",
       "       [ 0.02, -0.01,  0.  ]])"
      ]
     },
     "execution_count": 7,
     "metadata": {},
     "output_type": "execute_result"
    }
   ],
   "source": [
    "calculate_q_function_td(uniform_random_play, uniform_random_play, N=int(1e5), lr=1e-3, discount=1.0, episodic=True, is_fix=False, is_table=uniform_random_play_table)"
   ]
  },
  {
   "cell_type": "code",
   "execution_count": 25,
   "metadata": {},
   "outputs": [
    {
     "data": {
      "text/plain": [
       "array([[ 0.97, -0.97, -0.01],\n",
       "       [ 0.99, -0.75,  0.05],\n",
       "       [ 0.75, -0.99, -0.06],\n",
       "       [ 0.86, -0.85, -0.01]])"
      ]
     },
     "execution_count": 25,
     "metadata": {},
     "output_type": "execute_result"
    }
   ],
   "source": [
    "calculate_q_function_td(uniform_random_play, scissors_play, N=int(1e5), lr=1e-3, discount=1.0, episodic=True, is_fix=False, is_table=scissors_play_table)"
   ]
  },
  {
   "cell_type": "code",
   "execution_count": 7,
   "metadata": {},
   "outputs": [
    {
     "data": {
      "text/plain": [
       "array([[ 0.01, -0.02, -0.02],\n",
       "       [ 0.34,  0.37,  0.26],\n",
       "       [-0.34, -0.34, -0.35],\n",
       "       [-0.01, -0.03, -0.05]])"
      ]
     },
     "execution_count": 7,
     "metadata": {},
     "output_type": "execute_result"
    }
   ],
   "source": [
    "fixed = calculate_q_function_td(uniform_random_play, scissors_play, N=int(1e5), lr=1e-3, discount=1.0, episodic=True, is_fix=True, is_table=scissors_play_table)\n",
    "fixed"
   ]
  },
  {
   "cell_type": "code",
   "execution_count": 9,
   "metadata": {},
   "outputs": [
    {
     "data": {
      "text/plain": [
       "array([0.05, 0.05, 0.9 ])"
      ]
     },
     "execution_count": 9,
     "metadata": {},
     "output_type": "execute_result"
    }
   ],
   "source": [
    "scissors_play_table"
   ]
  },
  {
   "cell_type": "code",
   "execution_count": 15,
   "metadata": {},
   "outputs": [
    {
     "name": "stdout",
     "output_type": "stream",
     "text": [
      "Q(0, rock): 0.31911791423709474\n",
      "Q(0, paper): -0.2836083944551429\n",
      "Q(0, scissors): -0.00605036003947255\n"
     ]
    }
   ],
   "source": [
    "# Q(0, rock) if assuming scissors player?\n",
    "# Q(0, rock) = P(0 -> 1, rock) max(Q(1, rock) + Q(1, paper) + Q(1, scissors)) + P(0 -> 2, rock) max(Q(2, rock) + Q(2, paper) + Q(2, scissors)) + P(0 -> 3, rock) max(Q(3, rock) + Q(3, paper) + Q(3, scissors))\n",
    "#            = 0.9 * Q(1, .) + 0.05 * Q(2, .) + 0.05 * Q(3, .)\n",
    "# print(\"Q(0, rock):\", np.sum(np.array([0.9, 0.05, 0.05]) * fixed.sum(axis=1)[1:]))\n",
    "print(\"Q(0, rock):\", np.sum(np.array([0.9, 0.05, 0.05]) * fixed.max(axis=1)[1:]))\n",
    "\n",
    "# Q(0, paper) if assuming scissors player?\n",
    "# Q(0, paper) = P(0 -> 1, paper) max(Q(1, rock) + Q(1, paper) + Q(1, scissors)) + P(0 -> 2, paper) max(Q(2, rock) + Q(2, paper) + Q(2, scissors)) + P(0 -> 3, paper) max(Q(3, rock) + Q(3, paper) + Q(3, scissors))\n",
    "#            = 0.05 * Q(1, .) + 0.9 * Q(2, .) + 0.05 * Q(3, .)\n",
    "print(\"Q(0, paper):\", np.sum(np.array([0.05, 0.9, 0.05]) * fixed.max(axis=1)[1:]))\n",
    "\n",
    "# Q(0, scissors) if assuming scissors player?\n",
    "# Q(0, scissors) = P(0 -> 1, scissors) max(Q(1, rock) + Q(1, paper) + Q(1, scissors)) + P(0 -> 2, scissors) max(Q(2, rock) + Q(2, paper) + Q(2, scissors)) + P(0 -> 3, scissors) max(Q(3, rock) + Q(3, paper) + Q(3, scissors))\n",
    "#            = 0.05 * Q(1, .) + 0.05 * Q(2, .) + 0.9 * Q(3, .)\n",
    "print(\"Q(0, scissors):\", np.sum(np.array([0.05, 0.05, 0.9]) * fixed.max(axis=1)[1:]))"
   ]
  },
  {
   "cell_type": "code",
   "execution_count": null,
   "metadata": {},
   "outputs": [],
   "source": [
    "# Through dynamic programming\n",
    "def corrected_q_values(fixed_q_table, ):"
   ]
  },
  {
   "cell_type": "markdown",
   "metadata": {},
   "source": [
    "## Toy experiments"
   ]
  },
  {
   "cell_type": "markdown",
   "metadata": {},
   "source": [
    "### Actor-critic"
   ]
  },
  {
   "cell_type": "code",
   "execution_count": 1,
   "metadata": {},
   "outputs": [],
   "source": [
    "from importlib import reload\n",
    "import agents.a2c.a2c as a2c"
   ]
  },
  {
   "cell_type": "code",
   "execution_count": 2,
   "metadata": {},
   "outputs": [],
   "source": [
    "reload(a2c)\n",
    "ActorNetwork = a2c.ActorNetwork\n",
    "CriticNetwork = a2c.CriticNetwork\n",
    "A2CModule = a2c.A2CModule"
   ]
  },
  {
   "cell_type": "code",
   "execution_count": 3,
   "metadata": {},
   "outputs": [],
   "source": [
    "import gymnasium\n",
    "from gymnasium.wrappers.flatten_observation import FlattenObservation"
   ]
  },
  {
   "cell_type": "code",
   "execution_count": 4,
   "metadata": {},
   "outputs": [],
   "source": [
    "env = FlattenObservation(\n",
    "    gymnasium.make(\n",
    "        \"FrozenLake-v1\",\n",
    "        is_slippery=False,\n",
    "        render_mode=None,\n",
    "    )\n",
    ")\n",
    "\n",
    "action_labels = [\"Move left\", \"Move down\", \"Move right\", \"Move up\"]"
   ]
  },
  {
   "cell_type": "code",
   "execution_count": 6,
   "metadata": {},
   "outputs": [
    {
     "data": {
      "text/plain": [
       "(16, 4)"
      ]
     },
     "execution_count": 6,
     "metadata": {},
     "output_type": "execute_result"
    }
   ],
   "source": [
    "obs_dim = env.observation_space.shape[0]\n",
    "action_dim = env.action_space.n\n",
    "\n",
    "obs_dim, action_dim"
   ]
  },
  {
   "cell_type": "code",
   "execution_count": 8,
   "metadata": {},
   "outputs": [],
   "source": [
    "import numpy as np\n",
    "import torch\n",
    "from torch import nn"
   ]
  },
  {
   "cell_type": "code",
   "execution_count": 9,
   "metadata": {},
   "outputs": [],
   "source": [
    "model = A2CModule(\n",
    "    actor=ActorNetwork(\n",
    "        obs_dim=obs_dim,\n",
    "        action_dim=action_dim,\n",
    "        hidden_layer_sizes=[],\n",
    "        hidden_layer_activation=nn.Identity,\n",
    "    ),\n",
    "    critic=CriticNetwork(\n",
    "        obs_dim=obs_dim,\n",
    "        hidden_layer_sizes=[],\n",
    "        hidden_layer_activation=nn.Identity,\n",
    "    ),\n",
    "    discount=0.99,\n",
    "    actor_learning_rate=1e-2,\n",
    "    critic_learning_rate=1e-2,\n",
    ")"
   ]
  },
  {
   "cell_type": "code",
   "execution_count": 55,
   "metadata": {},
   "outputs": [
    {
     "name": "stdout",
     "output_type": "stream",
     "text": [
      "Observation: [1 0 0 0 0 0 0 0 0 0 0 0 0 0 0 0]\n",
      "Info: {'prob': 1}\n"
     ]
    }
   ],
   "source": [
    "obs, info = env.reset()\n",
    "\n",
    "print(\"Observation:\", obs)\n",
    "print(\"Info:\", info)"
   ]
  },
  {
   "cell_type": "code",
   "execution_count": 47,
   "metadata": {},
   "outputs": [
    {
     "data": {
      "text/plain": [
       "'Move down'"
      ]
     },
     "execution_count": 47,
     "metadata": {},
     "output_type": "execute_result"
    }
   ],
   "source": [
    "action = model.act(obs)\n",
    "action_labels[action]"
   ]
  },
  {
   "cell_type": "code",
   "execution_count": 48,
   "metadata": {},
   "outputs": [
    {
     "name": "stdout",
     "output_type": "stream",
     "text": [
      "Next observation: [1 0 0 0 0 0 0 0 0 0 0 0 0 0 0 0]\n",
      "Reward: 0.0\n",
      "Terminated: False\n",
      "Truncated: False\n",
      "Info {'prob': 0.3333333333333333}\n"
     ]
    }
   ],
   "source": [
    "next_obs, reward, terminated, truncated, info = env.step(action)\n",
    "\n",
    "print(\"Next observation:\", next_obs)\n",
    "print(\"Reward:\", reward)\n",
    "print(\"Terminated:\", terminated)\n",
    "print(\"Truncated:\", truncated)\n",
    "print(\"Info\", info)"
   ]
  },
  {
   "cell_type": "code",
   "execution_count": 46,
   "metadata": {},
   "outputs": [],
   "source": [
    "model.update(obs, next_obs, reward, terminated)\n",
    "obs = next_obs"
   ]
  },
  {
   "cell_type": "code",
   "execution_count": 95,
   "metadata": {},
   "outputs": [],
   "source": [
    "terminated, truncated = True, True"
   ]
  },
  {
   "cell_type": "code",
   "execution_count": 89,
   "metadata": {},
   "outputs": [],
   "source": [
    "from IPython.display import clear_output"
   ]
  },
  {
   "cell_type": "code",
   "execution_count": 96,
   "metadata": {},
   "outputs": [
    {
     "name": "stdout",
     "output_type": "stream",
     "text": [
      "tensor([[-1.0658e+08, -5.3397e+07, -5.2142e+07, -5.2772e+07],\n",
      "        [-3.5489e+07, -5.2408e+07, -5.4007e+07, -5.2408e+07],\n",
      "        [-6.0602e+07, -5.2944e+07, -5.3168e+07, -5.2408e+07],\n",
      "        [-5.2408e+07, -5.4675e+07, -5.3120e+07, -5.2408e+07]])\n"
     ]
    },
    {
     "ename": "KeyboardInterrupt",
     "evalue": "",
     "output_type": "error",
     "traceback": [
      "\u001b[0;31m---------------------------------------------------------------------------\u001b[0m",
      "\u001b[0;31mKeyboardInterrupt\u001b[0m                         Traceback (most recent call last)",
      "Cell \u001b[0;32mIn[96], line 5\u001b[0m\n\u001b[1;32m      3\u001b[0m     action \u001b[38;5;241m=\u001b[39m model\u001b[38;5;241m.\u001b[39mact(obs)\n\u001b[1;32m      4\u001b[0m     next_obs, reward, terminated, truncated, info \u001b[38;5;241m=\u001b[39m env\u001b[38;5;241m.\u001b[39mstep(action)\n\u001b[0;32m----> 5\u001b[0m     \u001b[43mmodel\u001b[49m\u001b[38;5;241;43m.\u001b[39;49m\u001b[43mupdate\u001b[49m\u001b[43m(\u001b[49m\u001b[43mobs\u001b[49m\u001b[43m,\u001b[49m\u001b[43m \u001b[49m\u001b[43mnext_obs\u001b[49m\u001b[43m,\u001b[49m\u001b[43m \u001b[49m\u001b[43mreward\u001b[49m\u001b[43m,\u001b[49m\u001b[43m \u001b[49m\u001b[43mterminated\u001b[49m\u001b[43m)\u001b[49m\n\u001b[1;32m      6\u001b[0m     obs \u001b[38;5;241m=\u001b[39m next_obs\n\u001b[1;32m      8\u001b[0m obs, info \u001b[38;5;241m=\u001b[39m env\u001b[38;5;241m.\u001b[39mreset()\n",
      "File \u001b[0;32m~/projects/footsies-agents/agents/a2c/a2c.py:100\u001b[0m, in \u001b[0;36mA2CModule.update\u001b[0;34m(self, obs, next_obs, reward, terminated)\u001b[0m\n\u001b[1;32m     97\u001b[0m \u001b[38;5;28mself\u001b[39m\u001b[38;5;241m.\u001b[39mcritic_optimizer\u001b[38;5;241m.\u001b[39mstep()\n\u001b[1;32m     99\u001b[0m actor_score \u001b[38;5;241m=\u001b[39m \u001b[38;5;28mself\u001b[39m\u001b[38;5;241m.\u001b[39mcumulative_discount \u001b[38;5;241m*\u001b[39m delta \u001b[38;5;241m*\u001b[39m \u001b[38;5;28mself\u001b[39m\u001b[38;5;241m.\u001b[39maction_distribution\u001b[38;5;241m.\u001b[39mlog_prob(\u001b[38;5;28mself\u001b[39m\u001b[38;5;241m.\u001b[39maction)\n\u001b[0;32m--> 100\u001b[0m \u001b[43mactor_score\u001b[49m\u001b[38;5;241;43m.\u001b[39;49m\u001b[43mbackward\u001b[49m\u001b[43m(\u001b[49m\u001b[43m)\u001b[49m\n\u001b[1;32m    101\u001b[0m \u001b[38;5;28mself\u001b[39m\u001b[38;5;241m.\u001b[39mactor_optimizer\u001b[38;5;241m.\u001b[39mstep()\n\u001b[1;32m    103\u001b[0m \u001b[38;5;28mself\u001b[39m\u001b[38;5;241m.\u001b[39mcumulative_discount \u001b[38;5;241m*\u001b[39m\u001b[38;5;241m=\u001b[39m \u001b[38;5;28mself\u001b[39m\u001b[38;5;241m.\u001b[39mdiscount\n",
      "File \u001b[0;32m~/projects/footsies-agents/venv/lib/python3.10/site-packages/torch/_tensor.py:492\u001b[0m, in \u001b[0;36mTensor.backward\u001b[0;34m(self, gradient, retain_graph, create_graph, inputs)\u001b[0m\n\u001b[1;32m    482\u001b[0m \u001b[38;5;28;01mif\u001b[39;00m has_torch_function_unary(\u001b[38;5;28mself\u001b[39m):\n\u001b[1;32m    483\u001b[0m     \u001b[38;5;28;01mreturn\u001b[39;00m handle_torch_function(\n\u001b[1;32m    484\u001b[0m         Tensor\u001b[38;5;241m.\u001b[39mbackward,\n\u001b[1;32m    485\u001b[0m         (\u001b[38;5;28mself\u001b[39m,),\n\u001b[0;32m   (...)\u001b[0m\n\u001b[1;32m    490\u001b[0m         inputs\u001b[38;5;241m=\u001b[39minputs,\n\u001b[1;32m    491\u001b[0m     )\n\u001b[0;32m--> 492\u001b[0m \u001b[43mtorch\u001b[49m\u001b[38;5;241;43m.\u001b[39;49m\u001b[43mautograd\u001b[49m\u001b[38;5;241;43m.\u001b[39;49m\u001b[43mbackward\u001b[49m\u001b[43m(\u001b[49m\n\u001b[1;32m    493\u001b[0m \u001b[43m    \u001b[49m\u001b[38;5;28;43mself\u001b[39;49m\u001b[43m,\u001b[49m\u001b[43m \u001b[49m\u001b[43mgradient\u001b[49m\u001b[43m,\u001b[49m\u001b[43m \u001b[49m\u001b[43mretain_graph\u001b[49m\u001b[43m,\u001b[49m\u001b[43m \u001b[49m\u001b[43mcreate_graph\u001b[49m\u001b[43m,\u001b[49m\u001b[43m \u001b[49m\u001b[43minputs\u001b[49m\u001b[38;5;241;43m=\u001b[39;49m\u001b[43minputs\u001b[49m\n\u001b[1;32m    494\u001b[0m \u001b[43m\u001b[49m\u001b[43m)\u001b[49m\n",
      "File \u001b[0;32m~/projects/footsies-agents/venv/lib/python3.10/site-packages/torch/autograd/__init__.py:251\u001b[0m, in \u001b[0;36mbackward\u001b[0;34m(tensors, grad_tensors, retain_graph, create_graph, grad_variables, inputs)\u001b[0m\n\u001b[1;32m    246\u001b[0m     retain_graph \u001b[38;5;241m=\u001b[39m create_graph\n\u001b[1;32m    248\u001b[0m \u001b[38;5;66;03m# The reason we repeat the same comment below is that\u001b[39;00m\n\u001b[1;32m    249\u001b[0m \u001b[38;5;66;03m# some Python versions print out the first line of a multi-line function\u001b[39;00m\n\u001b[1;32m    250\u001b[0m \u001b[38;5;66;03m# calls in the traceback and some print out the last line\u001b[39;00m\n\u001b[0;32m--> 251\u001b[0m \u001b[43mVariable\u001b[49m\u001b[38;5;241;43m.\u001b[39;49m\u001b[43m_execution_engine\u001b[49m\u001b[38;5;241;43m.\u001b[39;49m\u001b[43mrun_backward\u001b[49m\u001b[43m(\u001b[49m\u001b[43m  \u001b[49m\u001b[38;5;66;43;03m# Calls into the C++ engine to run the backward pass\u001b[39;49;00m\n\u001b[1;32m    252\u001b[0m \u001b[43m    \u001b[49m\u001b[43mtensors\u001b[49m\u001b[43m,\u001b[49m\n\u001b[1;32m    253\u001b[0m \u001b[43m    \u001b[49m\u001b[43mgrad_tensors_\u001b[49m\u001b[43m,\u001b[49m\n\u001b[1;32m    254\u001b[0m \u001b[43m    \u001b[49m\u001b[43mretain_graph\u001b[49m\u001b[43m,\u001b[49m\n\u001b[1;32m    255\u001b[0m \u001b[43m    \u001b[49m\u001b[43mcreate_graph\u001b[49m\u001b[43m,\u001b[49m\n\u001b[1;32m    256\u001b[0m \u001b[43m    \u001b[49m\u001b[43minputs\u001b[49m\u001b[43m,\u001b[49m\n\u001b[1;32m    257\u001b[0m \u001b[43m    \u001b[49m\u001b[43mallow_unreachable\u001b[49m\u001b[38;5;241;43m=\u001b[39;49m\u001b[38;5;28;43;01mTrue\u001b[39;49;00m\u001b[43m,\u001b[49m\n\u001b[1;32m    258\u001b[0m \u001b[43m    \u001b[49m\u001b[43maccumulate_grad\u001b[49m\u001b[38;5;241;43m=\u001b[39;49m\u001b[38;5;28;43;01mTrue\u001b[39;49;00m\u001b[43m,\u001b[49m\n\u001b[1;32m    259\u001b[0m \u001b[43m\u001b[49m\u001b[43m)\u001b[49m\n",
      "\u001b[0;31mKeyboardInterrupt\u001b[0m: "
     ]
    }
   ],
   "source": [
    "while True:\n",
    "    while not (terminated or truncated):\n",
    "        action = model.act(obs)\n",
    "        next_obs, reward, terminated, truncated, info = env.step(action)\n",
    "        model.update(obs, next_obs, reward, terminated)\n",
    "        obs = next_obs\n",
    "\n",
    "    obs, info = env.reset()\n",
    "    terminated, truncated = False, False\n",
    "\n",
    "    clear_output(wait=True)\n",
    "    print(model.value(torch.eye(16)).reshape(4, 4))"
   ]
  },
  {
   "cell_type": "code",
   "execution_count": 91,
   "metadata": {},
   "outputs": [],
   "source": [
    "env.close()"
   ]
  },
  {
   "cell_type": "code",
   "execution_count": 19,
   "metadata": {},
   "outputs": [
    {
     "ename": "ModuleNotFoundError",
     "evalue": "No module named 'seaborn'",
     "output_type": "error",
     "traceback": [
      "\u001b[0;31m---------------------------------------------------------------------------\u001b[0m",
      "\u001b[0;31mModuleNotFoundError\u001b[0m                       Traceback (most recent call last)",
      "Cell \u001b[0;32mIn[19], line 1\u001b[0m\n\u001b[0;32m----> 1\u001b[0m \u001b[38;5;28;01mimport\u001b[39;00m \u001b[38;5;21;01mseaborn\u001b[39;00m \u001b[38;5;28;01mas\u001b[39;00m \u001b[38;5;21;01msns\u001b[39;00m\n",
      "\u001b[0;31mModuleNotFoundError\u001b[0m: No module named 'seaborn'"
     ]
    }
   ],
   "source": []
  },
  {
   "cell_type": "code",
   "execution_count": 16,
   "metadata": {},
   "outputs": [
    {
     "data": {
      "text/plain": [
       "tensor([[0.2166, 0.2007, 0.3215, 0.2612],\n",
       "        [0.2304, 0.2006, 0.3252, 0.2438],\n",
       "        [0.2533, 0.2103, 0.3196, 0.2168],\n",
       "        [0.2486, 0.2776, 0.2722, 0.2015],\n",
       "        [0.2018, 0.2652, 0.2348, 0.2982],\n",
       "        [0.1976, 0.2591, 0.3411, 0.2022],\n",
       "        [0.2462, 0.2820, 0.2560, 0.2158],\n",
       "        [0.2570, 0.1995, 0.3111, 0.2323],\n",
       "        [0.2260, 0.1888, 0.3169, 0.2683],\n",
       "        [0.2758, 0.2630, 0.2732, 0.1880],\n",
       "        [0.2658, 0.1991, 0.3117, 0.2234],\n",
       "        [0.2246, 0.2422, 0.3198, 0.2135],\n",
       "        [0.2190, 0.2011, 0.3239, 0.2561],\n",
       "        [0.2487, 0.2158, 0.3165, 0.2191],\n",
       "        [0.2400, 0.2399, 0.2362, 0.2840],\n",
       "        [0.2412, 0.2137, 0.2955, 0.2497]])"
      ]
     },
     "execution_count": 16,
     "metadata": {},
     "output_type": "execute_result"
    }
   ],
   "source": [
    "model.policy(torch.eye(16))"
   ]
  },
  {
   "cell_type": "code",
   "execution_count": 22,
   "metadata": {},
   "outputs": [
    {
     "data": {
      "text/plain": [
       "tensor([[[0.2166, 0.2007, 0.3215, 0.2612],\n",
       "         [0.2304, 0.2006, 0.3252, 0.2438],\n",
       "         [0.2533, 0.2103, 0.3196, 0.2168],\n",
       "         [0.2486, 0.2776, 0.2722, 0.2015]],\n",
       "\n",
       "        [[0.2018, 0.2652, 0.2348, 0.2982],\n",
       "         [0.1976, 0.2591, 0.3411, 0.2022],\n",
       "         [0.2462, 0.2820, 0.2560, 0.2158],\n",
       "         [0.2570, 0.1995, 0.3111, 0.2323]],\n",
       "\n",
       "        [[0.2260, 0.1888, 0.3169, 0.2683],\n",
       "         [0.2758, 0.2630, 0.2732, 0.1880],\n",
       "         [0.2658, 0.1991, 0.3117, 0.2234],\n",
       "         [0.2246, 0.2422, 0.3198, 0.2135]],\n",
       "\n",
       "        [[0.2190, 0.2011, 0.3239, 0.2561],\n",
       "         [0.2487, 0.2158, 0.3165, 0.2191],\n",
       "         [0.2400, 0.2399, 0.2362, 0.2840],\n",
       "         [0.2412, 0.2137, 0.2955, 0.2497]]])"
      ]
     },
     "execution_count": 22,
     "metadata": {},
     "output_type": "execute_result"
    }
   ],
   "source": [
    "model.policy(torch.eye(16)).reshape(4, 4, 4)"
   ]
  },
  {
   "cell_type": "code",
   "execution_count": null,
   "metadata": {},
   "outputs": [],
   "source": [
    "def policy_directions_map(model: A2CModule):\n",
    "    directions_base = {0: \"←\", 1: \"↓\", 2: \"→\", 3: \"↑\"}\n",
    "    \n",
    "    probs = model.policy(torch.eye(16)).reshape(4, 4, 4)\n",
    "\n",
    "    return weight, directions"
   ]
  },
  {
   "cell_type": "markdown",
   "metadata": {},
   "source": [
    "## RPS"
   ]
  },
  {
   "cell_type": "code",
   "execution_count": 1,
   "metadata": {},
   "outputs": [],
   "source": [
    "import rps.rps as rps\n",
    "import random"
   ]
  },
  {
   "cell_type": "code",
   "execution_count": 82,
   "metadata": {},
   "outputs": [
    {
     "data": {
      "text/plain": [
       "<module 'rps.rps' from '/home/martinho/projects/footsies-agents/rps/rps.py'>"
      ]
     },
     "execution_count": 82,
     "metadata": {},
     "output_type": "execute_result"
    }
   ],
   "source": [
    "from importlib import reload\n",
    "reload(rps)"
   ]
  },
  {
   "cell_type": "markdown",
   "metadata": {},
   "source": [
    "### Instantiate game"
   ]
  },
  {
   "cell_type": "code",
   "execution_count": 83,
   "metadata": {},
   "outputs": [],
   "source": [
    "opponent_pool = {\n",
    "    # RPS (no temporal actions)\n",
    "    \"uniform_random_play\": lambda o, i: random.randint(0, 2),\n",
    "    \"rocky_play\": lambda o, i: 0 if random.random() < 0.8 else random.randint(1, 2),\n",
    "    \"scissors_play\": lambda o, i: 2 if random.random() < 0.9 else random.randint(0, 1),\n",
    "    # FG (temporal actions)\n",
    "    \"uniform_random_play_temporal\": lambda o, i: random.randint(0, 3),\n",
    "    \"masher\": lambda o, i: ((0 if random.random() < 0.8 else random.randint(1, 3)) + 1) % 4,\n",
    "    \"thrower\": lambda o, i: ((0 if random.random() < 0.9 else random.randint(1, 3)) + 2) % 4,\n",
    "    \"dodge-attacker\": lambda o, i: 1 if i[\"p2_play\"] == 3 else 3,\n",
    "    # Special\n",
    "    \"imitator\": lambda o, i: i[\"p1_action\"] if i[\"step\"] > 0 else random.randint(0, 2),\n",
    "    \"query\": lambda o, i: int(input(\"Opponent action? \")),\n",
    "}"
   ]
  },
  {
   "cell_type": "code",
   "execution_count": 91,
   "metadata": {},
   "outputs": [],
   "source": [
    "game = rps.RPS(\n",
    "    opponent=opponent_pool[\"masher\"],\n",
    "    dense_reward=False,\n",
    "    health=3,\n",
    "    flattened=True,\n",
    "    use_temporal_actions=True,\n",
    "    observation_include_play=True,\n",
    "    observation_include_move_progress=True,\n",
    "    observation_transformer=lambda o: o.to(torch.float32).unsqueeze(0),\n",
    ")"
   ]
  },
  {
   "cell_type": "markdown",
   "metadata": {},
   "source": [
    "### Create agent"
   ]
  },
  {
   "cell_type": "code",
   "execution_count": 20,
   "metadata": {},
   "outputs": [],
   "source": [
    "import torch\n",
    "from agents.a2c.a2c import A2CLambdaLearner, ActorNetwork, CriticNetwork\n",
    "from torch import nn"
   ]
  },
  {
   "cell_type": "code",
   "execution_count": 85,
   "metadata": {},
   "outputs": [],
   "source": [
    "from dataclasses import dataclass\n",
    "from typing import Callable, Iterable\n",
    "\n",
    "@dataclass\n",
    "class ObservationModifier:\n",
    "    dim:        int\n",
    "    method:     Callable[[rps.RPSObservation, dict], rps.RPSObservation]\n",
    "    universe:   Callable[[list[rps.RPSObservation]], Iterable[rps.RPSObservation]]\n",
    "\n",
    "observation_neutral = ObservationModifier(\n",
    "    game.observation_dim,\n",
    "    lambda o, i: o,\n",
    "    lambda os: iter(os),\n",
    ")\n",
    "\n",
    "def append_opponent_model_imitator_universe(os: list[rps.RPSObservation]) -> Iterable[rps.RPSObservation]:\n",
    "    for o in os:\n",
    "        for action in range(game.action_dim):\n",
    "            yield torch.hstack((o, torch.nn.functional.one_hot(torch.tensor([action]), num_classes=3)))\n",
    "\n",
    "observation_append_opponent_model_imitator = ObservationModifier(\n",
    "    game.observation_dim + 3,\n",
    "    lambda o, i: torch.hstack((o, torch.nn.functional.one_hot(torch.tensor([opponent_pool[\"imitator\"](o, i)]), num_classes=3))),\n",
    "    append_opponent_model_imitator_universe,\n",
    ")\n",
    "\n",
    "OBSERVATION_MODIFIER = observation_append_opponent_model_imitator\n",
    "OBSERVATION_MODIFIER = observation_neutral"
   ]
  },
  {
   "cell_type": "code",
   "execution_count": 92,
   "metadata": {},
   "outputs": [],
   "source": [
    "agent = A2CLambdaLearner(\n",
    "    actor=ActorNetwork(\n",
    "        obs_dim=OBSERVATION_MODIFIER.dim,\n",
    "        action_dim=game.action_dim,\n",
    "        hidden_layer_sizes=[],\n",
    "        hidden_layer_activation=nn.Identity,\n",
    "    ),\n",
    "    critic=CriticNetwork(\n",
    "        obs_dim=OBSERVATION_MODIFIER.dim,\n",
    "        hidden_layer_sizes=[],\n",
    "        hidden_layer_activation=nn.Identity,\n",
    "    ),\n",
    "    discount=1.0,\n",
    "    actor_lambda=0.0,\n",
    "    critic_lambda=0.0,\n",
    "    actor_entropy_loss_coef=0.05,\n",
    "    actor_optimizer=torch.optim.Adam,\n",
    "    critic_optimizer=torch.optim.Adam,\n",
    "    **{\n",
    "        \"actor_optimizer.lr\": 1e-2,\n",
    "        \"critic_optimizer.lr\": 1e-2,\n",
    "    }\n",
    ")"
   ]
  },
  {
   "cell_type": "markdown",
   "metadata": {},
   "source": [
    "### Game loop"
   ]
  },
  {
   "cell_type": "code",
   "execution_count": 18,
   "metadata": {},
   "outputs": [
    {
     "data": {
      "text/plain": [
       "(tensor([[0., 0., 1., 0., 0., 1.]]),\n",
       " {'p1_health': 3,\n",
       "  'p2_health': 3,\n",
       "  'p1_play': 0,\n",
       "  'p2_play': 0,\n",
       "  'p1_action': 0,\n",
       "  'p2_action': 0,\n",
       "  'step': 0})"
      ]
     },
     "execution_count": 18,
     "metadata": {},
     "output_type": "execute_result"
    }
   ],
   "source": [
    "obs, info = game.reset()\n",
    "obs = OBSERVATION_MODIFIER.method(obs, info)\n",
    "obs, info"
   ]
  },
  {
   "cell_type": "code",
   "execution_count": 36,
   "metadata": {},
   "outputs": [
    {
     "name": "stdout",
     "output_type": "stream",
     "text": [
      "Next observation: tensor([[0., 1., 0., 1., 0., 0.]])\n",
      "Reward: 1.0\n",
      "Terminated: True\n",
      "Truncated: False\n",
      "Info: {'p1_health': -2, 'p2_health': -5, 'p1_play': 0, 'p2_play': 0, 'p1_action': 0, 'p2_action': 0, 'step': 9}\n"
     ]
    }
   ],
   "source": [
    "next_obs, reward, terminated, truncated, info = game.step(agent.sample_action(obs))\n",
    "next_obs = OBSERVATION_MODIFIER.method(next_obs, info) if next_obs is not None else obs\n",
    "print(\"Next observation:\", next_obs)\n",
    "print(\"Reward:\", reward)\n",
    "print(\"Terminated:\", terminated)\n",
    "print(\"Truncated:\", truncated)\n",
    "print(\"Info:\", info)"
   ]
  },
  {
   "cell_type": "code",
   "execution_count": 42,
   "metadata": {},
   "outputs": [],
   "source": [
    "agent.learn(obs, next_obs, reward, terminated)"
   ]
  },
  {
   "cell_type": "code",
   "execution_count": 35,
   "metadata": {},
   "outputs": [],
   "source": [
    "obs = next_obs"
   ]
  },
  {
   "cell_type": "markdown",
   "metadata": {},
   "source": [
    "Train in a loop"
   ]
  },
  {
   "cell_type": "code",
   "execution_count": 11,
   "metadata": {},
   "outputs": [],
   "source": [
    "import tqdm\n",
    "from itertools import count, starmap"
   ]
  },
  {
   "cell_type": "code",
   "execution_count": 87,
   "metadata": {},
   "outputs": [],
   "source": [
    "def print_results(include_plays: bool = False):\n",
    "    healths_list = [(h1 + 1, h2 + 1) for h1 in range(game.health) for h2 in range(game.health)]\n",
    "    plays_list = [(pl1, pl2) for pl1 in range(game.play_dim) for pl2 in range(game.play_dim)] if include_plays else [[None, None]]\n",
    "\n",
    "    observations = starmap(game.craft_observation, sorted({\n",
    "        tuple((*healths, *plays))\n",
    "        for healths in healths_list\n",
    "        for plays in plays_list\n",
    "    }))\n",
    "\n",
    "    # Modify and add more observations according to the current observation modifier\n",
    "    observations = list(OBSERVATION_MODIFIER.universe(observations))\n",
    "\n",
    "    results = {\n",
    "        observation: (\n",
    "            agent.critic(observation).item(),\n",
    "            agent.actor(observation).squeeze(),\n",
    "        )\n",
    "        for observation in observations\n",
    "    }\n",
    "\n",
    "    print(\"Value function:\")\n",
    "    for obs, (value, _) in results.items():\n",
    "        print(f\"{obs}: {value:.2f}\")\n",
    "\n",
    "    print()\n",
    "\n",
    "    print(\"Policy:\")\n",
    "    for obs, (_, distribution) in results.items():\n",
    "        print(f\"{obs}: {distribution}\")"
   ]
  },
  {
   "cell_type": "code",
   "execution_count": 93,
   "metadata": {},
   "outputs": [
    {
     "name": "stderr",
     "output_type": "stream",
     "text": [
      "35227it [04:44, 123.77it/s]\n"
     ]
    }
   ],
   "source": [
    "from IPython.display import clear_output\n",
    "import matplotlib.pyplot as plt\n",
    "\n",
    "print_every = 200\n",
    "deltas = []\n",
    "rewards = []\n",
    "reward_exp_avg = 0\n",
    "try:\n",
    "    for i in tqdm.tqdm(count(), disable=False):\n",
    "        obs, info = game.reset()\n",
    "        obs = OBSERVATION_MODIFIER.method(obs, info)\n",
    "        terminated, truncated = False, False\n",
    "\n",
    "        while not (terminated or truncated):\n",
    "            action = agent.sample_action(obs)\n",
    "            next_obs, reward, terminated, truncated, info = game.step(action)\n",
    "            next_obs = OBSERVATION_MODIFIER.method(next_obs, info) if next_obs is not None else obs\n",
    "            agent.learn(obs, next_obs, reward, terminated)\n",
    "            obs = next_obs\n",
    "\n",
    "        # if i % print_every == 0:\n",
    "        #     clear_output(wait=True)\n",
    "        #     print_results(include_plays=False)\n",
    "        #     print()\n",
    "            # print(i, end=\"\\r\")\n",
    "            # print(agent.delta, end=\"\\r\")\n",
    "        \n",
    "        reward_exp_avg = 0.99 * reward_exp_avg + 0.01 * reward\n",
    "        deltas.append(agent.delta)\n",
    "        rewards.append(reward_exp_avg)\n",
    "            \n",
    "except KeyboardInterrupt:\n",
    "    pass"
   ]
  },
  {
   "cell_type": "code",
   "execution_count": 94,
   "metadata": {},
   "outputs": [
    {
     "data": {
      "text/plain": [
       "[<matplotlib.lines.Line2D at 0x7f27d0d23460>]"
      ]
     },
     "execution_count": 94,
     "metadata": {},
     "output_type": "execute_result"
    },
    {
     "data": {
      "image/png": "[encoded data removed]",
      "text/plain": [
       "<Figure size 640x480 with 1 Axes>"
      ]
     },
     "metadata": {},
     "output_type": "display_data"
    }
   ],
   "source": [
    "plt.plot(deltas)"
   ]
  },
  {
   "cell_type": "code",
   "execution_count": 95,
   "metadata": {},
   "outputs": [
    {
     "data": {
      "text/plain": [
       "[<matplotlib.lines.Line2D at 0x7f27d0bd3310>]"
      ]
     },
     "execution_count": 95,
     "metadata": {},
     "output_type": "execute_result"
    },
    {
     "data": {
      "image/png": "[encoded data removed]",
      "text/plain": [
       "<Figure size 640x480 with 1 Axes>"
      ]
     },
     "metadata": {},
     "output_type": "display_data"
    }
   ],
   "source": [
    "plt.plot(rewards)"
   ]
  },
  {
   "cell_type": "markdown",
   "metadata": {},
   "source": [
    "### Evaluation"
   ]
  },
  {
   "cell_type": "code",
   "execution_count": 17,
   "metadata": {},
   "outputs": [],
   "source": [
    "torch.set_printoptions(precision=2, sci_mode=False)"
   ]
  },
  {
   "cell_type": "code",
   "execution_count": 96,
   "metadata": {
    "tags": []
   },
   "outputs": [
    {
     "name": "stdout",
     "output_type": "stream",
     "text": [
      "Value function:\n",
      "tensor([[1., 0., 0., 1., 0., 0., 1., 0., 0., 0., 1., 0., 0., 0., 0., 0.]]): 0.38\n",
      "tensor([[1., 0., 0., 1., 0., 0., 1., 0., 0., 0., 0., 1., 0., 0., 0., 0.]]): 0.15\n",
      "tensor([[1., 0., 0., 1., 0., 0., 1., 0., 0., 0., 0., 0., 1., 0., 0., 0.]]): 0.65\n",
      "tensor([[1., 0., 0., 1., 0., 0., 1., 0., 0., 0., 0., 0., 0., 1., 0., 0.]]): 0.23\n",
      "tensor([[1., 0., 0., 1., 0., 0., 0., 1., 0., 0., 1., 0., 0., 0., 0., 0.]]): 0.52\n",
      "tensor([[1., 0., 0., 1., 0., 0., 0., 1., 0., 0., 0., 1., 0., 0., 0., 0.]]): 0.28\n",
      "tensor([[1., 0., 0., 1., 0., 0., 0., 1., 0., 0., 0., 0., 1., 0., 0., 0.]]): 0.78\n",
      "tensor([[1., 0., 0., 1., 0., 0., 0., 1., 0., 0., 0., 0., 0., 1., 0., 0.]]): 0.36\n",
      "tensor([[1., 0., 0., 1., 0., 0., 0., 0., 1., 0., 1., 0., 0., 0., 0., 0.]]): 0.25\n",
      "tensor([[1., 0., 0., 1., 0., 0., 0., 0., 1., 0., 0., 1., 0., 0., 0., 0.]]): 0.02\n",
      "tensor([[1., 0., 0., 1., 0., 0., 0., 0., 1., 0., 0., 0., 1., 0., 0., 0.]]): 0.52\n",
      "tensor([[1., 0., 0., 1., 0., 0., 0., 0., 1., 0., 0., 0., 0., 1., 0., 0.]]): 0.10\n",
      "tensor([[1., 0., 0., 1., 0., 0., 0., 0., 0., 1., 1., 0., 0., 0., 0., 0.]]): 0.39\n",
      "tensor([[1., 0., 0., 1., 0., 0., 0., 0., 0., 1., 0., 1., 0., 0., 0., 0.]]): 0.15\n",
      "tensor([[1., 0., 0., 1., 0., 0., 0., 0., 0., 1., 0., 0., 1., 0., 0., 0.]]): 0.65\n",
      "tensor([[1., 0., 0., 1., 0., 0., 0., 0., 0., 1., 0., 0., 0., 1., 0., 0.]]): 0.23\n",
      "tensor([[1., 0., 0., 0., 1., 0., 1., 0., 0., 0., 1., 0., 0., 0., 0., 0.]]): -0.47\n",
      "tensor([[1., 0., 0., 0., 1., 0., 1., 0., 0., 0., 0., 1., 0., 0., 0., 0.]]): -0.71\n",
      "tensor([[1., 0., 0., 0., 1., 0., 1., 0., 0., 0., 0., 0., 1., 0., 0., 0.]]): -0.21\n",
      "tensor([[1., 0., 0., 0., 1., 0., 1., 0., 0., 0., 0., 0., 0., 1., 0., 0.]]): -0.63\n",
      "tensor([[1., 0., 0., 0., 1., 0., 0., 1., 0., 0., 1., 0., 0., 0., 0., 0.]]): -0.34\n",
      "tensor([[1., 0., 0., 0., 1., 0., 0., 1., 0., 0., 0., 1., 0., 0., 0., 0.]]): -0.58\n",
      "tensor([[1., 0., 0., 0., 1., 0., 0., 1., 0., 0., 0., 0., 1., 0., 0., 0.]]): -0.08\n",
      "tensor([[1., 0., 0., 0., 1., 0., 0., 1., 0., 0., 0., 0., 0., 1., 0., 0.]]): -0.50\n",
      "tensor([[1., 0., 0., 0., 1., 0., 0., 0., 1., 0., 1., 0., 0., 0., 0., 0.]]): -0.60\n",
      "tensor([[1., 0., 0., 0., 1., 0., 0., 0., 1., 0., 0., 1., 0., 0., 0., 0.]]): -0.84\n",
      "tensor([[1., 0., 0., 0., 1., 0., 0., 0., 1., 0., 0., 0., 1., 0., 0., 0.]]): -0.34\n",
      "tensor([[1., 0., 0., 0., 1., 0., 0., 0., 1., 0., 0., 0., 0., 1., 0., 0.]]): -0.76\n",
      "tensor([[1., 0., 0., 0., 1., 0., 0., 0., 0., 1., 1., 0., 0., 0., 0., 0.]]): -0.47\n",
      "tensor([[1., 0., 0., 0., 1., 0., 0., 0., 0., 1., 0., 1., 0., 0., 0., 0.]]): -0.71\n",
      "tensor([[1., 0., 0., 0., 1., 0., 0., 0., 0., 1., 0., 0., 1., 0., 0., 0.]]): -0.21\n",
      "tensor([[1., 0., 0., 0., 1., 0., 0., 0., 0., 1., 0., 0., 0., 1., 0., 0.]]): -0.63\n",
      "tensor([[1., 0., 0., 0., 0., 1., 1., 0., 0., 0., 1., 0., 0., 0., 0., 0.]]): -1.10\n",
      "tensor([[1., 0., 0., 0., 0., 1., 1., 0., 0., 0., 0., 1., 0., 0., 0., 0.]]): -1.33\n",
      "tensor([[1., 0., 0., 0., 0., 1., 1., 0., 0., 0., 0., 0., 1., 0., 0., 0.]]): -0.84\n",
      "tensor([[1., 0., 0., 0., 0., 1., 1., 0., 0., 0., 0., 0., 0., 1., 0., 0.]]): -1.26\n",
      "tensor([[1., 0., 0., 0., 0., 1., 0., 1., 0., 0., 1., 0., 0., 0., 0., 0.]]): -0.97\n",
      "tensor([[1., 0., 0., 0., 0., 1., 0., 1., 0., 0., 0., 1., 0., 0., 0., 0.]]): -1.20\n",
      "tensor([[1., 0., 0., 0., 0., 1., 0., 1., 0., 0., 0., 0., 1., 0., 0., 0.]]): -0.70\n",
      "tensor([[1., 0., 0., 0., 0., 1., 0., 1., 0., 0., 0., 0., 0., 1., 0., 0.]]): -1.12\n",
      "tensor([[1., 0., 0., 0., 0., 1., 0., 0., 1., 0., 1., 0., 0., 0., 0., 0.]]): -1.23\n",
      "tensor([[1., 0., 0., 0., 0., 1., 0., 0., 1., 0., 0., 1., 0., 0., 0., 0.]]): -1.46\n",
      "tensor([[1., 0., 0., 0., 0., 1., 0., 0., 1., 0., 0., 0., 1., 0., 0., 0.]]): -0.97\n",
      "tensor([[1., 0., 0., 0., 0., 1., 0., 0., 1., 0., 0., 0., 0., 1., 0., 0.]]): -1.39\n",
      "tensor([[1., 0., 0., 0., 0., 1., 0., 0., 0., 1., 1., 0., 0., 0., 0., 0.]]): -1.10\n",
      "tensor([[1., 0., 0., 0., 0., 1., 0., 0., 0., 1., 0., 1., 0., 0., 0., 0.]]): -1.33\n",
      "tensor([[1., 0., 0., 0., 0., 1., 0., 0., 0., 1., 0., 0., 1., 0., 0., 0.]]): -0.83\n",
      "tensor([[1., 0., 0., 0., 0., 1., 0., 0., 0., 1., 0., 0., 0., 1., 0., 0.]]): -1.25\n",
      "tensor([[0., 1., 0., 1., 0., 0., 1., 0., 0., 0., 1., 0., 0., 0., 0., 0.]]): 1.14\n",
      "tensor([[0., 1., 0., 1., 0., 0., 1., 0., 0., 0., 0., 1., 0., 0., 0., 0.]]): 0.91\n",
      "tensor([[0., 1., 0., 1., 0., 0., 1., 0., 0., 0., 0., 0., 1., 0., 0., 0.]]): 1.40\n",
      "tensor([[0., 1., 0., 1., 0., 0., 1., 0., 0., 0., 0., 0., 0., 1., 0., 0.]]): 0.99\n",
      "tensor([[0., 1., 0., 1., 0., 0., 0., 1., 0., 0., 1., 0., 0., 0., 0., 0.]]): 1.27\n",
      "tensor([[0., 1., 0., 1., 0., 0., 0., 1., 0., 0., 0., 1., 0., 0., 0., 0.]]): 1.04\n",
      "tensor([[0., 1., 0., 1., 0., 0., 0., 1., 0., 0., 0., 0., 1., 0., 0., 0.]]): 1.54\n",
      "tensor([[0., 1., 0., 1., 0., 0., 0., 1., 0., 0., 0., 0., 0., 1., 0., 0.]]): 1.12\n",
      "tensor([[0., 1., 0., 1., 0., 0., 0., 0., 1., 0., 1., 0., 0., 0., 0., 0.]]): 1.01\n",
      "tensor([[0., 1., 0., 1., 0., 0., 0., 0., 1., 0., 0., 1., 0., 0., 0., 0.]]): 0.78\n",
      "tensor([[0., 1., 0., 1., 0., 0., 0., 0., 1., 0., 0., 0., 1., 0., 0., 0.]]): 1.27\n",
      "tensor([[0., 1., 0., 1., 0., 0., 0., 0., 1., 0., 0., 0., 0., 1., 0., 0.]]): 0.85\n",
      "tensor([[0., 1., 0., 1., 0., 0., 0., 0., 0., 1., 1., 0., 0., 0., 0., 0.]]): 1.14\n",
      "tensor([[0., 1., 0., 1., 0., 0., 0., 0., 0., 1., 0., 1., 0., 0., 0., 0.]]): 0.91\n",
      "tensor([[0., 1., 0., 1., 0., 0., 0., 0., 0., 1., 0., 0., 1., 0., 0., 0.]]): 1.41\n",
      "tensor([[0., 1., 0., 1., 0., 0., 0., 0., 0., 1., 0., 0., 0., 1., 0., 0.]]): 0.99\n",
      "tensor([[0., 1., 0., 0., 1., 0., 1., 0., 0., 0., 1., 0., 0., 0., 0., 0.]]): 0.28\n",
      "tensor([[0., 1., 0., 0., 1., 0., 1., 0., 0., 0., 0., 1., 0., 0., 0., 0.]]): 0.05\n",
      "tensor([[0., 1., 0., 0., 1., 0., 1., 0., 0., 0., 0., 0., 1., 0., 0., 0.]]): 0.55\n",
      "tensor([[0., 1., 0., 0., 1., 0., 1., 0., 0., 0., 0., 0., 0., 1., 0., 0.]]): 0.13\n",
      "tensor([[0., 1., 0., 0., 1., 0., 0., 1., 0., 0., 1., 0., 0., 0., 0., 0.]]): 0.42\n",
      "tensor([[0., 1., 0., 0., 1., 0., 0., 1., 0., 0., 0., 1., 0., 0., 0., 0.]]): 0.18\n",
      "tensor([[0., 1., 0., 0., 1., 0., 0., 1., 0., 0., 0., 0., 1., 0., 0., 0.]]): 0.68\n",
      "tensor([[0., 1., 0., 0., 1., 0., 0., 1., 0., 0., 0., 0., 0., 1., 0., 0.]]): 0.26\n",
      "tensor([[0., 1., 0., 0., 1., 0., 0., 0., 1., 0., 1., 0., 0., 0., 0., 0.]]): 0.15\n",
      "tensor([[0., 1., 0., 0., 1., 0., 0., 0., 1., 0., 0., 1., 0., 0., 0., 0.]]): -0.08\n",
      "tensor([[0., 1., 0., 0., 1., 0., 0., 0., 1., 0., 0., 0., 1., 0., 0., 0.]]): 0.42\n",
      "tensor([[0., 1., 0., 0., 1., 0., 0., 0., 1., 0., 0., 0., 0., 1., 0., 0.]]): -0.00\n",
      "tensor([[0., 1., 0., 0., 1., 0., 0., 0., 0., 1., 1., 0., 0., 0., 0., 0.]]): 0.29\n",
      "tensor([[0., 1., 0., 0., 1., 0., 0., 0., 0., 1., 0., 1., 0., 0., 0., 0.]]): 0.05\n",
      "tensor([[0., 1., 0., 0., 1., 0., 0., 0., 0., 1., 0., 0., 1., 0., 0., 0.]]): 0.55\n",
      "tensor([[0., 1., 0., 0., 1., 0., 0., 0., 0., 1., 0., 0., 0., 1., 0., 0.]]): 0.13\n",
      "tensor([[0., 1., 0., 0., 0., 1., 1., 0., 0., 0., 1., 0., 0., 0., 0., 0.]]): -0.34\n",
      "tensor([[0., 1., 0., 0., 0., 1., 1., 0., 0., 0., 0., 1., 0., 0., 0., 0.]]): -0.58\n",
      "tensor([[0., 1., 0., 0., 0., 1., 1., 0., 0., 0., 0., 0., 1., 0., 0., 0.]]): -0.08\n",
      "tensor([[0., 1., 0., 0., 0., 1., 1., 0., 0., 0., 0., 0., 0., 1., 0., 0.]]): -0.50\n",
      "tensor([[0., 1., 0., 0., 0., 1., 0., 1., 0., 0., 1., 0., 0., 0., 0., 0.]]): -0.21\n",
      "tensor([[0., 1., 0., 0., 0., 1., 0., 1., 0., 0., 0., 1., 0., 0., 0., 0.]]): -0.44\n",
      "tensor([[0., 1., 0., 0., 0., 1., 0., 1., 0., 0., 0., 0., 1., 0., 0., 0.]]): 0.05\n",
      "tensor([[0., 1., 0., 0., 0., 1., 0., 1., 0., 0., 0., 0., 0., 1., 0., 0.]]): -0.36\n",
      "tensor([[0., 1., 0., 0., 0., 1., 0., 0., 1., 0., 1., 0., 0., 0., 0., 0.]]): -0.47\n",
      "tensor([[0., 1., 0., 0., 0., 1., 0., 0., 1., 0., 0., 1., 0., 0., 0., 0.]]): -0.71\n",
      "tensor([[0., 1., 0., 0., 0., 1., 0., 0., 1., 0., 0., 0., 1., 0., 0., 0.]]): -0.21\n",
      "tensor([[0., 1., 0., 0., 0., 1., 0., 0., 1., 0., 0., 0., 0., 1., 0., 0.]]): -0.63\n",
      "tensor([[0., 1., 0., 0., 0., 1., 0., 0., 0., 1., 1., 0., 0., 0., 0., 0.]]): -0.34\n",
      "tensor([[0., 1., 0., 0., 0., 1., 0., 0., 0., 1., 0., 1., 0., 0., 0., 0.]]): -0.57\n",
      "tensor([[0., 1., 0., 0., 0., 1., 0., 0., 0., 1., 0., 0., 1., 0., 0., 0.]]): -0.08\n",
      "tensor([[0., 1., 0., 0., 0., 1., 0., 0., 0., 1., 0., 0., 0., 1., 0., 0.]]): -0.49\n",
      "tensor([[0., 0., 1., 1., 0., 0., 1., 0., 0., 0., 1., 0., 0., 0., 0., 0.]]): 1.88\n",
      "tensor([[0., 0., 1., 1., 0., 0., 1., 0., 0., 0., 0., 1., 0., 0., 0., 0.]]): 1.64\n",
      "tensor([[0., 0., 1., 1., 0., 0., 1., 0., 0., 0., 0., 0., 1., 0., 0., 0.]]): 2.14\n",
      "tensor([[0., 0., 1., 1., 0., 0., 1., 0., 0., 0., 0., 0., 0., 1., 0., 0.]]): 1.72\n",
      "tensor([[0., 0., 1., 1., 0., 0., 0., 1., 0., 0., 1., 0., 0., 0., 0., 0.]]): 2.01\n",
      "tensor([[0., 0., 1., 1., 0., 0., 0., 1., 0., 0., 0., 1., 0., 0., 0., 0.]]): 1.78\n",
      "tensor([[0., 0., 1., 1., 0., 0., 0., 1., 0., 0., 0., 0., 1., 0., 0., 0.]]): 2.27\n",
      "tensor([[0., 0., 1., 1., 0., 0., 0., 1., 0., 0., 0., 0., 0., 1., 0., 0.]]): 1.85\n",
      "tensor([[0., 0., 1., 1., 0., 0., 0., 0., 1., 0., 1., 0., 0., 0., 0., 0.]]): 1.75\n",
      "tensor([[0., 0., 1., 1., 0., 0., 0., 0., 1., 0., 0., 1., 0., 0., 0., 0.]]): 1.51\n",
      "tensor([[0., 0., 1., 1., 0., 0., 0., 0., 1., 0., 0., 0., 1., 0., 0., 0.]]): 2.01\n",
      "tensor([[0., 0., 1., 1., 0., 0., 0., 0., 1., 0., 0., 0., 0., 1., 0., 0.]]): 1.59\n",
      "tensor([[0., 0., 1., 1., 0., 0., 0., 0., 0., 1., 1., 0., 0., 0., 0., 0.]]): 1.88\n",
      "tensor([[0., 0., 1., 1., 0., 0., 0., 0., 0., 1., 0., 1., 0., 0., 0., 0.]]): 1.65\n",
      "tensor([[0., 0., 1., 1., 0., 0., 0., 0., 0., 1., 0., 0., 1., 0., 0., 0.]]): 2.14\n",
      "tensor([[0., 0., 1., 1., 0., 0., 0., 0., 0., 1., 0., 0., 0., 1., 0., 0.]]): 1.72\n",
      "tensor([[0., 0., 1., 0., 1., 0., 1., 0., 0., 0., 1., 0., 0., 0., 0., 0.]]): 1.02\n",
      "tensor([[0., 0., 1., 0., 1., 0., 1., 0., 0., 0., 0., 1., 0., 0., 0., 0.]]): 0.79\n",
      "tensor([[0., 0., 1., 0., 1., 0., 1., 0., 0., 0., 0., 0., 1., 0., 0., 0.]]): 1.28\n",
      "tensor([[0., 0., 1., 0., 1., 0., 1., 0., 0., 0., 0., 0., 0., 1., 0., 0.]]): 0.87\n",
      "tensor([[0., 0., 1., 0., 1., 0., 0., 1., 0., 0., 1., 0., 0., 0., 0., 0.]]): 1.15\n",
      "tensor([[0., 0., 1., 0., 1., 0., 0., 1., 0., 0., 0., 1., 0., 0., 0., 0.]]): 0.92\n",
      "tensor([[0., 0., 1., 0., 1., 0., 0., 1., 0., 0., 0., 0., 1., 0., 0., 0.]]): 1.42\n",
      "tensor([[0., 0., 1., 0., 1., 0., 0., 1., 0., 0., 0., 0., 0., 1., 0., 0.]]): 1.00\n",
      "tensor([[0., 0., 1., 0., 1., 0., 0., 0., 1., 0., 1., 0., 0., 0., 0., 0.]]): 0.89\n",
      "tensor([[0., 0., 1., 0., 1., 0., 0., 0., 1., 0., 0., 1., 0., 0., 0., 0.]]): 0.66\n",
      "tensor([[0., 0., 1., 0., 1., 0., 0., 0., 1., 0., 0., 0., 1., 0., 0., 0.]]): 1.15\n",
      "tensor([[0., 0., 1., 0., 1., 0., 0., 0., 1., 0., 0., 0., 0., 1., 0., 0.]]): 0.73\n",
      "tensor([[0., 0., 1., 0., 1., 0., 0., 0., 0., 1., 1., 0., 0., 0., 0., 0.]]): 1.02\n",
      "tensor([[0., 0., 1., 0., 1., 0., 0., 0., 0., 1., 0., 1., 0., 0., 0., 0.]]): 0.79\n",
      "tensor([[0., 0., 1., 0., 1., 0., 0., 0., 0., 1., 0., 0., 1., 0., 0., 0.]]): 1.29\n",
      "tensor([[0., 0., 1., 0., 1., 0., 0., 0., 0., 1., 0., 0., 0., 1., 0., 0.]]): 0.87\n",
      "tensor([[0., 0., 1., 0., 0., 1., 1., 0., 0., 0., 1., 0., 0., 0., 0., 0.]]): 0.39\n",
      "tensor([[0., 0., 1., 0., 0., 1., 1., 0., 0., 0., 0., 1., 0., 0., 0., 0.]]): 0.16\n",
      "tensor([[0., 0., 1., 0., 0., 1., 1., 0., 0., 0., 0., 0., 1., 0., 0., 0.]]): 0.66\n",
      "tensor([[0., 0., 1., 0., 0., 1., 1., 0., 0., 0., 0., 0., 0., 1., 0., 0.]]): 0.24\n",
      "tensor([[0., 0., 1., 0., 0., 1., 0., 1., 0., 0., 1., 0., 0., 0., 0., 0.]]): 0.53\n",
      "tensor([[0., 0., 1., 0., 0., 1., 0., 1., 0., 0., 0., 1., 0., 0., 0., 0.]]): 0.29\n",
      "tensor([[0., 0., 1., 0., 0., 1., 0., 1., 0., 0., 0., 0., 1., 0., 0., 0.]]): 0.79\n",
      "tensor([[0., 0., 1., 0., 0., 1., 0., 1., 0., 0., 0., 0., 0., 1., 0., 0.]]): 0.37\n",
      "tensor([[0., 0., 1., 0., 0., 1., 0., 0., 1., 0., 1., 0., 0., 0., 0., 0.]]): 0.26\n",
      "tensor([[0., 0., 1., 0., 0., 1., 0., 0., 1., 0., 0., 1., 0., 0., 0., 0.]]): 0.03\n",
      "tensor([[0., 0., 1., 0., 0., 1., 0., 0., 1., 0., 0., 0., 1., 0., 0., 0.]]): 0.53\n",
      "tensor([[0., 0., 1., 0., 0., 1., 0., 0., 1., 0., 0., 0., 0., 1., 0., 0.]]): 0.11\n",
      "tensor([[0., 0., 1., 0., 0., 1., 0., 0., 0., 1., 1., 0., 0., 0., 0., 0.]]): 0.40\n",
      "tensor([[0., 0., 1., 0., 0., 1., 0., 0., 0., 1., 0., 1., 0., 0., 0., 0.]]): 0.16\n",
      "tensor([[0., 0., 1., 0., 0., 1., 0., 0., 0., 1., 0., 0., 1., 0., 0., 0.]]): 0.66\n",
      "tensor([[0., 0., 1., 0., 0., 1., 0., 0., 0., 1., 0., 0., 0., 1., 0., 0.]]): 0.24\n",
      "\n",
      "Policy:\n",
      "tensor([[1., 0., 0., 1., 0., 0., 1., 0., 0., 0., 1., 0., 0., 0., 0., 0.]]): tensor([0.02, 0.16, 0.05, 0.77], grad_fn=<SqueezeBackward0>)\n",
      "tensor([[1., 0., 0., 1., 0., 0., 1., 0., 0., 0., 0., 1., 0., 0., 0., 0.]]): tensor([0.00, 0.59, 0.01, 0.40], grad_fn=<SqueezeBackward0>)\n",
      "tensor([[1., 0., 0., 1., 0., 0., 1., 0., 0., 0., 0., 0., 1., 0., 0., 0.]]): tensor([    0.00,     0.99,     0.00,     0.01], grad_fn=<SqueezeBackward0>)\n",
      "tensor([[1., 0., 0., 1., 0., 0., 1., 0., 0., 0., 0., 0., 0., 1., 0., 0.]]): tensor([0.02, 0.39, 0.13, 0.46], grad_fn=<SqueezeBackward0>)\n",
      "tensor([[1., 0., 0., 1., 0., 0., 0., 1., 0., 0., 1., 0., 0., 0., 0., 0.]]): tensor([0.11, 0.58, 0.08, 0.22], grad_fn=<SqueezeBackward0>)\n",
      "tensor([[1., 0., 0., 1., 0., 0., 0., 1., 0., 0., 0., 1., 0., 0., 0., 0.]]): tensor([0.01, 0.93, 0.01, 0.05], grad_fn=<SqueezeBackward0>)\n",
      "tensor([[1., 0., 0., 1., 0., 0., 0., 1., 0., 0., 0., 0., 1., 0., 0., 0.]]): tensor([    0.00,     1.00,     0.00,     0.00], grad_fn=<SqueezeBackward0>)\n",
      "tensor([[1., 0., 0., 1., 0., 0., 0., 1., 0., 0., 0., 0., 0., 1., 0., 0.]]): tensor([0.06, 0.74, 0.13, 0.07], grad_fn=<SqueezeBackward0>)\n",
      "tensor([[1., 0., 0., 1., 0., 0., 0., 0., 1., 0., 1., 0., 0., 0., 0., 0.]]): tensor([0.09, 0.39, 0.15, 0.37], grad_fn=<SqueezeBackward0>)\n",
      "tensor([[1., 0., 0., 1., 0., 0., 0., 0., 1., 0., 0., 1., 0., 0., 0., 0.]]): tensor([0.01, 0.85, 0.02, 0.11], grad_fn=<SqueezeBackward0>)\n",
      "tensor([[1., 0., 0., 1., 0., 0., 0., 0., 1., 0., 0., 0., 1., 0., 0., 0.]]): tensor([    0.00,     1.00,     0.00,     0.00], grad_fn=<SqueezeBackward0>)\n",
      "tensor([[1., 0., 0., 1., 0., 0., 0., 0., 1., 0., 0., 0., 0., 1., 0., 0.]]): tensor([0.05, 0.56, 0.25, 0.13], grad_fn=<SqueezeBackward0>)\n",
      "tensor([[1., 0., 0., 1., 0., 0., 0., 0., 0., 1., 1., 0., 0., 0., 0., 0.]]): tensor([0.17, 0.41, 0.22, 0.19], grad_fn=<SqueezeBackward0>)\n",
      "tensor([[1., 0., 0., 1., 0., 0., 0., 0., 0., 1., 0., 1., 0., 0., 0., 0.]]): tensor([0.02, 0.88, 0.03, 0.06], grad_fn=<SqueezeBackward0>)\n",
      "tensor([[1., 0., 0., 1., 0., 0., 0., 0., 0., 1., 0., 0., 1., 0., 0., 0.]]): tensor([    0.00,     1.00,     0.00,     0.00], grad_fn=<SqueezeBackward0>)\n",
      "tensor([[1., 0., 0., 1., 0., 0., 0., 0., 0., 1., 0., 0., 0., 1., 0., 0.]]): tensor([0.09, 0.52, 0.33, 0.06], grad_fn=<SqueezeBackward0>)\n",
      "tensor([[1., 0., 0., 0., 1., 0., 1., 0., 0., 0., 1., 0., 0., 0., 0., 0.]]): tensor([0.01, 0.82, 0.02, 0.15], grad_fn=<SqueezeBackward0>)\n",
      "tensor([[1., 0., 0., 0., 1., 0., 1., 0., 0., 0., 0., 1., 0., 0., 0., 0.]]): tensor([    0.00,     0.97,     0.00,     0.03], grad_fn=<SqueezeBackward0>)\n",
      "tensor([[1., 0., 0., 0., 1., 0., 1., 0., 0., 0., 0., 0., 1., 0., 0., 0.]]): tensor([    0.00,     1.00,     0.00,     0.00], grad_fn=<SqueezeBackward0>)\n",
      "tensor([[1., 0., 0., 0., 1., 0., 1., 0., 0., 0., 0., 0., 0., 1., 0., 0.]]): tensor([0.00, 0.92, 0.03, 0.04], grad_fn=<SqueezeBackward0>)\n",
      "tensor([[1., 0., 0., 0., 1., 0., 0., 1., 0., 0., 1., 0., 0., 0., 0., 0.]]): tensor([0.02, 0.96, 0.01, 0.01], grad_fn=<SqueezeBackward0>)\n",
      "tensor([[1., 0., 0., 0., 1., 0., 0., 1., 0., 0., 0., 1., 0., 0., 0., 0.]]): tensor([    0.00,     1.00,     0.00,     0.00], grad_fn=<SqueezeBackward0>)\n",
      "tensor([[1., 0., 0., 0., 1., 0., 0., 1., 0., 0., 0., 0., 1., 0., 0., 0.]]): tensor([    0.00,     1.00,     0.00,     0.00], grad_fn=<SqueezeBackward0>)\n",
      "tensor([[1., 0., 0., 0., 1., 0., 0., 1., 0., 0., 0., 0., 0., 1., 0., 0.]]): tensor([0.01, 0.97, 0.02, 0.00], grad_fn=<SqueezeBackward0>)\n",
      "tensor([[1., 0., 0., 0., 1., 0., 0., 0., 1., 0., 1., 0., 0., 0., 0., 0.]]): tensor([0.02, 0.92, 0.03, 0.03], grad_fn=<SqueezeBackward0>)\n",
      "tensor([[1., 0., 0., 0., 1., 0., 0., 0., 1., 0., 0., 1., 0., 0., 0., 0.]]): tensor([0.00, 0.99, 0.00, 0.01], grad_fn=<SqueezeBackward0>)\n",
      "tensor([[1., 0., 0., 0., 1., 0., 0., 0., 1., 0., 0., 0., 1., 0., 0., 0.]]): tensor([    0.00,     1.00,     0.00,     0.00], grad_fn=<SqueezeBackward0>)\n",
      "tensor([[1., 0., 0., 0., 1., 0., 0., 0., 1., 0., 0., 0., 0., 1., 0., 0.]]): tensor([0.01, 0.94, 0.04, 0.01], grad_fn=<SqueezeBackward0>)\n",
      "tensor([[1., 0., 0., 0., 1., 0., 0., 0., 0., 1., 1., 0., 0., 0., 0., 0.]]): tensor([0.03, 0.91, 0.05, 0.02], grad_fn=<SqueezeBackward0>)\n",
      "tensor([[1., 0., 0., 0., 1., 0., 0., 0., 0., 1., 0., 1., 0., 0., 0., 0.]]): tensor([0.00, 0.99, 0.00, 0.00], grad_fn=<SqueezeBackward0>)\n",
      "tensor([[1., 0., 0., 0., 1., 0., 0., 0., 0., 1., 0., 0., 1., 0., 0., 0.]]): tensor([    0.00,     1.00,     0.00,     0.00], grad_fn=<SqueezeBackward0>)\n",
      "tensor([[1., 0., 0., 0., 1., 0., 0., 0., 0., 1., 0., 0., 0., 1., 0., 0.]]): tensor([0.01, 0.93, 0.06, 0.00], grad_fn=<SqueezeBackward0>)\n",
      "tensor([[1., 0., 0., 0., 0., 1., 1., 0., 0., 0., 1., 0., 0., 0., 0., 0.]]): tensor([0.03, 0.47, 0.01, 0.48], grad_fn=<SqueezeBackward0>)\n",
      "tensor([[1., 0., 0., 0., 0., 1., 1., 0., 0., 0., 0., 1., 0., 0., 0., 0.]]): tensor([0.00, 0.87, 0.00, 0.13], grad_fn=<SqueezeBackward0>)\n",
      "tensor([[1., 0., 0., 0., 0., 1., 1., 0., 0., 0., 0., 0., 1., 0., 0., 0.]]): tensor([    0.00,     1.00,     0.00,     0.00], grad_fn=<SqueezeBackward0>)\n",
      "tensor([[1., 0., 0., 0., 0., 1., 1., 0., 0., 0., 0., 0., 0., 1., 0., 0.]]): tensor([0.02, 0.76, 0.02, 0.19], grad_fn=<SqueezeBackward0>)\n",
      "tensor([[1., 0., 0., 0., 0., 1., 0., 1., 0., 0., 1., 0., 0., 0., 0., 0.]]): tensor([0.09, 0.83, 0.01, 0.07], grad_fn=<SqueezeBackward0>)\n",
      "tensor([[1., 0., 0., 0., 0., 1., 0., 1., 0., 0., 0., 1., 0., 0., 0., 0.]]): tensor([    0.01,     0.98,     0.00,     0.01], grad_fn=<SqueezeBackward0>)\n",
      "tensor([[1., 0., 0., 0., 0., 1., 0., 1., 0., 0., 0., 0., 1., 0., 0., 0.]]): tensor([    0.00,     1.00,     0.00,     0.00], grad_fn=<SqueezeBackward0>)\n",
      "tensor([[1., 0., 0., 0., 0., 1., 0., 1., 0., 0., 0., 0., 0., 1., 0., 0.]]): tensor([0.04, 0.93, 0.01, 0.02], grad_fn=<SqueezeBackward0>)\n",
      "tensor([[1., 0., 0., 0., 0., 1., 0., 0., 1., 0., 1., 0., 0., 0., 0., 0.]]): tensor([0.09, 0.74, 0.02, 0.15], grad_fn=<SqueezeBackward0>)\n",
      "tensor([[1., 0., 0., 0., 0., 1., 0., 0., 1., 0., 0., 1., 0., 0., 0., 0.]]): tensor([0.01, 0.96, 0.00, 0.03], grad_fn=<SqueezeBackward0>)\n",
      "tensor([[1., 0., 0., 0., 0., 1., 0., 0., 1., 0., 0., 0., 1., 0., 0., 0.]]): tensor([    0.00,     1.00,     0.00,     0.00], grad_fn=<SqueezeBackward0>)\n",
      "tensor([[1., 0., 0., 0., 0., 1., 0., 0., 1., 0., 0., 0., 0., 1., 0., 0.]]): tensor([0.05, 0.88, 0.03, 0.04], grad_fn=<SqueezeBackward0>)\n",
      "tensor([[1., 0., 0., 0., 0., 1., 0., 0., 0., 1., 1., 0., 0., 0., 0., 0.]]): tensor([0.16, 0.73, 0.03, 0.07], grad_fn=<SqueezeBackward0>)\n",
      "tensor([[1., 0., 0., 0., 0., 1., 0., 0., 0., 1., 0., 1., 0., 0., 0., 0.]]): tensor([0.01, 0.97, 0.00, 0.01], grad_fn=<SqueezeBackward0>)\n",
      "tensor([[1., 0., 0., 0., 0., 1., 0., 0., 0., 1., 0., 0., 1., 0., 0., 0.]]): tensor([    0.00,     1.00,     0.00,     0.00], grad_fn=<SqueezeBackward0>)\n",
      "tensor([[1., 0., 0., 0., 0., 1., 0., 0., 0., 1., 0., 0., 0., 1., 0., 0.]]): tensor([0.08, 0.85, 0.05, 0.02], grad_fn=<SqueezeBackward0>)\n",
      "tensor([[0., 1., 0., 1., 0., 0., 1., 0., 0., 0., 1., 0., 0., 0., 0., 0.]]): tensor([0.00, 0.96, 0.01, 0.03], grad_fn=<SqueezeBackward0>)\n",
      "tensor([[0., 1., 0., 1., 0., 0., 1., 0., 0., 0., 0., 1., 0., 0., 0., 0.]]): tensor([    0.00,     0.99,     0.00,     0.00], grad_fn=<SqueezeBackward0>)\n",
      "tensor([[0., 1., 0., 1., 0., 0., 1., 0., 0., 0., 0., 0., 1., 0., 0., 0.]]): tensor([    0.00,     1.00,     0.00,     0.00], grad_fn=<SqueezeBackward0>)\n",
      "tensor([[0., 1., 0., 1., 0., 0., 1., 0., 0., 0., 0., 0., 0., 1., 0., 0.]]): tensor([0.00, 0.98, 0.01, 0.01], grad_fn=<SqueezeBackward0>)\n",
      "tensor([[0., 1., 0., 1., 0., 0., 0., 1., 0., 0., 1., 0., 0., 0., 0., 0.]]): tensor([0.00, 0.99, 0.01, 0.00], grad_fn=<SqueezeBackward0>)\n",
      "tensor([[0., 1., 0., 1., 0., 0., 0., 1., 0., 0., 0., 1., 0., 0., 0., 0.]]): tensor([    0.00,     1.00,     0.00,     0.00], grad_fn=<SqueezeBackward0>)\n",
      "tensor([[0., 1., 0., 1., 0., 0., 0., 1., 0., 0., 0., 0., 1., 0., 0., 0.]]): tensor([    0.00,     1.00,     0.00,     0.00], grad_fn=<SqueezeBackward0>)\n",
      "tensor([[0., 1., 0., 1., 0., 0., 0., 1., 0., 0., 0., 0., 0., 1., 0., 0.]]): tensor([    0.00,     0.99,     0.01,     0.00], grad_fn=<SqueezeBackward0>)\n",
      "tensor([[0., 1., 0., 1., 0., 0., 0., 0., 1., 0., 1., 0., 0., 0., 0., 0.]]): tensor([0.01, 0.97, 0.01, 0.01], grad_fn=<SqueezeBackward0>)\n",
      "tensor([[0., 1., 0., 1., 0., 0., 0., 0., 1., 0., 0., 1., 0., 0., 0., 0.]]): tensor([    0.00,     1.00,     0.00,     0.00], grad_fn=<SqueezeBackward0>)\n",
      "tensor([[0., 1., 0., 1., 0., 0., 0., 0., 1., 0., 0., 0., 1., 0., 0., 0.]]): tensor([    0.00,     1.00,     0.00,     0.00], grad_fn=<SqueezeBackward0>)\n",
      "tensor([[0., 1., 0., 1., 0., 0., 0., 0., 1., 0., 0., 0., 0., 1., 0., 0.]]): tensor([0.00, 0.98, 0.02, 0.00], grad_fn=<SqueezeBackward0>)\n",
      "tensor([[0., 1., 0., 1., 0., 0., 0., 0., 0., 1., 1., 0., 0., 0., 0., 0.]]): tensor([0.01, 0.97, 0.02, 0.00], grad_fn=<SqueezeBackward0>)\n",
      "tensor([[0., 1., 0., 1., 0., 0., 0., 0., 0., 1., 0., 1., 0., 0., 0., 0.]]): tensor([    0.00,     1.00,     0.00,     0.00], grad_fn=<SqueezeBackward0>)\n",
      "tensor([[0., 1., 0., 1., 0., 0., 0., 0., 0., 1., 0., 0., 1., 0., 0., 0.]]): tensor([    0.00,     1.00,     0.00,     0.00], grad_fn=<SqueezeBackward0>)\n",
      "tensor([[0., 1., 0., 1., 0., 0., 0., 0., 0., 1., 0., 0., 0., 1., 0., 0.]]): tensor([    0.00,     0.97,     0.02,     0.00], grad_fn=<SqueezeBackward0>)\n",
      "tensor([[0., 1., 0., 0., 1., 0., 1., 0., 0., 0., 1., 0., 0., 0., 0., 0.]]): tensor([    0.00,     1.00,     0.00,     0.00], grad_fn=<SqueezeBackward0>)\n",
      "tensor([[0., 1., 0., 0., 1., 0., 1., 0., 0., 0., 0., 1., 0., 0., 0., 0.]]): tensor([    0.00,     1.00,     0.00,     0.00], grad_fn=<SqueezeBackward0>)\n",
      "tensor([[0., 1., 0., 0., 1., 0., 1., 0., 0., 0., 0., 0., 1., 0., 0., 0.]]): tensor([    0.00,     1.00,     0.00,     0.00], grad_fn=<SqueezeBackward0>)\n",
      "tensor([[0., 1., 0., 0., 1., 0., 1., 0., 0., 0., 0., 0., 0., 1., 0., 0.]]): tensor([    0.00,     1.00,     0.00,     0.00], grad_fn=<SqueezeBackward0>)\n",
      "tensor([[0., 1., 0., 0., 1., 0., 0., 1., 0., 0., 1., 0., 0., 0., 0., 0.]]): tensor([    0.00,     1.00,     0.00,     0.00], grad_fn=<SqueezeBackward0>)\n",
      "tensor([[0., 1., 0., 0., 1., 0., 0., 1., 0., 0., 0., 1., 0., 0., 0., 0.]]): tensor([    0.00,     1.00,     0.00,     0.00], grad_fn=<SqueezeBackward0>)\n",
      "tensor([[0., 1., 0., 0., 1., 0., 0., 1., 0., 0., 0., 0., 1., 0., 0., 0.]]): tensor([    0.00,     1.00,     0.00,     0.00], grad_fn=<SqueezeBackward0>)\n",
      "tensor([[0., 1., 0., 0., 1., 0., 0., 1., 0., 0., 0., 0., 0., 1., 0., 0.]]): tensor([    0.00,     1.00,     0.00,     0.00], grad_fn=<SqueezeBackward0>)\n",
      "tensor([[0., 1., 0., 0., 1., 0., 0., 0., 1., 0., 1., 0., 0., 0., 0., 0.]]): tensor([    0.00,     1.00,     0.00,     0.00], grad_fn=<SqueezeBackward0>)\n",
      "tensor([[0., 1., 0., 0., 1., 0., 0., 0., 1., 0., 0., 1., 0., 0., 0., 0.]]): tensor([    0.00,     1.00,     0.00,     0.00], grad_fn=<SqueezeBackward0>)\n",
      "tensor([[0., 1., 0., 0., 1., 0., 0., 0., 1., 0., 0., 0., 1., 0., 0., 0.]]): tensor([    0.00,     1.00,     0.00,     0.00], grad_fn=<SqueezeBackward0>)\n",
      "tensor([[0., 1., 0., 0., 1., 0., 0., 0., 1., 0., 0., 0., 0., 1., 0., 0.]]): tensor([    0.00,     1.00,     0.00,     0.00], grad_fn=<SqueezeBackward0>)\n",
      "tensor([[0., 1., 0., 0., 1., 0., 0., 0., 0., 1., 1., 0., 0., 0., 0., 0.]]): tensor([    0.00,     1.00,     0.00,     0.00], grad_fn=<SqueezeBackward0>)\n",
      "tensor([[0., 1., 0., 0., 1., 0., 0., 0., 0., 1., 0., 1., 0., 0., 0., 0.]]): tensor([    0.00,     1.00,     0.00,     0.00], grad_fn=<SqueezeBackward0>)\n",
      "tensor([[0., 1., 0., 0., 1., 0., 0., 0., 0., 1., 0., 0., 1., 0., 0., 0.]]): tensor([    0.00,     1.00,     0.00,     0.00], grad_fn=<SqueezeBackward0>)\n",
      "tensor([[0., 1., 0., 0., 1., 0., 0., 0., 0., 1., 0., 0., 0., 1., 0., 0.]]): tensor([    0.00,     1.00,     0.00,     0.00], grad_fn=<SqueezeBackward0>)\n",
      "tensor([[0., 1., 0., 0., 0., 1., 1., 0., 0., 0., 1., 0., 0., 0., 0., 0.]]): tensor([    0.00,     0.99,     0.00,     0.01], grad_fn=<SqueezeBackward0>)\n",
      "tensor([[0., 1., 0., 0., 0., 1., 1., 0., 0., 0., 0., 1., 0., 0., 0., 0.]]): tensor([    0.00,     1.00,     0.00,     0.00], grad_fn=<SqueezeBackward0>)\n",
      "tensor([[0., 1., 0., 0., 0., 1., 1., 0., 0., 0., 0., 0., 1., 0., 0., 0.]]): tensor([    0.00,     1.00,     0.00,     0.00], grad_fn=<SqueezeBackward0>)\n",
      "tensor([[0., 1., 0., 0., 0., 1., 1., 0., 0., 0., 0., 0., 0., 1., 0., 0.]]): tensor([    0.00,     1.00,     0.00,     0.00], grad_fn=<SqueezeBackward0>)\n",
      "tensor([[0., 1., 0., 0., 0., 1., 0., 1., 0., 0., 1., 0., 0., 0., 0., 0.]]): tensor([    0.00,     1.00,     0.00,     0.00], grad_fn=<SqueezeBackward0>)\n",
      "tensor([[0., 1., 0., 0., 0., 1., 0., 1., 0., 0., 0., 1., 0., 0., 0., 0.]]): tensor([    0.00,     1.00,     0.00,     0.00], grad_fn=<SqueezeBackward0>)\n",
      "tensor([[0., 1., 0., 0., 0., 1., 0., 1., 0., 0., 0., 0., 1., 0., 0., 0.]]): tensor([    0.00,     1.00,     0.00,     0.00], grad_fn=<SqueezeBackward0>)\n",
      "tensor([[0., 1., 0., 0., 0., 1., 0., 1., 0., 0., 0., 0., 0., 1., 0., 0.]]): tensor([    0.00,     1.00,     0.00,     0.00], grad_fn=<SqueezeBackward0>)\n",
      "tensor([[0., 1., 0., 0., 0., 1., 0., 0., 1., 0., 1., 0., 0., 0., 0., 0.]]): tensor([0.00, 0.99, 0.00, 0.00], grad_fn=<SqueezeBackward0>)\n",
      "tensor([[0., 1., 0., 0., 0., 1., 0., 0., 1., 0., 0., 1., 0., 0., 0., 0.]]): tensor([    0.00,     1.00,     0.00,     0.00], grad_fn=<SqueezeBackward0>)\n",
      "tensor([[0., 1., 0., 0., 0., 1., 0., 0., 1., 0., 0., 0., 1., 0., 0., 0.]]): tensor([    0.00,     1.00,     0.00,     0.00], grad_fn=<SqueezeBackward0>)\n",
      "tensor([[0., 1., 0., 0., 0., 1., 0., 0., 1., 0., 0., 0., 0., 1., 0., 0.]]): tensor([    0.00,     1.00,     0.00,     0.00], grad_fn=<SqueezeBackward0>)\n",
      "tensor([[0., 1., 0., 0., 0., 1., 0., 0., 0., 1., 1., 0., 0., 0., 0., 0.]]): tensor([    0.01,     0.99,     0.00,     0.00], grad_fn=<SqueezeBackward0>)\n",
      "tensor([[0., 1., 0., 0., 0., 1., 0., 0., 0., 1., 0., 1., 0., 0., 0., 0.]]): tensor([    0.00,     1.00,     0.00,     0.00], grad_fn=<SqueezeBackward0>)\n",
      "tensor([[0., 1., 0., 0., 0., 1., 0., 0., 0., 1., 0., 0., 1., 0., 0., 0.]]): tensor([    0.00,     1.00,     0.00,     0.00], grad_fn=<SqueezeBackward0>)\n",
      "tensor([[0., 1., 0., 0., 0., 1., 0., 0., 0., 1., 0., 0., 0., 1., 0., 0.]]): tensor([    0.00,     1.00,     0.00,     0.00], grad_fn=<SqueezeBackward0>)\n",
      "tensor([[0., 0., 1., 1., 0., 0., 1., 0., 0., 0., 1., 0., 0., 0., 0., 0.]]): tensor([0.02, 0.73, 0.02, 0.24], grad_fn=<SqueezeBackward0>)\n",
      "tensor([[0., 0., 1., 1., 0., 0., 1., 0., 0., 0., 0., 1., 0., 0., 0., 0.]]): tensor([0.00, 0.95, 0.00, 0.04], grad_fn=<SqueezeBackward0>)\n",
      "tensor([[0., 0., 1., 1., 0., 0., 1., 0., 0., 0., 0., 0., 1., 0., 0., 0.]]): tensor([    0.00,     1.00,     0.00,     0.00], grad_fn=<SqueezeBackward0>)\n",
      "tensor([[0., 0., 1., 1., 0., 0., 1., 0., 0., 0., 0., 0., 0., 1., 0., 0.]]): tensor([0.01, 0.89, 0.02, 0.07], grad_fn=<SqueezeBackward0>)\n",
      "tensor([[0., 0., 1., 1., 0., 0., 0., 1., 0., 0., 1., 0., 0., 0., 0., 0.]]): tensor([0.03, 0.93, 0.01, 0.02], grad_fn=<SqueezeBackward0>)\n",
      "tensor([[0., 0., 1., 1., 0., 0., 0., 1., 0., 0., 0., 1., 0., 0., 0., 0.]]): tensor([    0.00,     0.99,     0.00,     0.00], grad_fn=<SqueezeBackward0>)\n",
      "tensor([[0., 0., 1., 1., 0., 0., 0., 1., 0., 0., 0., 0., 1., 0., 0., 0.]]): tensor([    0.00,     1.00,     0.00,     0.00], grad_fn=<SqueezeBackward0>)\n",
      "tensor([[0., 0., 1., 1., 0., 0., 0., 1., 0., 0., 0., 0., 0., 1., 0., 0.]]): tensor([0.01, 0.97, 0.01, 0.01], grad_fn=<SqueezeBackward0>)\n",
      "tensor([[0., 0., 1., 1., 0., 0., 0., 0., 1., 0., 1., 0., 0., 0., 0., 0.]]): tensor([0.04, 0.88, 0.03, 0.06], grad_fn=<SqueezeBackward0>)\n",
      "tensor([[0., 0., 1., 1., 0., 0., 0., 0., 1., 0., 0., 1., 0., 0., 0., 0.]]): tensor([0.00, 0.99, 0.00, 0.01], grad_fn=<SqueezeBackward0>)\n",
      "tensor([[0., 0., 1., 1., 0., 0., 0., 0., 1., 0., 0., 0., 1., 0., 0., 0.]]): tensor([    0.00,     1.00,     0.00,     0.00], grad_fn=<SqueezeBackward0>)\n",
      "tensor([[0., 0., 1., 1., 0., 0., 0., 0., 1., 0., 0., 0., 0., 1., 0., 0.]]): tensor([0.02, 0.94, 0.03, 0.02], grad_fn=<SqueezeBackward0>)\n",
      "tensor([[0., 0., 1., 1., 0., 0., 0., 0., 0., 1., 1., 0., 0., 0., 0., 0.]]): tensor([0.07, 0.87, 0.04, 0.03], grad_fn=<SqueezeBackward0>)\n",
      "tensor([[0., 0., 1., 1., 0., 0., 0., 0., 0., 1., 0., 1., 0., 0., 0., 0.]]): tensor([0.00, 0.99, 0.00, 0.00], grad_fn=<SqueezeBackward0>)\n",
      "tensor([[0., 0., 1., 1., 0., 0., 0., 0., 0., 1., 0., 0., 1., 0., 0., 0.]]): tensor([    0.00,     1.00,     0.00,     0.00], grad_fn=<SqueezeBackward0>)\n",
      "tensor([[0., 0., 1., 1., 0., 0., 0., 0., 0., 1., 0., 0., 0., 1., 0., 0.]]): tensor([0.03, 0.92, 0.05, 0.01], grad_fn=<SqueezeBackward0>)\n",
      "tensor([[0., 0., 1., 0., 1., 0., 1., 0., 0., 0., 1., 0., 0., 0., 0., 0.]]): tensor([0.00, 0.98, 0.00, 0.01], grad_fn=<SqueezeBackward0>)\n",
      "tensor([[0., 0., 1., 0., 1., 0., 1., 0., 0., 0., 0., 1., 0., 0., 0., 0.]]): tensor([    0.00,     1.00,     0.00,     0.00], grad_fn=<SqueezeBackward0>)\n",
      "tensor([[0., 0., 1., 0., 1., 0., 1., 0., 0., 0., 0., 0., 1., 0., 0., 0.]]): tensor([    0.00,     1.00,     0.00,     0.00], grad_fn=<SqueezeBackward0>)\n",
      "tensor([[0., 0., 1., 0., 1., 0., 1., 0., 0., 0., 0., 0., 0., 1., 0., 0.]]): tensor([    0.00,     0.99,     0.00,     0.00], grad_fn=<SqueezeBackward0>)\n",
      "tensor([[0., 0., 1., 0., 1., 0., 0., 1., 0., 0., 1., 0., 0., 0., 0., 0.]]): tensor([0.00, 0.99, 0.00, 0.00], grad_fn=<SqueezeBackward0>)\n",
      "tensor([[0., 0., 1., 0., 1., 0., 0., 1., 0., 0., 0., 1., 0., 0., 0., 0.]]): tensor([    0.00,     1.00,     0.00,     0.00], grad_fn=<SqueezeBackward0>)\n",
      "tensor([[0., 0., 1., 0., 1., 0., 0., 1., 0., 0., 0., 0., 1., 0., 0., 0.]]): tensor([    0.00,     1.00,     0.00,     0.00], grad_fn=<SqueezeBackward0>)\n",
      "tensor([[0., 0., 1., 0., 1., 0., 0., 1., 0., 0., 0., 0., 0., 1., 0., 0.]]): tensor([    0.00,     1.00,     0.00,     0.00], grad_fn=<SqueezeBackward0>)\n",
      "tensor([[0., 0., 1., 0., 1., 0., 0., 0., 1., 0., 1., 0., 0., 0., 0., 0.]]): tensor([0.00, 0.99, 0.00, 0.00], grad_fn=<SqueezeBackward0>)\n",
      "tensor([[0., 0., 1., 0., 1., 0., 0., 0., 1., 0., 0., 1., 0., 0., 0., 0.]]): tensor([    0.00,     1.00,     0.00,     0.00], grad_fn=<SqueezeBackward0>)\n",
      "tensor([[0., 0., 1., 0., 1., 0., 0., 0., 1., 0., 0., 0., 1., 0., 0., 0.]]): tensor([    0.00,     1.00,     0.00,     0.00], grad_fn=<SqueezeBackward0>)\n",
      "tensor([[0., 0., 1., 0., 1., 0., 0., 0., 1., 0., 0., 0., 0., 1., 0., 0.]]): tensor([    0.00,     0.99,     0.00,     0.00], grad_fn=<SqueezeBackward0>)\n",
      "tensor([[0., 0., 1., 0., 1., 0., 0., 0., 0., 1., 1., 0., 0., 0., 0., 0.]]): tensor([0.01, 0.99, 0.00, 0.00], grad_fn=<SqueezeBackward0>)\n",
      "tensor([[0., 0., 1., 0., 1., 0., 0., 0., 0., 1., 0., 1., 0., 0., 0., 0.]]): tensor([    0.00,     1.00,     0.00,     0.00], grad_fn=<SqueezeBackward0>)\n",
      "tensor([[0., 0., 1., 0., 1., 0., 0., 0., 0., 1., 0., 0., 1., 0., 0., 0.]]): tensor([    0.00,     1.00,     0.00,     0.00], grad_fn=<SqueezeBackward0>)\n",
      "tensor([[0., 0., 1., 0., 1., 0., 0., 0., 0., 1., 0., 0., 0., 1., 0., 0.]]): tensor([    0.00,     0.99,     0.00,     0.00], grad_fn=<SqueezeBackward0>)\n",
      "tensor([[0., 0., 1., 0., 0., 1., 1., 0., 0., 0., 1., 0., 0., 0., 0., 0.]]): tensor([0.01, 0.92, 0.00, 0.06], grad_fn=<SqueezeBackward0>)\n",
      "tensor([[0., 0., 1., 0., 0., 1., 1., 0., 0., 0., 0., 1., 0., 0., 0., 0.]]): tensor([    0.00,     0.99,     0.00,     0.01], grad_fn=<SqueezeBackward0>)\n",
      "tensor([[0., 0., 1., 0., 0., 1., 1., 0., 0., 0., 0., 0., 1., 0., 0., 0.]]): tensor([    0.00,     1.00,     0.00,     0.00], grad_fn=<SqueezeBackward0>)\n",
      "tensor([[0., 0., 1., 0., 0., 1., 1., 0., 0., 0., 0., 0., 0., 1., 0., 0.]]): tensor([0.01, 0.98, 0.00, 0.02], grad_fn=<SqueezeBackward0>)\n",
      "tensor([[0., 0., 1., 0., 0., 1., 0., 1., 0., 0., 1., 0., 0., 0., 0., 0.]]): tensor([    0.02,     0.97,     0.00,     0.01], grad_fn=<SqueezeBackward0>)\n",
      "tensor([[0., 0., 1., 0., 0., 1., 0., 1., 0., 0., 0., 1., 0., 0., 0., 0.]]): tensor([    0.00,     1.00,     0.00,     0.00], grad_fn=<SqueezeBackward0>)\n",
      "tensor([[0., 0., 1., 0., 0., 1., 0., 1., 0., 0., 0., 0., 1., 0., 0., 0.]]): tensor([    0.00,     1.00,     0.00,     0.00], grad_fn=<SqueezeBackward0>)\n",
      "tensor([[0., 0., 1., 0., 0., 1., 0., 1., 0., 0., 0., 0., 0., 1., 0., 0.]]): tensor([0.01, 0.99, 0.00, 0.00], grad_fn=<SqueezeBackward0>)\n",
      "tensor([[0., 0., 1., 0., 0., 1., 0., 0., 1., 0., 1., 0., 0., 0., 0., 0.]]): tensor([0.02, 0.96, 0.00, 0.01], grad_fn=<SqueezeBackward0>)\n",
      "tensor([[0., 0., 1., 0., 0., 1., 0., 0., 1., 0., 0., 1., 0., 0., 0., 0.]]): tensor([    0.00,     1.00,     0.00,     0.00], grad_fn=<SqueezeBackward0>)\n",
      "tensor([[0., 0., 1., 0., 0., 1., 0., 0., 1., 0., 0., 0., 1., 0., 0., 0.]]): tensor([    0.00,     1.00,     0.00,     0.00], grad_fn=<SqueezeBackward0>)\n",
      "tensor([[0., 0., 1., 0., 0., 1., 0., 0., 1., 0., 0., 0., 0., 1., 0., 0.]]): tensor([0.01, 0.98, 0.00, 0.00], grad_fn=<SqueezeBackward0>)\n",
      "tensor([[0., 0., 1., 0., 0., 1., 0., 0., 0., 1., 1., 0., 0., 0., 0., 0.]]): tensor([0.04, 0.95, 0.00, 0.01], grad_fn=<SqueezeBackward0>)\n",
      "tensor([[0., 0., 1., 0., 0., 1., 0., 0., 0., 1., 0., 1., 0., 0., 0., 0.]]): tensor([    0.00,     1.00,     0.00,     0.00], grad_fn=<SqueezeBackward0>)\n",
      "tensor([[0., 0., 1., 0., 0., 1., 0., 0., 0., 1., 0., 0., 1., 0., 0., 0.]]): tensor([    0.00,     1.00,     0.00,     0.00], grad_fn=<SqueezeBackward0>)\n",
      "tensor([[0., 0., 1., 0., 0., 1., 0., 0., 0., 1., 0., 0., 0., 1., 0., 0.]]): tensor([0.02, 0.98, 0.00, 0.00], grad_fn=<SqueezeBackward0>)\n"
     ]
    }
   ],
   "source": [
    "print_results(include_plays=True)"
   ]
  },
  {
   "cell_type": "markdown",
   "metadata": {},
   "source": [
    "## The one"
   ]
  },
  {
   "cell_type": "code",
   "execution_count": 19,
   "metadata": {},
   "outputs": [],
   "source": [
    "import os\n",
    "import torch\n",
    "from torch import nn\n",
    "import agents.the_one.agent\n",
    "from gymnasium.wrappers.flatten_observation import FlattenObservation\n",
    "from gymnasium.wrappers.transform_observation import TransformObservation\n",
    "from footsies_gym.envs.footsies import FootsiesEnv\n",
    "from footsies_gym.wrappers.normalization import FootsiesNormalized\n",
    "from footsies_gym.wrappers.action_comb_disc import FootsiesActionCombinationsDiscretized\n",
    "from footsies_gym.wrappers.statistics import FootsiesStatistics\n",
    "from agents.the_one.reaction_time import ReactionTimeEmulator\n",
    "from agents.action import ActionMap\n",
    "from main import load_agent_model"
   ]
  },
  {
   "cell_type": "code",
   "execution_count": 17,
   "metadata": {},
   "outputs": [],
   "source": [
    "from importlib import reload\n",
    "reload(agents.the_one.agent)\n",
    "TheAgent = agents.the_one.agent.FootsiesAgent"
   ]
  },
  {
   "cell_type": "code",
   "execution_count": 20,
   "metadata": {},
   "outputs": [],
   "source": [
    "footsies_env = FootsiesEnv(\n",
    "    game_path=\"../Footsies-Gym/Build/FOOTSIES.x86_64\",\n",
    "    render_mode=\"human\",\n",
    "    dense_reward=True,\n",
    "    fast_forward=False,\n",
    "    log_file=None, #os.path.join(os.getcwd(), \"out.log\"),\n",
    "    log_file_overwrite=True,\n",
    ")\n",
    "\n",
    "statistics = FootsiesStatistics(footsies_env)\n",
    "\n",
    "env = TransformObservation(\n",
    "    FootsiesActionCombinationsDiscretized(\n",
    "        FlattenObservation(\n",
    "            FootsiesNormalized(statistics)\n",
    "        )\n",
    "    ),\n",
    "    lambda obs: torch.from_numpy(obs).float().unsqueeze(0),\n",
    ")"
   ]
  },
  {
   "cell_type": "code",
   "execution_count": 21,
   "metadata": {},
   "outputs": [],
   "source": [
    "reaction_time_emulator = ReactionTimeEmulator(\n",
    "    inaction_probability=0.0,\n",
    "    multiplier=0.0,\n",
    "    additive=0.0,\n",
    "    history_size=30,\n",
    ")\n",
    "\n",
    "reaction_time_emulator.confine_to_range(15.0, 29.0, ActionMap.n_simple())\n",
    "\n",
    "agent = TheAgent(\n",
    "    observation_space_size=env.observation_space.shape[0],\n",
    "    action_space_size=env.action_space.n,\n",
    "    representation_dim=64,\n",
    "    reaction_time_emulator_minimum=0.0,\n",
    "    consider_actions_in_representation=False,\n",
    "    opponent_model_learn=False,\n",
    "    actor_critic_frameskip=True,\n",
    "    opponent_model_frameskip=True,\n",
    "    representation_hidden_layer_sizes_specification=\"256\",\n",
    "    representation_hidden_layer_activation_specification=\"ReLU\",\n",
    "    reaction_time_emulator=reaction_time_emulator,\n",
    ")"
   ]
  },
  {
   "cell_type": "code",
   "execution_count": 22,
   "metadata": {},
   "outputs": [
    {
     "name": "stdout",
     "output_type": "stream",
     "text": [
      "Agent loaded\n"
     ]
    }
   ],
   "source": [
    "load_agent_model(agent, \"the_one_no_react_ent_multi\")"
   ]
  },
  {
   "cell_type": "code",
   "execution_count": 6,
   "metadata": {},
   "outputs": [],
   "source": [
    "parameters = list(agent.game_model.parameters())"
   ]
  },
  {
   "cell_type": "code",
   "execution_count": 8,
   "metadata": {},
   "outputs": [
    {
     "ename": "ValueError",
     "evalue": "the opponent model must be linear to use this method",
     "output_type": "error",
     "traceback": [
      "\u001b[0;31m---------------------------------------------------------------------------\u001b[0m",
      "\u001b[0;31mValueError\u001b[0m                                Traceback (most recent call last)",
      "Cell \u001b[0;32mIn[8], line 1\u001b[0m\n\u001b[0;32m----> 1\u001b[0m \u001b[43magent\u001b[49m\u001b[38;5;241;43m.\u001b[39;49m\u001b[43menv_concat\u001b[49m\u001b[43m(\u001b[49m\u001b[38;5;241;43m1\u001b[39;49m\u001b[43m)\u001b[49m\n",
      "File \u001b[0;32m~/projects/footsies-agents/agents/the_one/agent.py:188\u001b[0m, in \u001b[0;36mFootsiesAgent.env_concat\u001b[0;34m(self, n)\u001b[0m\n\u001b[1;32m    186\u001b[0m     \u001b[38;5;28;01mraise\u001b[39;00m \u001b[38;5;167;01mValueError\u001b[39;00m(\u001b[38;5;124m\"\u001b[39m\u001b[38;5;124mthe game model must be linear to use this method\u001b[39m\u001b[38;5;124m\"\u001b[39m)\n\u001b[1;32m    187\u001b[0m \u001b[38;5;28;01mif\u001b[39;00m \u001b[38;5;28mlen\u001b[39m(\u001b[38;5;28mself\u001b[39m\u001b[38;5;241m.\u001b[39mopponent_model\u001b[38;5;241m.\u001b[39mopponent_model_layers) \u001b[38;5;241m>\u001b[39m \u001b[38;5;241m1\u001b[39m:\n\u001b[0;32m--> 188\u001b[0m     \u001b[38;5;28;01mraise\u001b[39;00m \u001b[38;5;167;01mValueError\u001b[39;00m(\u001b[38;5;124m\"\u001b[39m\u001b[38;5;124mthe opponent model must be linear to use this method\u001b[39m\u001b[38;5;124m\"\u001b[39m)\n\u001b[1;32m    189\u001b[0m \u001b[38;5;28;01mif\u001b[39;00m \u001b[38;5;28mlen\u001b[39m(\u001b[38;5;28mself\u001b[39m\u001b[38;5;241m.\u001b[39ma2c\u001b[38;5;241m.\u001b[39mactor\u001b[38;5;241m.\u001b[39mactor_layers) \u001b[38;5;241m>\u001b[39m \u001b[38;5;241m1\u001b[39m:\n\u001b[1;32m    190\u001b[0m     \u001b[38;5;28;01mraise\u001b[39;00m \u001b[38;5;167;01mValueError\u001b[39;00m(\u001b[38;5;124m\"\u001b[39m\u001b[38;5;124mthe actor must be linear to use this method\u001b[39m\u001b[38;5;124m\"\u001b[39m)\n",
      "\u001b[0;31mValueError\u001b[0m: the opponent model must be linear to use this method"
     ]
    }
   ],
   "source": [
    "agent.env_concat(1)"
   ]
  },
  {
   "cell_type": "markdown",
   "metadata": {},
   "source": [
    "## Imitation learning"
   ]
  },
  {
   "cell_type": "markdown",
   "metadata": {},
   "source": [
    "### Setup"
   ]
  },
  {
   "cell_type": "code",
   "execution_count": 15,
   "metadata": {},
   "outputs": [],
   "source": [
    "import data\n",
    "import torch\n",
    "import agents.a2c.a2c as a2c\n",
    "from torch import nn\n",
    "from footsies_gym.utils import get_dict_obs_from_vector_obs\n",
    "from footsies_gym.envs.footsies import FootsiesEnv\n",
    "from footsies_gym.wrappers.action_comb_disc import FootsiesActionCombinationsDiscretized\n",
    "from footsies_gym.wrappers.normalization import FootsiesNormalized\n",
    "from gymnasium.wrappers.flatten_observation import FlattenObservation\n",
    "from agents.action import ActionMap"
   ]
  },
  {
   "cell_type": "code",
   "execution_count": 2,
   "metadata": {},
   "outputs": [],
   "source": [
    "from importlib import reload\n",
    "reload(data)\n",
    "FootsiesDataset = data.FootsiesDataset\n",
    "FootsiesTorchDataset = data.FootsiesTorchDataset\n",
    "reload(a2c)\n",
    "ActorNetwork = a2c.ActorNetwork\n",
    "ImitationLearner = a2c.ImitationLearner"
   ]
  },
  {
   "cell_type": "code",
   "execution_count": 17,
   "metadata": {},
   "outputs": [],
   "source": [
    "footsies_env = FootsiesEnv(\n",
    "    game_path=\"../Footsies-Gym/Build/FOOTSIES.x86_64\",\n",
    "    render_mode=\"human\",\n",
    "    dense_reward=True,\n",
    "    fast_forward=False,\n",
    "    log_file=None,\n",
    "    log_file_overwrite=True,\n",
    ")\n",
    "\n",
    "env = footsies_env\n",
    "env = FootsiesNormalized(env)\n",
    "env = FlattenObservation(env)\n",
    "env = FootsiesActionCombinationsDiscretized(env)\n",
    "\n",
    "obs_dim = env.observation_space.shape[0]\n",
    "action_dim = env.action_space.n"
   ]
  },
  {
   "cell_type": "code",
   "execution_count": 5,
   "metadata": {},
   "outputs": [],
   "source": [
    "fd = FootsiesDataset.load(\"footsies-dataset\")"
   ]
  },
  {
   "cell_type": "code",
   "execution_count": 6,
   "metadata": {},
   "outputs": [],
   "source": [
    "fdt = FootsiesTorchDataset(fd)"
   ]
  },
  {
   "cell_type": "code",
   "execution_count": 7,
   "metadata": {},
   "outputs": [
    {
     "data": {
      "text/plain": [
       "OrderedDict([('guard', (3.0, 3.0)),\n",
       "             ('move', array([8, 8])),\n",
       "             ('move_frame', (5.000000149011612, 5.000000149011612)),\n",
       "             ('position', (1.328001356124878, 2.72800133228302))])"
      ]
     },
     "execution_count": 7,
     "metadata": {},
     "output_type": "execute_result"
    }
   ],
   "source": [
    "get_dict_obs_from_vector_obs(fd[758].observations[-2, :], unflattenend_observation_space=footsies_env.observation_space)"
   ]
  },
  {
   "cell_type": "code",
   "execution_count": 12,
   "metadata": {},
   "outputs": [],
   "source": [
    "from torch.utils.data import DataLoader\n",
    "fdt_dataloader = DataLoader(fdt, batch_size=1, shuffle=False)"
   ]
  },
  {
   "cell_type": "markdown",
   "metadata": {},
   "source": [
    "### Normal discrete policy"
   ]
  },
  {
   "cell_type": "code",
   "execution_count": 4,
   "metadata": {},
   "outputs": [],
   "source": [
    "policy_discrete = ActorNetwork(\n",
    "    obs_dim=obs_dim,\n",
    "    action_dim=action_dim,\n",
    "    hidden_layer_sizes=[64],\n",
    "    hidden_layer_activation=nn.ReLU,\n",
    ")"
   ]
  },
  {
   "cell_type": "code",
   "execution_count": 13,
   "metadata": {},
   "outputs": [],
   "source": [
    "il = ImitationLearner(\n",
    "    policy=policy_discrete,\n",
    "    action_dim=env.action_space.n,\n",
    "    **{\n",
    "        \"optimizer.lr\": 1e-4,\n",
    "    },\n",
    ")"
   ]
  },
  {
   "cell_type": "code",
   "execution_count": null,
   "metadata": {},
   "outputs": [],
   "source": [
    "from tqdm import tqdm\n",
    "\n",
    "losses = []\n",
    "for obs, next_obs, reward, p1_action, p2_action, terminated in tqdm(fdt_dataloader):\n",
    "    obs = obs.float()\n",
    "    p1_action = p1_action.long()\n",
    "    p2_action = p2_action.long()\n",
    "\n",
    "    action = il.action_as_onehot(p1_action)\n",
    "    loss = il.learn(obs, action)\n",
    "\n",
    "    losses.append(loss.item())"
   ]
  },
  {
   "cell_type": "markdown",
   "metadata": {},
   "source": [
    "### Mimic"
   ]
  },
  {
   "cell_type": "code",
   "execution_count": 16,
   "metadata": {},
   "outputs": [],
   "source": [
    "from agents.mimic.agent import FootsiesAgent as MimicAgent"
   ]
  },
  {
   "cell_type": "code",
   "execution_count": null,
   "metadata": {},
   "outputs": [],
   "source": [
    "mimic = MimicAgent(\n",
    "    observation_space_size=obs_dim,\n",
    "    action_space_size=action_dim,\n",
    "    frameskipping=True,\n",
    "    tile_coding=False,\n",
    "    append_last_actions_n=0,\n",
    "    append_last_actions_distinct=True,\n",
    "    by_primitive_actions=False,\n",
    "    use_sigmoid_output=False,\n",
    "    input_clip=False,\n",
    "    input_clip_leaky_coef=0.0,\n",
    "    hidden_layer_sizes_specification=\"64,64\",\n",
    "    hidden_layer_activation_specification=\"LeakyReLU\",\n",
    "    move_transition_scale=10,\n",
    "    mini_batch_size=1,\n",
    "    learning_rate=1e-2,\n",
    "    reinforce_max_loss=float(\"+inf\"),\n",
    "    reinforce_max_iters=float(\"+inf\"),\n",
    "    scar_max_size=1000,\n",
    "    scar_loss_coef=1,\n",
    "    scar_recency_coef=0,\n",
    "    scar_detection_threshold=float(\"+inf\"),\n",
    "    smoothed_loss_coef=0,\n",
    "    learn_p1=True,\n",
    "    learn_p2=True,\n",
    ")"
   ]
  },
  {
   "cell_type": "markdown",
   "metadata": {},
   "source": [
    "### Recurrent policy"
   ]
  },
  {
   "cell_type": "code",
   "execution_count": 143,
   "metadata": {},
   "outputs": [],
   "source": [
    "class RecurrentPolicy(nn.Module):\n",
    "    def __init__(self):\n",
    "        super().__init__()\n",
    "\n",
    "        self.ipt = nn.Linear(obs_dim, 64)\n",
    "        self.lstm = nn.LSTMCell(64, 64)\n",
    "        self.out = nn.Linear(64, action_dim)\n",
    "        self.softmax = nn.Softmax(dim=1)\n",
    "\n",
    "    def forward(self, x: torch.Tensor, h: torch.Tensor, c: torch.Tensor):\n",
    "        x = nn.functional.relu(self.ipt(x))\n",
    "        hx, cx = self.lstm(x, (h, c))\n",
    "        x = self.out(hx)\n",
    "        return self.softmax(x), (hx, cx)\n",
    "\n",
    "policy_discrete_recurrent = RecurrentPolicy()"
   ]
  },
  {
   "cell_type": "code",
   "execution_count": null,
   "metadata": {},
   "outputs": [],
   "source": [
    "optimizer = torch.optim.Adam(policy_discrete_recurrent.parameters(), lr=1e-4)\n",
    "loss_fn = nn.KLDivLoss(reduction=\"batchmean\")"
   ]
  },
  {
   "cell_type": "code",
   "execution_count": 149,
   "metadata": {},
   "outputs": [
    {
     "name": "stderr",
     "output_type": "stream",
     "text": [
      "100%|██████████| 190491/190491 [02:33<00:00, 1244.66it/s]\n"
     ]
    }
   ],
   "source": [
    "from tqdm import tqdm\n",
    "\n",
    "losses = []\n",
    "h = torch.zeros(1, 64)\n",
    "c = torch.zeros(1, 64)\n",
    "ls = torch.tensor(0.0)\n",
    "for obs, next_obs, reward, p1_action, p2_action, terminated in tqdm(fdt_dataloader):\n",
    "    obs = obs.float()\n",
    "    p1_action = p1_action.long()\n",
    "    p2_action = p2_action.long()\n",
    "\n",
    "    action_onehot = torch.nn.functional.one_hot(p1_action, num_classes=env.action_space.n).float()\n",
    "    probs, (h, c) = policy_discrete_recurrent(obs, h, c)\n",
    "    loss = loss_fn(probs, action_onehot)\n",
    "    ls += loss\n",
    "\n",
    "    if terminated:\n",
    "        optimizer.zero_grad()\n",
    "        ls.backward()\n",
    "        optimizer.step()\n",
    "\n",
    "        h = torch.zeros(1, 64)\n",
    "        c = torch.zeros(1, 64)\n",
    "        ls = torch.tensor(0.0)\n",
    "\n",
    "    losses.append(loss.item())"
   ]
  },
  {
   "cell_type": "code",
   "execution_count": 150,
   "metadata": {},
   "outputs": [
    {
     "data": {
      "text/plain": [
       "[<matplotlib.lines.Line2D at 0x7ff193586d70>]"
      ]
     },
     "execution_count": 150,
     "metadata": {},
     "output_type": "execute_result"
    },
    {
     "data": {
      "image/png": "[encoded data removed]",
      "text/plain": [
       "<Figure size 640x480 with 1 Axes>"
      ]
     },
     "metadata": {},
     "output_type": "display_data"
    }
   ],
   "source": [
    "from matplotlib import pyplot as plt\n",
    "\n",
    "plt.plot(losses)"
   ]
  },
  {
   "cell_type": "code",
   "execution_count": 160,
   "metadata": {},
   "outputs": [],
   "source": [
    "obs, info = env.reset()\n",
    "terminated, truncated = False, False\n",
    "h = torch.zeros(1, 64)\n",
    "c = torch.zeros(1, 64)\n",
    "while not (terminated or truncated):\n",
    "    obs = torch.from_numpy(obs).float().unsqueeze(0)\n",
    "    probs, _ = policy_discrete_recurrent(obs, h, c)\n",
    "    action = torch.distributions.Categorical(probs=probs).sample().item()\n",
    "    obs, reward, terminated, truncated, info = env.step(action)"
   ]
  },
  {
   "cell_type": "markdown",
   "metadata": {},
   "source": [
    "## Q-learning"
   ]
  },
  {
   "cell_type": "markdown",
   "metadata": {},
   "source": [
    "Imports and reloads."
   ]
  },
  {
   "cell_type": "code",
   "execution_count": 1,
   "metadata": {},
   "outputs": [],
   "source": [
    "from torch import nn\n",
    "import torch\n",
    "import numpy as np\n",
    "from data import FootsiesDataset\n",
    "import agents.ql.ql as ql\n",
    "import agents.a2c.a2c as a2c\n",
    "from agents.action import ActionMap"
   ]
  },
  {
   "cell_type": "code",
   "execution_count": 2,
   "metadata": {},
   "outputs": [],
   "source": [
    "from importlib import reload\n",
    "reload(ql)\n",
    "reload(a2c)\n",
    "QTable = ql.QTable\n",
    "A2CQLearner = a2c.A2CQLearner\n",
    "ActorNetwork = a2c.ActorNetwork"
   ]
  },
  {
   "cell_type": "markdown",
   "metadata": {},
   "source": [
    "Load dataset."
   ]
  },
  {
   "cell_type": "code",
   "execution_count": 3,
   "metadata": {},
   "outputs": [],
   "source": [
    "fd = FootsiesDataset.load(\"footsies-dataset\")"
   ]
  },
  {
   "cell_type": "code",
   "execution_count": 4,
   "metadata": {},
   "outputs": [],
   "source": [
    "obs_dim = fd[0].observations[0].shape[0]\n",
    "action_dim = ActionMap.n_simple()"
   ]
  },
  {
   "cell_type": "markdown",
   "metadata": {},
   "source": [
    "Create the agent and Q-table."
   ]
  },
  {
   "cell_type": "code",
   "execution_count": 5,
   "metadata": {},
   "outputs": [],
   "source": [
    "qtable = QTable(\n",
    "    action_dim=action_dim,\n",
    "    opponent_action_dim=action_dim,\n",
    "    discount=1.0,\n",
    "    learning_rate=1e-2,\n",
    "    table_as_matrix=False,\n",
    "    move_frame_n_bins=5,\n",
    "    position_n_bins=5,\n",
    ")"
   ]
  },
  {
   "cell_type": "code",
   "execution_count": 6,
   "metadata": {},
   "outputs": [],
   "source": [
    "actor = ActorNetwork(\n",
    "    obs_dim=obs_dim + action_dim,\n",
    "    action_dim=action_dim,\n",
    "    hidden_layer_sizes=[64],\n",
    "    hidden_layer_activation=nn.ReLU,\n",
    ")"
   ]
  },
  {
   "cell_type": "code",
   "execution_count": 7,
   "metadata": {},
   "outputs": [],
   "source": [
    "agent = A2CQLearner(\n",
    "    actor=actor,\n",
    "    critic=qtable,\n",
    "    actor_entropy_loss_coef=0.05,\n",
    "    policy_cumulative_discount=False,\n",
    "    consider_opponent_action=True,\n",
    "    over_simple_actions=True,\n",
    "    **{\n",
    "        \"actor_optimizer.lr\": 1e-4,\n",
    "    }\n",
    ")"
   ]
  },
  {
   "cell_type": "markdown",
   "metadata": {},
   "source": [
    "Training loop."
   ]
  },
  {
   "cell_type": "code",
   "execution_count": 9,
   "metadata": {},
   "outputs": [
    {
     "name": "stdout",
     "output_type": "stream",
     "text": [
      " 0.0000983\r"
     ]
    }
   ],
   "source": [
    "from tqdm import tqdm\n",
    "\n",
    "td_error_avg = None\n",
    "while td_error_avg is None or td_error_avg > 1e-4:\n",
    "    if td_error_avg is None:\n",
    "        td_error_avg = 0.0\n",
    "\n",
    "    td_errors = []\n",
    "    for obs, next_obs, reward, p1_action, p2_action, terminated in tqdm(fd.transitions, disable=True):\n",
    "        p1_action = p1_action[0]\n",
    "        p2_action = p2_action[0]\n",
    "        reward = reward[0]\n",
    "        td_error = q.update(obs, p1_action, reward, next_obs, terminated)\n",
    "        # We can only use experience from the second player if we invert the observation's perspective\n",
    "        # td_errors.append(q.update(obs, p2_action, -reward, next_obs, terminated))\n",
    "        \n",
    "        td_error_avg = 0.999 * td_error_avg + 0.001 * td_error\n",
    "        td_errors.append(td_error_avg)\n",
    "        print(f\"{td_error_avg:>10.7f}\", end=\"\\r\")\n",
    "    \n",
    "    td_error_avg = np.mean(td_errors)"
   ]
  },
  {
   "cell_type": "code",
   "execution_count": null,
   "metadata": {},
   "outputs": [],
   "source": [
    "from footsies_gym.moves import FOOTSIES_MOVE_INDEX_TO_MOVE\n",
    "\n",
    "def obtain_effective_action(previous_move_index: int, current_move_index: int, previous_move_progress: float, current_move_progress) -> int:\n",
    "    move = FOOTSIES_MOVE_INDEX_TO_MOVE[previous_move_index]\n",
    "    actionable = ActionMap.is_state_actionable_late(move, previous_move_progress, current_move_progress)\n",
    "    return ActionMap.simple_from_move_index(current_move_index) if actionable else None"
   ]
  },
  {
   "cell_type": "code",
   "execution_count": null,
   "metadata": {},
   "outputs": [],
   "source": [
    "td_errors = []\n",
    "td_error_avg = 0.0\n",
    "for obs, next_obs, reward, p1_action, p2_action, terminated in tqdm(fd.transitions):\n",
    "    p1_action = p1_action[0]\n",
    "    p2_action = p2_action[0]\n",
    "    reward = reward[0]\n",
    "    \n",
    "    p1_action = obtain_effective_action(\n",
    "        previous_move_index=np.argmax(obs[2:17]),\n",
    "        current_move_index=np.argmax(next_obs[2:17]),\n",
    "        previous_move_progress=obs[32],\n",
    "        current_move_progress=next_obs[32],\n",
    "    )\n",
    "    p2_action = obtain_effective_action(\n",
    "        previous_move_index=np.argmax(obs[17:32]),\n",
    "        current_move_index=np.argmax(next_obs[17:32]),\n",
    "        previous_move_progress=obs[33],\n",
    "        current_move_progress=next_obs[33],\n",
    "    )\n",
    "\n",
    "    obs = torch.from_numpy(obs).float().unsqueeze(0)\n",
    "    next_obs = torch.from_numpy(next_obs).float().unsqueeze(0)\n",
    "\n",
    "    agent.learn(\n",
    "        obs, next_obs, reward, terminated, False,\n",
    "        obs_agent_action=p1_action,\n",
    "        obs_opponent_action=p2_action,\n",
    "    )\n",
    "\n",
    "    td_error = agent.delta\n",
    "    \n",
    "    td_error_avg = 0.999 * td_error_avg + 0.001 * td_error\n",
    "    td_errors.append(td_error_avg)"
   ]
  },
  {
   "cell_type": "markdown",
   "metadata": {},
   "source": [
    "Using a matrix as a table for tabular Q-learning creates a very sparse table, not being memory-efficient at all"
   ]
  },
  {
   "cell_type": "code",
   "execution_count": 21,
   "metadata": {},
   "outputs": [
    {
     "name": "stdout",
     "output_type": "stream",
     "text": [
      "Sparsity: 99.917789%\n"
     ]
    }
   ],
   "source": [
    "print(f\"Sparsity: {1 - len(q.table.nonzero()[0]) / q.table.size:%}\")"
   ]
  },
  {
   "cell_type": "code",
   "execution_count": 75,
   "metadata": {},
   "outputs": [
    {
     "data": {
      "text/plain": [
       "[<matplotlib.lines.Line2D at 0x7fdea0897b80>]"
      ]
     },
     "execution_count": 75,
     "metadata": {},
     "output_type": "execute_result"
    },
    {
     "data": {
      "image/png": "[encoded data removed]",
      "text/plain": [
       "<Figure size 640x480 with 1 Axes>"
      ]
     },
     "metadata": {},
     "output_type": "display_data"
    }
   ],
   "source": [
    "import matplotlib.pyplot as plt\n",
    "\n",
    "plt.plot(td_errors)"
   ]
  },
  {
   "cell_type": "markdown",
   "metadata": {},
   "source": [
    "## ..."
   ]
  }
 ],
 "metadata": {
  "kernelspec": {
   "display_name": "venv",
   "language": "python",
   "name": "python3"
  },
  "language_info": {
   "codemirror_mode": {
    "name": "ipython",
    "version": 3
   },
   "file_extension": ".py",
   "mimetype": "text/x-python",
   "name": "python",
   "nbconvert_exporter": "python",
   "pygments_lexer": "ipython3",
   "version": "3.10.12"
  }
 },
 "nbformat": 4,
 "nbformat_minor": 2
}
