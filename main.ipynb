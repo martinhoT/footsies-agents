{
 "cells": [
  {
   "cell_type": "markdown",
   "metadata": {},
   "source": [
    "# Testing grounds"
   ]
  },
  {
   "cell_type": "markdown",
   "metadata": {},
   "source": [
    "## Setup"
   ]
  },
  {
   "cell_type": "markdown",
   "metadata": {},
   "source": [
    "### Imports"
   ]
  },
  {
   "cell_type": "code",
   "execution_count": 92,
   "metadata": {},
   "outputs": [],
   "source": [
    "import os\n",
    "import numpy as np\n",
    "from main import load_agent_model, train\n",
    "from gymnasium.wrappers.flatten_observation import FlattenObservation\n",
    "from footsies_gym.envs.footsies import FootsiesEnv\n",
    "from footsies_gym.wrappers.normalization import FootsiesNormalized\n",
    "from footsies_gym.wrappers.action_comb_disc import FootsiesActionCombinationsDiscretized\n",
    "from footsies_gym.wrappers.statistics import FootsiesStatistics\n",
    "from importlib import reload"
   ]
  },
  {
   "cell_type": "markdown",
   "metadata": {},
   "source": [
    "### Environment"
   ]
  },
  {
   "cell_type": "code",
   "execution_count": 2,
   "metadata": {},
   "outputs": [],
   "source": [
    "human_testing_kwargs = {\n",
    "    \"frame_delay\": 0,\n",
    "    \"fast_forward\": False,\n",
    "    \"vs_player\": True,\n",
    "    \"render_mode\": \"human\",\n",
    "}\n",
    "\n",
    "normal_testing_kwargs = {\n",
    "    \"frame_delay\": 0\n",
    "}"
   ]
  },
  {
   "cell_type": "code",
   "execution_count": 32,
   "metadata": {},
   "outputs": [],
   "source": [
    "footsies_env = FootsiesEnv(\n",
    "    game_path=\"../Footsies-Gym/Build/FOOTSIES.x86_64\",\n",
    "    **normal_testing_kwargs,\n",
    "    log_file=os.path.join(os.getcwd(), \"out.log\"),\n",
    "    log_file_overwrite=True,\n",
    ")\n",
    "\n",
    "statistics = FootsiesStatistics(footsies_env)\n",
    "\n",
    "env = FootsiesActionCombinationsDiscretized(\n",
    "    FlattenObservation(\n",
    "        FootsiesNormalized(\n",
    "            statistics\n",
    "        )\n",
    "    )\n",
    ")"
   ]
  },
  {
   "cell_type": "markdown",
   "metadata": {},
   "source": [
    "## Environment testing"
   ]
  },
  {
   "cell_type": "code",
   "execution_count": 3,
   "metadata": {},
   "outputs": [
    {
     "name": "stdout",
     "output_type": "stream",
     "text": [
      "Env reset\n",
      "A\n",
      "0.3\n",
      "0.7\n",
      "Env reset\n",
      "A\n",
      "0.3\n",
      "0.7\n",
      "Env reset\n",
      "A\n",
      "-1.0\n",
      "Env reset\n",
      "A\n",
      "-0.3\n",
      "0.3\n",
      "1.0\n",
      "Env reset\n",
      "A\n",
      "0.3\n",
      "0.7\n"
     ]
    }
   ],
   "source": [
    "for e in range(5):\n",
    "    print(\"Env reset\")\n",
    "    obs, info = env.reset()\n",
    "    print(\"A\")\n",
    "    terminated, truncated = False, False\n",
    "\n",
    "    while not (terminated or truncated):\n",
    "        obs, reward, terminated, truncated, info = env.step(env.action_space.sample())\n",
    "        if reward != 0.0:\n",
    "            print(reward)"
   ]
  },
  {
   "cell_type": "code",
   "execution_count": 4,
   "metadata": {},
   "outputs": [],
   "source": [
    "env.close()"
   ]
  },
  {
   "cell_type": "code",
   "execution_count": 25,
   "metadata": {},
   "outputs": [],
   "source": [
    "env.unwrapped.hard_reset()"
   ]
  },
  {
   "cell_type": "markdown",
   "metadata": {},
   "source": [
    "## Brisket testing"
   ]
  },
  {
   "cell_type": "code",
   "execution_count": 117,
   "metadata": {},
   "outputs": [],
   "source": [
    "import torch\n",
    "from agents.brisket.agent import FootsiesAgent as BrisketAgent\n",
    "from agents.brisket.loggables import get_loggables as get_brisket_loggables\n",
    "from agents.logger import TrainingLoggerWrapper"
   ]
  },
  {
   "cell_type": "markdown",
   "metadata": {},
   "source": [
    "For reloading in case changes were made"
   ]
  },
  {
   "cell_type": "code",
   "execution_count": 116,
   "metadata": {},
   "outputs": [
    {
     "data": {
      "text/plain": [
       "<module 'agents.logger' from '/home/martinho/projects/footsies-agents/agents/logger.py'>"
      ]
     },
     "execution_count": 116,
     "metadata": {},
     "output_type": "execute_result"
    }
   ],
   "source": [
    "import agents.brisket.agent\n",
    "import agents.logger\n",
    "reload(agents.brisket.agent)\n",
    "reload(agents.logger)"
   ]
  },
  {
   "cell_type": "code",
   "execution_count": 118,
   "metadata": {},
   "outputs": [],
   "source": [
    "brisket = BrisketAgent(\n",
    "    observation_space=env.observation_space,\n",
    "    action_space=env.action_space,\n",
    "    \n",
    "    # For testing\n",
    "    # epsilon=0,\n",
    "    # epsilon_decay_rate=0,\n",
    "    # min_epsilon=0,\n",
    ")"
   ]
  },
  {
   "cell_type": "code",
   "execution_count": 119,
   "metadata": {},
   "outputs": [],
   "source": [
    "brisket = TrainingLoggerWrapper(\n",
    "    brisket,\n",
    "    10,\n",
    "    cummulative_reward=True,\n",
    "    win_rate=True,\n",
    "    test_states_number=100,\n",
    "    **get_brisket_loggables(brisket),\n",
    ")"
   ]
  },
  {
   "cell_type": "code",
   "execution_count": 120,
   "metadata": {},
   "outputs": [],
   "source": [
    "brisket.preprocess(env)"
   ]
  },
  {
   "cell_type": "code",
   "execution_count": 8,
   "metadata": {},
   "outputs": [
    {
     "name": "stdout",
     "output_type": "stream",
     "text": [
      "Agent loaded\n"
     ]
    }
   ],
   "source": [
    "load_agent_model(brisket, \"brisket\")"
   ]
  },
  {
   "cell_type": "code",
   "execution_count": 17,
   "metadata": {},
   "outputs": [],
   "source": [
    "obs, info = env.reset()"
   ]
  },
  {
   "cell_type": "code",
   "execution_count": 24,
   "metadata": {},
   "outputs": [],
   "source": [
    "obs_t = torch.tensor(obs, dtype=torch.float32).reshape(1, -1)"
   ]
  },
  {
   "cell_type": "code",
   "execution_count": 25,
   "metadata": {},
   "outputs": [
    {
     "data": {
      "text/plain": [
       "tensor([[ 0.0000,  0.0000,  0.0000,  1.0000,  0.0000,  0.0000,  0.0000,  1.0000,\n",
       "          1.0000,  0.0000,  0.0000,  0.0000,  0.0000,  0.0000,  0.0000,  0.0000,\n",
       "          0.0000,  0.0000,  0.0000,  0.0000,  0.0000,  0.0000,  0.0000,  1.0000,\n",
       "          0.0000,  0.0000,  0.0000,  0.0000,  0.0000,  0.0000,  0.0000,  0.0000,\n",
       "          0.0000,  0.0000,  0.0000,  0.0000,  0.0000,  0.0000,  0.0417,  0.0417,\n",
       "         -2.0000,  2.0000]])"
      ]
     },
     "execution_count": 25,
     "metadata": {},
     "output_type": "execute_result"
    }
   ],
   "source": [
    "obs_t"
   ]
  },
  {
   "cell_type": "code",
   "execution_count": 30,
   "metadata": {},
   "outputs": [
    {
     "data": {
      "text/plain": [
       "[0.110465869307518,\n",
       " 0.08165869116783142,\n",
       " 0.11638332903385162,\n",
       " 0.09342239797115326,\n",
       " 0.12450563162565231,\n",
       " 0.1109839603304863,\n",
       " 0.10539047420024872,\n",
       " 0.10376224666833878]"
      ]
     },
     "execution_count": 30,
     "metadata": {},
     "output_type": "execute_result"
    }
   ],
   "source": [
    "[brisket.q_value(obs_t, brisket.action_oh(a)) for a in range(8)]"
   ]
  },
  {
   "cell_type": "markdown",
   "metadata": {},
   "source": [
    "### Brisket training"
   ]
  },
  {
   "cell_type": "code",
   "execution_count": 121,
   "metadata": {},
   "outputs": [
    {
     "name": "stderr",
     "output_type": "stream",
     "text": [
      "100%|██████████| 100/100 [00:57<00:00,  1.73it/s]\n"
     ]
    }
   ],
   "source": [
    "train(brisket, env, 100)"
   ]
  },
  {
   "cell_type": "code",
   "execution_count": 15,
   "metadata": {},
   "outputs": [
    {
     "data": {
      "text/plain": [
       "264"
      ]
     },
     "execution_count": 15,
     "metadata": {},
     "output_type": "execute_result"
    }
   ],
   "source": [
    "sum(statistics.metric_special_moves_per_episode)"
   ]
  },
  {
   "cell_type": "code",
   "execution_count": 16,
   "metadata": {},
   "outputs": [],
   "source": [
    "env.unwrapped.hard_reset()"
   ]
  },
  {
   "cell_type": "code",
   "execution_count": 17,
   "metadata": {},
   "outputs": [],
   "source": [
    "obs, info = env.reset()"
   ]
  },
  {
   "cell_type": "code",
   "execution_count": 18,
   "metadata": {},
   "outputs": [
    {
     "data": {
      "text/plain": [
       "array([ 0.        ,  0.        ,  0.        ,  1.        ,  0.        ,\n",
       "        0.        ,  0.        ,  1.        ,  1.        ,  0.        ,\n",
       "        0.        ,  0.        ,  0.        ,  0.        ,  0.        ,\n",
       "        0.        ,  0.        ,  0.        ,  0.        ,  0.        ,\n",
       "        0.        ,  0.        ,  0.        ,  1.        ,  0.        ,\n",
       "        0.        ,  0.        ,  0.        ,  0.        ,  0.        ,\n",
       "        0.        ,  0.        ,  0.        ,  0.        ,  0.        ,\n",
       "        0.        ,  0.        ,  0.        ,  0.04166667,  0.04166667,\n",
       "       -2.        ,  2.        ])"
      ]
     },
     "execution_count": 18,
     "metadata": {},
     "output_type": "execute_result"
    }
   ],
   "source": [
    "obs"
   ]
  },
  {
   "cell_type": "code",
   "execution_count": 19,
   "metadata": {},
   "outputs": [],
   "source": [
    "obs, _, _, _, _ = env.step(1)"
   ]
  },
  {
   "cell_type": "markdown",
   "metadata": {},
   "source": [
    "## ..."
   ]
  }
 ],
 "metadata": {
  "kernelspec": {
   "display_name": "venv",
   "language": "python",
   "name": "python3"
  },
  "language_info": {
   "codemirror_mode": {
    "name": "ipython",
    "version": 3
   },
   "file_extension": ".py",
   "mimetype": "text/x-python",
   "name": "python",
   "nbconvert_exporter": "python",
   "pygments_lexer": "ipython3",
   "version": "3.10.12"
  }
 },
 "nbformat": 4,
 "nbformat_minor": 2
}
