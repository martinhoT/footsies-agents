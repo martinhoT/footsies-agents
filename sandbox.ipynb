{
 "cells": [
  {
   "cell_type": "markdown",
   "metadata": {},
   "source": [
    "# Miscellaneous testing"
   ]
  },
  {
   "cell_type": "code",
   "execution_count": 1,
   "metadata": {},
   "outputs": [],
   "source": [
    "import torch"
   ]
  },
  {
   "cell_type": "code",
   "execution_count": 2,
   "metadata": {},
   "outputs": [],
   "source": [
    "predicted = torch.tensor(\n",
    "    [[0.0819, 0.0494, 0.0697, 0.0646, 0.0677, 0.0576, 0.0603, 0.0496, 0.0712, 0.0793, 0.0688, 0.0827, 0.0722, 0.0583, 0.0667],\n",
    "    [0.0819, 0.0494, 0.0697, 0.0646, 0.0677, 0.0576, 0.0603, 0.0496, 0.0712, 0.0793, 0.0688, 0.0827, 0.0722, 0.0583, 0.0667],\n",
    "    [0.0819, 0.0494, 0.0697, 0.0646, 0.0677, 0.0576, 0.0603, 0.0496, 0.0712, 0.0793, 0.0688, 0.0827, 0.0722, 0.0583, 0.0667]]\n",
    ")"
   ]
  },
  {
   "cell_type": "code",
   "execution_count": 6,
   "metadata": {},
   "outputs": [],
   "source": [
    "predicted = torch.tensor(\n",
    "    [[0.01, 0.05, 0.02, 0.02, 0.9],\n",
    "    [0.03, 0.1,  0.42, 0.05, 0.4 ]]\n",
    ")"
   ]
  },
  {
   "cell_type": "code",
   "execution_count": 3,
   "metadata": {},
   "outputs": [],
   "source": [
    "actual = torch.tensor(\n",
    "    [[1., 0., 0., 0., 0., 0., 0., 0., 0., 0., 0., 0., 0., 0., 0.],\n",
    "    [1., 0., 0., 0., 0., 0., 0., 0., 0., 0., 0., 0., 0., 0., 0.],\n",
    "    [0., 0., 0., 0., 0., 0., 1., 0., 0., 0., 0., 0., 0., 0., 0.]]\n",
    ")"
   ]
  },
  {
   "cell_type": "code",
   "execution_count": 8,
   "metadata": {},
   "outputs": [],
   "source": [
    "actual = torch.tensor(\n",
    "    [4, 2]\n",
    ")"
   ]
  },
  {
   "cell_type": "code",
   "execution_count": 10,
   "metadata": {},
   "outputs": [],
   "source": [
    "from torch.nn.functional import cross_entropy"
   ]
  },
  {
   "cell_type": "code",
   "execution_count": 53,
   "metadata": {},
   "outputs": [],
   "source": [
    "cross_entropy_custom = lambda p, q: - torch.sum(p * torch.log(q), axis=1)"
   ]
  },
  {
   "cell_type": "code",
   "execution_count": 34,
   "metadata": {},
   "outputs": [
    {
     "data": {
      "text/plain": [
       "tensor([[1., 0., 0., 0., 0., 0., 0., 0., 0., 0., 0., 0., 0., 0., 0.]])"
      ]
     },
     "execution_count": 34,
     "metadata": {},
     "output_type": "execute_result"
    }
   ],
   "source": [
    "actual[:1]"
   ]
  },
  {
   "cell_type": "code",
   "execution_count": 52,
   "metadata": {},
   "outputs": [
    {
     "data": {
      "text/plain": [
       "tensor([1.2197])"
      ]
     },
     "execution_count": 52,
     "metadata": {},
     "output_type": "execute_result"
    }
   ],
   "source": [
    "cross_entropy_custom(actual[2:3], predicted[2:3])"
   ]
  },
  {
   "cell_type": "code",
   "execution_count": 16,
   "metadata": {},
   "outputs": [
    {
     "data": {
      "text/plain": [
       "tensor([4])"
      ]
     },
     "execution_count": 16,
     "metadata": {},
     "output_type": "execute_result"
    }
   ],
   "source": [
    "actual[:1]"
   ]
  },
  {
   "cell_type": "code",
   "execution_count": 17,
   "metadata": {},
   "outputs": [
    {
     "data": {
      "text/plain": [
       "tensor([[0.0100, 0.0500, 0.0200, 0.0200, 0.9000]])"
      ]
     },
     "execution_count": 17,
     "metadata": {},
     "output_type": "execute_result"
    }
   ],
   "source": [
    "predicted[:1]"
   ]
  },
  {
   "cell_type": "code",
   "execution_count": 15,
   "metadata": {},
   "outputs": [
    {
     "data": {
      "text/plain": [
       "tensor(0.9812)"
      ]
     },
     "execution_count": 15,
     "metadata": {},
     "output_type": "execute_result"
    }
   ],
   "source": [
    "cross_entropy(predicted[:1], actual[:1])"
   ]
  },
  {
   "cell_type": "code",
   "execution_count": null,
   "metadata": {},
   "outputs": [],
   "source": []
  },
  {
   "cell_type": "code",
   "execution_count": 2,
   "metadata": {},
   "outputs": [],
   "source": [
    "from gymnasium.wrappers.flatten_observation import FlattenObservation\n",
    "from footsies_gym.envs.footsies import FootsiesEnv\n",
    "from footsies_gym.wrappers.normalization import FootsiesNormalized\n",
    "from footsies_gym.wrappers.action_comb_disc import FootsiesActionCombinationsDiscretized"
   ]
  },
  {
   "cell_type": "code",
   "execution_count": 3,
   "metadata": {},
   "outputs": [],
   "source": [
    "env = FootsiesActionCombinationsDiscretized(\n",
    "    FlattenObservation(\n",
    "        FootsiesNormalized(\n",
    "            FootsiesEnv()\n",
    "        )\n",
    "    )\n",
    ")"
   ]
  },
  {
   "cell_type": "code",
   "execution_count": 4,
   "metadata": {},
   "outputs": [],
   "source": [
    "from main import import_agent, load_agent_model"
   ]
  },
  {
   "cell_type": "code",
   "execution_count": 6,
   "metadata": {},
   "outputs": [],
   "source": [
    "agent = import_agent(\"mimic\", env, {})"
   ]
  },
  {
   "cell_type": "code",
   "execution_count": 7,
   "metadata": {},
   "outputs": [
    {
     "name": "stdout",
     "output_type": "stream",
     "text": [
      "Agent loaded\n"
     ]
    }
   ],
   "source": [
    "load_agent_model(agent, \"mimic\")"
   ]
  },
  {
   "cell_type": "code",
   "execution_count": 8,
   "metadata": {},
   "outputs": [],
   "source": [
    "from agents.mimic.agent import FootsiesAgent as MimicAgent"
   ]
  },
  {
   "cell_type": "code",
   "execution_count": 9,
   "metadata": {},
   "outputs": [],
   "source": [
    "agent: MimicAgent"
   ]
  },
  {
   "cell_type": "code",
   "execution_count": 13,
   "metadata": {},
   "outputs": [
    {
     "data": {
      "text/plain": [
       "Sequential(\n",
       "  (0): Linear(in_features=36, out_features=32, bias=True)\n",
       "  (1): Linear(in_features=32, out_features=15, bias=True)\n",
       "  (2): InputClip()\n",
       "  (3): DebugStoreRecent()\n",
       "  (4): Sigmoid()\n",
       "  (5): DebugStoreRecent()\n",
       ")"
      ]
     },
     "execution_count": 13,
     "metadata": {},
     "output_type": "execute_result"
    }
   ],
   "source": [
    "agent.p1_model.network.layers"
   ]
  },
  {
   "cell_type": "code",
   "execution_count": 14,
   "metadata": {},
   "outputs": [],
   "source": [
    "import torch\n",
    "from torch import nn"
   ]
  },
  {
   "cell_type": "code",
   "execution_count": 17,
   "metadata": {},
   "outputs": [],
   "source": [
    "class SimpleNN(nn.Module):\n",
    "    def __init__(self, i, o):\n",
    "        super().__init__()\n",
    "        self.layers = nn.Sequential(\n",
    "            nn.Linear(i, 4),\n",
    "            nn.Linear(4, o),\n",
    "        )\n",
    "    \n",
    "    def forward(self, x):\n",
    "        return self.layers(x)"
   ]
  },
  {
   "cell_type": "code",
   "execution_count": 18,
   "metadata": {},
   "outputs": [],
   "source": [
    "n = SimpleNN(8, 8)"
   ]
  },
  {
   "cell_type": "code",
   "execution_count": 25,
   "metadata": {},
   "outputs": [
    {
     "data": {
      "text/plain": [
       "SimpleNN(\n",
       "  (layers): Sequential(\n",
       "    (0): Linear(in_features=8, out_features=4, bias=True)\n",
       "    (1): Linear(in_features=4, out_features=8, bias=True)\n",
       "  )\n",
       ")"
      ]
     },
     "execution_count": 25,
     "metadata": {},
     "output_type": "execute_result"
    }
   ],
   "source": [
    "n.requires_grad_(False)"
   ]
  },
  {
   "cell_type": "code",
   "execution_count": 23,
   "metadata": {},
   "outputs": [],
   "source": [
    "x = torch.rand((1, 8))"
   ]
  },
  {
   "cell_type": "code",
   "execution_count": 26,
   "metadata": {},
   "outputs": [
    {
     "data": {
      "text/plain": [
       "tensor([[-0.0357,  0.2117,  0.2518, -0.2706,  0.3531, -0.1332,  0.1393, -0.2218]])"
      ]
     },
     "execution_count": 26,
     "metadata": {},
     "output_type": "execute_result"
    }
   ],
   "source": [
    "n(x)"
   ]
  },
  {
   "cell_type": "code",
   "execution_count": 27,
   "metadata": {},
   "outputs": [
    {
     "data": {
      "text/plain": [
       "tensor([[ 0.0164,  0.2976,  0.3487, -0.2301,  0.2922, -0.1116,  0.3216, -0.2168]])"
      ]
     },
     "execution_count": 27,
     "metadata": {},
     "output_type": "execute_result"
    }
   ],
   "source": [
    "n(n(x))"
   ]
  },
  {
   "cell_type": "code",
   "execution_count": 32,
   "metadata": {},
   "outputs": [
    {
     "data": {
      "text/plain": [
       "torch.Size([4, 8])"
      ]
     },
     "execution_count": 32,
     "metadata": {},
     "output_type": "execute_result"
    }
   ],
   "source": [
    "n.layers[0].weight.shape"
   ]
  },
  {
   "cell_type": "code",
   "execution_count": 51,
   "metadata": {},
   "outputs": [],
   "source": [
    "w0 = n.layers[0].weight\n",
    "w1 = n.layers[1].weight\n",
    "b0 = n.layers[0].bias.unsqueeze(dim=1)\n",
    "b1 = n.layers[1].bias.unsqueeze(dim=1)"
   ]
  },
  {
   "cell_type": "code",
   "execution_count": 53,
   "metadata": {},
   "outputs": [
    {
     "data": {
      "text/plain": [
       "tensor([[-0.0357],\n",
       "        [ 0.2117],\n",
       "        [ 0.2518],\n",
       "        [-0.2706],\n",
       "        [ 0.3531],\n",
       "        [-0.1332],\n",
       "        [ 0.1393],\n",
       "        [-0.2218]])"
      ]
     },
     "execution_count": 53,
     "metadata": {},
     "output_type": "execute_result"
    }
   ],
   "source": [
    "w1 @ (w0 @ x.T + b0) + b1"
   ]
  },
  {
   "cell_type": "code",
   "execution_count": 55,
   "metadata": {},
   "outputs": [
    {
     "data": {
      "text/plain": [
       "tensor([[-0.0357],\n",
       "        [ 0.2117],\n",
       "        [ 0.2518],\n",
       "        [-0.2706],\n",
       "        [ 0.3531],\n",
       "        [-0.1332],\n",
       "        [ 0.1393],\n",
       "        [-0.2218]])"
      ]
     },
     "execution_count": 55,
     "metadata": {},
     "output_type": "execute_result"
    }
   ],
   "source": [
    "w1 @ w0 @ x.T + w1 @ b0 + b1"
   ]
  },
  {
   "cell_type": "markdown",
   "metadata": {},
   "source": [
    "## Game model"
   ]
  },
  {
   "cell_type": "code",
   "execution_count": 90,
   "metadata": {},
   "outputs": [],
   "source": [
    "from agents.game_model.agent import FootsiesAgent as GameModelAgent\n",
    "\n",
    "agent = GameModelAgent(\n",
    "    observation_space_size=36,\n",
    "    action_space_size=9,\n",
    "    by_primitive_actions=False,\n",
    "    by_observation_differences=True,\n",
    "    move_transition_scale=1,\n",
    "    mini_batch_size=1,\n",
    "    learning_rate=0.01,\n",
    "    hidden_layer_sizes_specification=\"128\",\n",
    "    hidden_layer_activation_specification=\"ReLU\",\n",
    ")"
   ]
  },
  {
   "cell_type": "code",
   "execution_count": 91,
   "metadata": {},
   "outputs": [
    {
     "name": "stdout",
     "output_type": "stream",
     "text": [
      "Agent loaded\n"
     ]
    }
   ],
   "source": [
    "from main import load_agent_model\n",
    "\n",
    "load_agent_model(agent, \"game_model_one_layer_2\")"
   ]
  },
  {
   "cell_type": "code",
   "execution_count": 112,
   "metadata": {},
   "outputs": [],
   "source": [
    "weight0 = list(agent.game_model.layers[0].parameters())[0].detach()"
   ]
  },
  {
   "cell_type": "code",
   "execution_count": 108,
   "metadata": {},
   "outputs": [],
   "source": [
    "import matplotlib.pyplot as plt"
   ]
  },
  {
   "cell_type": "code",
   "execution_count": 128,
   "metadata": {},
   "outputs": [
    {
     "data": {
      "text/plain": [
       "tensor([3.0000e+00, 1.6000e+01, 2.9800e+02, 6.4370e+03, 1.4000e+02, 1.1000e+01,\n",
       "        3.0000e+00, 2.0000e+00, 1.0000e+00, 1.0000e+00])"
      ]
     },
     "execution_count": 128,
     "metadata": {},
     "output_type": "execute_result"
    }
   ],
   "source": [
    "torch.histogram(weight0, bins=10).hist"
   ]
  },
  {
   "cell_type": "code",
   "execution_count": 130,
   "metadata": {},
   "outputs": [
    {
     "data": {
      "text/plain": [
       "[<matplotlib.lines.Line2D at 0x7fa0cc8e8a30>]"
      ]
     },
     "execution_count": 130,
     "metadata": {},
     "output_type": "execute_result"
    },
    {
     "data": {
      "image/png": "[encoded data removed]",
      "text/plain": [
       "<Figure size 640x480 with 1 Axes>"
      ]
     },
     "metadata": {},
     "output_type": "display_data"
    }
   ],
   "source": [
    "plt.plot(torch.histogram(weight0, bins=100).hist)"
   ]
  },
  {
   "cell_type": "code",
   "execution_count": 123,
   "metadata": {},
   "outputs": [
    {
     "data": {
      "image/png": "[encoded data removed]",
      "text/plain": [
       "<Figure size 640x480 with 1 Axes>"
      ]
     },
     "metadata": {},
     "output_type": "display_data"
    }
   ],
   "source": [
    "_, _, bar_container = plt.hist(weight0.flatten(), bins=100)"
   ]
  },
  {
   "cell_type": "code",
   "execution_count": 124,
   "metadata": {},
   "outputs": [],
   "source": [
    "bar_container.patches[0].set_height(1500)"
   ]
  },
  {
   "cell_type": "markdown",
   "metadata": {},
   "source": [
    "## Tile coding"
   ]
  },
  {
   "cell_type": "code",
   "execution_count": 89,
   "metadata": {},
   "outputs": [],
   "source": [
    "import torch\n",
    "import numpy as np\n",
    "from dataclasses import dataclass\n",
    "from enum import Enum\n",
    "from functools import reduce\n",
    "\n",
    "\n",
    "class Attribute(Enum):\n",
    "    GUARD_P1 = lambda o: o[\"guard\"][0]\n",
    "    GUARD_P2 = lambda o: o[\"guard\"][1]\n",
    "    MOVE_P1 = lambda o: o[\"move\"][0]\n",
    "    MOVE_P2 = lambda o: o[\"move\"][1]\n",
    "    MOVE_PROGRESS_P1 = lambda o: o[\"move_frame\"][0]\n",
    "    MOVE_PROGRESS_P2 = lambda o: o[\"move_frame\"][1]\n",
    "    POSITION_P1 = lambda o: o[\"position\"][0]\n",
    "    POSITION_P2 = lambda o: o[\"position\"][1]\n",
    "\n",
    "\n",
    "@dataclass\n",
    "class Tiling:\n",
    "    breakpoints:    dict[Attribute, np.ndarray[float]]\n",
    "\n",
    "    @property\n",
    "    def attributes(self) -> list[Attribute]:\n",
    "        return list(self.breakpoints)\n",
    "\n",
    "    @property\n",
    "    def dimensionality(self) -> int:\n",
    "        return len(self.breakpoints)\n",
    "\n",
    "    @property\n",
    "    def tiles(self) -> int:\n",
    "        return reduce(int.__mul__, map(self.tiles_of_attribute, self.breakpoints))\n",
    "\n",
    "    def tiles_of_attribute(self, attribute: Attribute) -> int:\n",
    "        return len(self.breakpoints[attribute]) + 1\n",
    "\n",
    "\n",
    "class TileCoding:\n",
    "    def __init__(\n",
    "        self,\n",
    "        tilings: list[Tiling],\n",
    "    ):\n",
    "        self.tilings = tilings\n",
    "\n",
    "    \n",
    "    def craft_tiling(self, observation: np.ndarray | torch.Tensor, tiling: Tiling) -> torch.Tensor:\n",
    "        res = torch.zeros((1, tiling.tiles), dtype=torch.bool)\n",
    "        \n",
    "        presence = 0\n",
    "        offset = 1\n",
    "\n",
    "        for attribute, breakpoints in tiling.breakpoints.items():\n",
    "            presence += offset * np.sum(breakpoints <= observation[:, attribute.value])\n",
    "            offset *= tiling.tiles_of_attribute(attribute)\n",
    "        \n",
    "        res[0, presence] = True\n",
    "\n",
    "        return res\n",
    "\n",
    "\n",
    "    def transform(self, observation: np.ndarray | torch.Tensor) -> torch.Tensor:\n",
    "        return torch.hstack([\n",
    "            self.craft_tiling(observation, tiling)\n",
    "            for tiling in self.tilings\n",
    "        ])\n"
   ]
  },
  {
   "cell_type": "code",
   "execution_count": 78,
   "metadata": {},
   "outputs": [],
   "source": [
    "coding = TileCoding(\n",
    "    tilings=[\n",
    "        Tiling({\n",
    "            Attribute.GUARD_P1: np.array([0.0, 0.2, 0.4, 0.6, 0.8, 1.0]),\n",
    "        }),\n",
    "        Tiling({\n",
    "            Attribute.GUARD_P1: np.array([0.0, 0.5, 1.0]),\n",
    "            Attribute.GUARD_P2: np.array([0.0, 0.5, 1.0]),\n",
    "        }),\n",
    "    ]\n",
    ")"
   ]
  },
  {
   "cell_type": "code",
   "execution_count": 79,
   "metadata": {},
   "outputs": [
    {
     "data": {
      "text/plain": [
       "array([[0.6, 0.3]])"
      ]
     },
     "execution_count": 79,
     "metadata": {},
     "output_type": "execute_result"
    }
   ],
   "source": [
    "observation = np.array([[\n",
    "    0.6, 0.3\n",
    "]])\n",
    "observation"
   ]
  },
  {
   "cell_type": "code",
   "execution_count": 88,
   "metadata": {},
   "outputs": [
    {
     "name": "stdout",
     "output_type": "stream",
     "text": [
      "3\n",
      "4\n",
      "15\n",
      "16\n"
     ]
    },
    {
     "data": {
      "text/plain": [
       "tensor([[False, False, False, False, False, False, False, False, False, False,\n",
       "         False, False, False, False, False,  True]])"
      ]
     },
     "execution_count": 88,
     "metadata": {},
     "output_type": "execute_result"
    }
   ],
   "source": [
    "coding.craft_tiling(np.array([[\n",
    "    1.0, 1.0\n",
    "]]), coding.tilings[1])"
   ]
  }
 ],
 "metadata": {
  "kernelspec": {
   "display_name": "venv",
   "language": "python",
   "name": "python3"
  },
  "language_info": {
   "codemirror_mode": {
    "name": "ipython",
    "version": 3
   },
   "file_extension": ".py",
   "mimetype": "text/x-python",
   "name": "python",
   "nbconvert_exporter": "python",
   "pygments_lexer": "ipython3",
   "version": "3.10.12"
  }
 },
 "nbformat": 4,
 "nbformat_minor": 2
}
